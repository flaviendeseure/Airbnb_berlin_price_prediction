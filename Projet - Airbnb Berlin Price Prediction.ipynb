{
   "cells": [
      {
         "cell_type": "markdown",
         "id": "c8acec6e",
         "metadata": {},
         "source": [
            "# Airbnb Berlin Price Prediction \n",
            "---\n"
         ]
      },
      {
         "cell_type": "markdown",
         "id": "373a2ccf",
         "metadata": {},
         "source": [
            "### *Table of Contents*\n",
            "- [Exploratory Data Analysis](#eda)\n",
            "- [Preprocessing](#preprocessing)\n",
            "- [Modeling](#modeling)"
         ]
      },
      {
         "cell_type": "code",
         "execution_count": 3,
         "id": "ce9452c5",
         "metadata": {},
         "outputs": [],
         "source": [
            "import pandas as pd\n",
            "import numpy as np\n",
            "\n",
            "#\n",
            "import matplotlib.pyplot as plt\n",
            "\n",
            "#\n",
            "from sklearn.model_selection import train_test_split\n",
            "\n",
            "import os"
         ]
      },
      {
         "cell_type": "markdown",
         "id": "66e6c772",
         "metadata": {},
         "source": [
            "### Import data"
         ]
      },
      {
         "cell_type": "code",
         "execution_count": 4,
         "id": "6f73a303",
         "metadata": {},
         "outputs": [],
         "source": [
            "data_dir = \"data\""
         ]
      },
      {
         "cell_type": "code",
         "execution_count": 5,
         "id": "14d5fd3a",
         "metadata": {},
         "outputs": [],
         "source": [
            "trainset = pd.read_csv('data/train_airbnb_berlin.csv')\n",
            "X_train = trainset.drop(\"Price\", axis=1)\n",
            "y_train = trainset[\"Price\"]"
         ]
      },
      {
         "cell_type": "code",
         "execution_count": null,
         "id": "b22c86f8",
         "metadata": {},
         "outputs": [],
         "source": [
            "import pandas as pd"
         ]
      },
      {
         "cell_type": "code",
         "execution_count": null,
         "id": "0a44990d",
         "metadata": {},
         "outputs": [],
         "source": []
      }
   ],
   "metadata": {
      "kernelspec": {
         "display_name": "Python 3.7.3 ('base')",
         "language": "python",
         "name": "python3"
      },
      "language_info": {
         "codemirror_mode": {
            "name": "ipython",
            "version": 3
         },
         "file_extension": ".py",
         "mimetype": "text/x-python",
         "name": "python",
         "nbconvert_exporter": "python",
         "pygments_lexer": "ipython3",
         "version": "3.7.3"
      },
      "vscode": {
         "interpreter": {
            "hash": "966abac22b8ec828a39f7f902d958c158b2a0f1246f1f3a3aa25e32b94c116e7"
         }
      }
   },
   "nbformat": 4,
   "nbformat_minor": 5
}
