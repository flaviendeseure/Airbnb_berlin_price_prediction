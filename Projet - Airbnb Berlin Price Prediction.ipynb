{
 "cells": [
  {
   "cell_type": "markdown",
   "id": "998c89b6",
   "metadata": {},
   "source": [
    "# AirBnB Berlin Price Prediction"
   ]
  },
  {
   "cell_type": "markdown",
   "id": "1cd68331",
   "metadata": {},
   "source": [
    "## 1. Preprocessing"
   ]
  },
  {
   "cell_type": "markdown",
   "id": "08127ab7",
   "metadata": {},
   "source": []
  }
 ],
 "metadata": {
  "kernelspec": {
   "display_name": "Python 3.8.6 ('env_machine_learning')",
   "language": "python",
   "name": "python3"
  },
  "language_info": {
   "name": "python",
   "version": "3.8.6"
  },
  "vscode": {
   "interpreter": {
    "hash": "ca33f37f329a0eefb9475b79e1ea559233fff104c02f9c32d3610b41caad0a41"
   }
  }
 },
 "nbformat": 4,
 "nbformat_minor": 5
}
