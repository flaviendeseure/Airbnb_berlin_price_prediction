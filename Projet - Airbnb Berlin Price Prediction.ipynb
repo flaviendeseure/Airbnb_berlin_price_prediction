{
 "cells": [
  {
   "cell_type": "markdown",
   "id": "998c89b6",
   "metadata": {},
   "source": [
    "# AirBnB Berlin Price Prediction"
   ]
  },
  {
   "cell_type": "markdown",
   "id": "7806331d",
   "metadata": {},
   "source": [
    "## 0. Import modules"
   ]
  },
  {
   "cell_type": "code",
   "execution_count": 1,
   "id": "fe4546ad",
   "metadata": {},
   "outputs": [],
   "source": [
    "import pandas as pd\n",
    "import numpy as np\n",
    "\n",
    "#\n",
    "import matplotlib.pyplot as plt\n",
    "\n",
    "#\n",
    "from sklearn.model_selection import train_test_split\n",
    "\n",
    "import os"
   ]
  },
  {
   "cell_type": "markdown",
   "id": "1cd68331",
   "metadata": {},
   "source": [
    "## 1. Preprocessing"
   ]
  },
  {
   "cell_type": "markdown",
   "id": "b098dc89",
   "metadata": {},
   "source": [
    "### 1.1 Import des données"
   ]
  },
  {
   "cell_type": "code",
   "execution_count": 3,
   "id": "ddd9076c",
   "metadata": {},
   "outputs": [],
   "source": [
    "trainset = pd.read_csv(os.path.join('data/train_airbnb_berlin.csv'))\n",
    "X_train = trainset.drop(\"Price\", axis=1)\n",
    "y_train = trainset[\"Price\"]"
   ]
  },
  {
   "cell_type": "code",
   "execution_count": null,
   "id": "1f566fa4",
   "metadata": {},
   "outputs": [],
   "source": []
  }
 ],
 "metadata": {
  "kernelspec": {
   "display_name": "Python 3.8.6 ('env_machine_learning')",
   "language": "python",
   "name": "python3"
  },
  "language_info": {
   "codemirror_mode": {
    "name": "ipython",
    "version": 3
   },
   "file_extension": ".py",
   "mimetype": "text/x-python",
   "name": "python",
   "nbconvert_exporter": "python",
   "pygments_lexer": "ipython3",
   "version": "3.8.6"
  },
  "vscode": {
   "interpreter": {
    "hash": "ca33f37f329a0eefb9475b79e1ea559233fff104c02f9c32d3610b41caad0a41"
   }
  }
 },
 "nbformat": 4,
 "nbformat_minor": 5
}
