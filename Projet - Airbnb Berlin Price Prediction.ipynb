{
   "cells": [
      {
         "cell_type": "markdown",
         "id": "c8acec6e",
         "metadata": {},
         "source": [
            "# Airbnb Berlin Price Prediction \n",
            "---\n"
         ]
      },
      {
         "cell_type": "markdown",
         "id": "373a2ccf",
         "metadata": {},
         "source": [
            "### *Table of Contents*\n",
            "- [Exploratory Data Analysis](#eda)\n",
            "- [Preprocessing](#preprocessing)\n",
            "- [Modeling](#modeling)"
         ]
      },
      {
         "cell_type": "code",
         "execution_count": 106,
         "id": "ce9452c5",
         "metadata": {},
         "outputs": [],
         "source": [
            "import pandas as pd\n",
            "import numpy as np\n",
            "\n",
            "#\n",
            "import matplotlib.pyplot as plt\n",
            "\n",
            "#\n",
            "from sklearn.model_selection import train_test_split\n",
            "\n",
            "import os"
         ]
      },
      {
         "cell_type": "markdown",
         "id": "66e6c772",
         "metadata": {},
         "source": [
            "### Import data"
         ]
      },
      {
         "cell_type": "code",
         "execution_count": 107,
         "id": "6f73a303",
         "metadata": {},
         "outputs": [],
         "source": [
            "data_dir = \"data\""
         ]
      },
      {
         "cell_type": "code",
         "execution_count": 108,
         "id": "14d5fd3a",
         "metadata": {},
         "outputs": [],
         "source": [
            "trainset = pd.read_csv('data/train_airbnb_berlin.csv')\n",
            "X_train = trainset.drop(\"Price\", axis=1)\n",
            "y_train = trainset[\"Price\"]"
         ]
      },
      {
         "cell_type": "code",
         "execution_count": 109,
         "id": "b22c86f8",
         "metadata": {},
         "outputs": [
            {
               "data": {
                  "text/plain": [
                     "Index(['Listing ID', 'Listing Name', 'Host ID', 'Host Name', 'Host Since',\n",
                     "       'Host Response Time', 'Host Response Rate', 'Is Superhost',\n",
                     "       'neighbourhood', 'Neighborhood Group', 'City', 'Postal Code',\n",
                     "       'Country Code', 'Country', 'Latitude', 'Longitude', 'Is Exact Location',\n",
                     "       'Property Type', 'Room Type', 'Accomodates', 'Bathrooms', 'Bedrooms',\n",
                     "       'Beds', 'Square Feet', 'Guests Included', 'Min Nights', 'Reviews',\n",
                     "       'First Review', 'Last Review', 'Overall Rating', 'Accuracy Rating',\n",
                     "       'Cleanliness Rating', 'Checkin Rating', 'Communication Rating',\n",
                     "       'Location Rating', 'Value Rating', 'Instant Bookable',\n",
                     "       'Business Travel Ready'],\n",
                     "      dtype='object')"
                  ]
               },
               "execution_count": 109,
               "metadata": {},
               "output_type": "execute_result"
            }
         ],
         "source": [
            "X_train.columns"
         ]
      },
      {
         "cell_type": "code",
         "execution_count": 110,
         "id": "0a44990d",
         "metadata": {},
         "outputs": [],
         "source": [
            "sub_X = X_train[[\"Room Type\", \"Accomodates\", \"Bathrooms\", \"Bedrooms\", \"Beds\", \"Guests Included\", \"Min Nights\"]]"
         ]
      },
      {
         "cell_type": "code",
         "execution_count": 111,
         "id": "1c0d59b0",
         "metadata": {},
         "outputs": [
            {
               "data": {
                  "text/html": [
                     "<div>\n",
                     "<style scoped>\n",
                     "    .dataframe tbody tr th:only-of-type {\n",
                     "        vertical-align: middle;\n",
                     "    }\n",
                     "\n",
                     "    .dataframe tbody tr th {\n",
                     "        vertical-align: top;\n",
                     "    }\n",
                     "\n",
                     "    .dataframe thead th {\n",
                     "        text-align: right;\n",
                     "    }\n",
                     "</style>\n",
                     "<table border=\"1\" class=\"dataframe\">\n",
                     "  <thead>\n",
                     "    <tr style=\"text-align: right;\">\n",
                     "      <th></th>\n",
                     "      <th>Room Type</th>\n",
                     "      <th>Accomodates</th>\n",
                     "      <th>Bathrooms</th>\n",
                     "      <th>Bedrooms</th>\n",
                     "      <th>Beds</th>\n",
                     "      <th>Guests Included</th>\n",
                     "      <th>Min Nights</th>\n",
                     "    </tr>\n",
                     "  </thead>\n",
                     "  <tbody>\n",
                     "    <tr>\n",
                     "      <th>0</th>\n",
                     "      <td>Private room</td>\n",
                     "      <td>2</td>\n",
                     "      <td>1.0</td>\n",
                     "      <td>1.0</td>\n",
                     "      <td>1.0</td>\n",
                     "      <td>1</td>\n",
                     "      <td>2</td>\n",
                     "    </tr>\n",
                     "    <tr>\n",
                     "      <th>1</th>\n",
                     "      <td>Entire home/apt</td>\n",
                     "      <td>2</td>\n",
                     "      <td>1.0</td>\n",
                     "      <td>2.0</td>\n",
                     "      <td>2.0</td>\n",
                     "      <td>2</td>\n",
                     "      <td>7</td>\n",
                     "    </tr>\n",
                     "    <tr>\n",
                     "      <th>2</th>\n",
                     "      <td>Entire home/apt</td>\n",
                     "      <td>3</td>\n",
                     "      <td>1.0</td>\n",
                     "      <td>1.0</td>\n",
                     "      <td>2.0</td>\n",
                     "      <td>1</td>\n",
                     "      <td>1</td>\n",
                     "    </tr>\n",
                     "    <tr>\n",
                     "      <th>3</th>\n",
                     "      <td>Private room</td>\n",
                     "      <td>2</td>\n",
                     "      <td>1.0</td>\n",
                     "      <td>1.0</td>\n",
                     "      <td>1.0</td>\n",
                     "      <td>1</td>\n",
                     "      <td>2</td>\n",
                     "    </tr>\n",
                     "    <tr>\n",
                     "      <th>4</th>\n",
                     "      <td>Private room</td>\n",
                     "      <td>3</td>\n",
                     "      <td>1.0</td>\n",
                     "      <td>1.0</td>\n",
                     "      <td>2.0</td>\n",
                     "      <td>1</td>\n",
                     "      <td>6</td>\n",
                     "    </tr>\n",
                     "  </tbody>\n",
                     "</table>\n",
                     "</div>"
                  ],
                  "text/plain": [
                     "         Room Type Accomodates Bathrooms Bedrooms Beds Guests Included  \\\n",
                     "0     Private room           2       1.0      1.0  1.0               1   \n",
                     "1  Entire home/apt           2       1.0      2.0  2.0               2   \n",
                     "2  Entire home/apt           3       1.0      1.0  2.0               1   \n",
                     "3     Private room           2       1.0      1.0  1.0               1   \n",
                     "4     Private room           3       1.0      1.0  2.0               1   \n",
                     "\n",
                     "  Min Nights  \n",
                     "0          2  \n",
                     "1          7  \n",
                     "2          1  \n",
                     "3          2  \n",
                     "4          6  "
                  ]
               },
               "execution_count": 111,
               "metadata": {},
               "output_type": "execute_result"
            }
         ],
         "source": [
            "sub_X.head()"
         ]
      },
      {
         "cell_type": "code",
         "execution_count": 112,
         "id": "1b942271",
         "metadata": {},
         "outputs": [
            {
               "name": "stdout",
               "output_type": "stream",
               "text": [
                  "<class 'pandas.core.frame.DataFrame'>\n",
                  "RangeIndex: 15692 entries, 0 to 15691\n",
                  "Data columns (total 7 columns):\n",
                  "Room Type          15692 non-null object\n",
                  "Accomodates        15692 non-null object\n",
                  "Bathrooms          15678 non-null object\n",
                  "Bedrooms           15687 non-null object\n",
                  "Beds               15684 non-null object\n",
                  "Guests Included    15692 non-null object\n",
                  "Min Nights         15692 non-null object\n",
                  "dtypes: object(7)\n",
                  "memory usage: 429.1+ KB\n"
               ]
            }
         ],
         "source": [
            "sub_X.info()"
         ]
      },
      {
         "cell_type": "code",
         "execution_count": 113,
         "id": "badc81d1",
         "metadata": {},
         "outputs": [
            {
               "name": "stdout",
               "output_type": "stream",
               "text": [
                  "Nombre de NaN spéciaux dans la colonne Room Type : 0\n",
                  "Nombre de NaN spéciaux dans la colonne Accomodates : 0\n",
                  "Nombre de NaN spéciaux dans la colonne Bathrooms : 14\n",
                  "Nombre de NaN spéciaux dans la colonne Bedrooms : 5\n",
                  "Nombre de NaN spéciaux dans la colonne Beds : 8\n",
                  "Nombre de NaN spéciaux dans la colonne Guests Included : 0\n",
                  "Nombre de NaN spéciaux dans la colonne Min Nights : 0\n"
               ]
            }
         ],
         "source": [
            "cpt=0\n",
            "carac_spec=[];\n",
            "\n",
            "for col in sub_X:\n",
            "    for el in sub_X[col].values:\n",
            "        if type(el) != str:\n",
            "            cpt+=1\n",
            "            carac_spec.append(el)\n",
            "    print(\"Nombre de NaN spéciaux dans la colonne\", col, \":\" ,cpt)\n",
            "    cpt = 0\n"
         ]
      },
      {
         "cell_type": "code",
         "execution_count": 114,
         "id": "ba7b5ca0",
         "metadata": {},
         "outputs": [
            {
               "name": "stdout",
               "output_type": "stream",
               "text": [
                  "Nombre de * spéciaux dans la colonne Room Type : 0\n",
                  "Nombre de * spéciaux dans la colonne Accomodates : 19\n",
                  "Nombre de * spéciaux dans la colonne Bathrooms : 11\n",
                  "Nombre de * spéciaux dans la colonne Bedrooms : 11\n",
                  "Nombre de * spéciaux dans la colonne Beds : 12\n",
                  "Nombre de * spéciaux dans la colonne Guests Included : 10\n",
                  "Nombre de * spéciaux dans la colonne Min Nights : 249\n"
               ]
            }
         ],
         "source": [
            "cpt=0\n",
            "carac_spec=[];\n",
            "\n",
            "for col in sub_X:\n",
            "    for el in sub_X[col].values:\n",
            "        if el == '*':\n",
            "            cpt+=1\n",
            "            carac_spec.append(el)\n",
            "    print(\"Nombre de * spéciaux dans la colonne\", col, \":\" ,cpt)\n",
            "    cpt = 0\n"
         ]
      },
      {
         "cell_type": "code",
         "execution_count": 116,
         "id": "3c94b4bf",
         "metadata": {},
         "outputs": [],
         "source": [
            "sub_X=sub_X.replace('*', np.nan);\n",
            "sub_X.dropna();"
         ]
      },
      {
         "cell_type": "code",
         "execution_count": 117,
         "id": "125dfb06",
         "metadata": {},
         "outputs": [
            {
               "data": {
                  "text/html": [
                     "<div>\n",
                     "<style scoped>\n",
                     "    .dataframe tbody tr th:only-of-type {\n",
                     "        vertical-align: middle;\n",
                     "    }\n",
                     "\n",
                     "    .dataframe tbody tr th {\n",
                     "        vertical-align: top;\n",
                     "    }\n",
                     "\n",
                     "    .dataframe thead th {\n",
                     "        text-align: right;\n",
                     "    }\n",
                     "</style>\n",
                     "<table border=\"1\" class=\"dataframe\">\n",
                     "  <thead>\n",
                     "    <tr style=\"text-align: right;\">\n",
                     "      <th></th>\n",
                     "      <th>Room Type</th>\n",
                     "      <th>Accomodates</th>\n",
                     "      <th>Bathrooms</th>\n",
                     "      <th>Bedrooms</th>\n",
                     "      <th>Beds</th>\n",
                     "      <th>Guests Included</th>\n",
                     "      <th>Min Nights</th>\n",
                     "    </tr>\n",
                     "  </thead>\n",
                     "  <tbody>\n",
                     "  </tbody>\n",
                     "</table>\n",
                     "</div>"
                  ],
                  "text/plain": [
                     "Empty DataFrame\n",
                     "Columns: [Room Type, Accomodates, Bathrooms, Bedrooms, Beds, Guests Included, Min Nights]\n",
                     "Index: []"
                  ]
               },
               "execution_count": 117,
               "metadata": {},
               "output_type": "execute_result"
            }
         ],
         "source": [
            "sub_X.loc[sub_X['Accomodates'] == '*']"
         ]
      },
      {
         "cell_type": "code",
         "execution_count": 118,
         "id": "fe498fcb",
         "metadata": {},
         "outputs": [],
         "source": [
            "sub_X[[\"Accomodates\", \"Bathrooms\", \"Bedrooms\", \"Beds\", \"Guests Included\", \"Min Nights\"]] = sub_X[[\"Accomodates\", \"Bathrooms\", \"Bedrooms\", \"Beds\", \"Guests Included\", \"Min Nights\"]].astype(float)"
         ]
      },
      {
         "cell_type": "code",
         "execution_count": 119,
         "id": "50ebceeb",
         "metadata": {},
         "outputs": [
            {
               "data": {
                  "text/html": [
                     "<div>\n",
                     "<style scoped>\n",
                     "    .dataframe tbody tr th:only-of-type {\n",
                     "        vertical-align: middle;\n",
                     "    }\n",
                     "\n",
                     "    .dataframe tbody tr th {\n",
                     "        vertical-align: top;\n",
                     "    }\n",
                     "\n",
                     "    .dataframe thead th {\n",
                     "        text-align: right;\n",
                     "    }\n",
                     "</style>\n",
                     "<table border=\"1\" class=\"dataframe\">\n",
                     "  <thead>\n",
                     "    <tr style=\"text-align: right;\">\n",
                     "      <th></th>\n",
                     "      <th>Accomodates</th>\n",
                     "      <th>Bathrooms</th>\n",
                     "      <th>Bedrooms</th>\n",
                     "      <th>Beds</th>\n",
                     "      <th>Guests Included</th>\n",
                     "      <th>Min Nights</th>\n",
                     "    </tr>\n",
                     "  </thead>\n",
                     "  <tbody>\n",
                     "    <tr>\n",
                     "      <th>count</th>\n",
                     "      <td>15673.000000</td>\n",
                     "      <td>15667.000000</td>\n",
                     "      <td>15676.00000</td>\n",
                     "      <td>15672.000000</td>\n",
                     "      <td>15682.000000</td>\n",
                     "      <td>15443.000000</td>\n",
                     "    </tr>\n",
                     "    <tr>\n",
                     "      <th>mean</th>\n",
                     "      <td>2.623301</td>\n",
                     "      <td>1.087732</td>\n",
                     "      <td>1.14385</td>\n",
                     "      <td>1.593925</td>\n",
                     "      <td>1.320750</td>\n",
                     "      <td>5.646247</td>\n",
                     "    </tr>\n",
                     "    <tr>\n",
                     "      <th>std</th>\n",
                     "      <td>1.401659</td>\n",
                     "      <td>0.277762</td>\n",
                     "      <td>0.61427</td>\n",
                     "      <td>1.071550</td>\n",
                     "      <td>0.718475</td>\n",
                     "      <td>14.458952</td>\n",
                     "    </tr>\n",
                     "    <tr>\n",
                     "      <th>min</th>\n",
                     "      <td>1.000000</td>\n",
                     "      <td>0.000000</td>\n",
                     "      <td>0.00000</td>\n",
                     "      <td>0.000000</td>\n",
                     "      <td>1.000000</td>\n",
                     "      <td>1.000000</td>\n",
                     "    </tr>\n",
                     "    <tr>\n",
                     "      <th>25%</th>\n",
                     "      <td>2.000000</td>\n",
                     "      <td>1.000000</td>\n",
                     "      <td>1.00000</td>\n",
                     "      <td>1.000000</td>\n",
                     "      <td>1.000000</td>\n",
                     "      <td>2.000000</td>\n",
                     "    </tr>\n",
                     "    <tr>\n",
                     "      <th>50%</th>\n",
                     "      <td>2.000000</td>\n",
                     "      <td>1.000000</td>\n",
                     "      <td>1.00000</td>\n",
                     "      <td>1.000000</td>\n",
                     "      <td>1.000000</td>\n",
                     "      <td>3.000000</td>\n",
                     "    </tr>\n",
                     "    <tr>\n",
                     "      <th>75%</th>\n",
                     "      <td>3.000000</td>\n",
                     "      <td>1.000000</td>\n",
                     "      <td>1.00000</td>\n",
                     "      <td>2.000000</td>\n",
                     "      <td>1.000000</td>\n",
                     "      <td>4.000000</td>\n",
                     "    </tr>\n",
                     "    <tr>\n",
                     "      <th>max</th>\n",
                     "      <td>16.000000</td>\n",
                     "      <td>3.000000</td>\n",
                     "      <td>5.00000</td>\n",
                     "      <td>10.000000</td>\n",
                     "      <td>8.000000</td>\n",
                     "      <td>180.000000</td>\n",
                     "    </tr>\n",
                     "  </tbody>\n",
                     "</table>\n",
                     "</div>"
                  ],
                  "text/plain": [
                     "        Accomodates     Bathrooms     Bedrooms          Beds  Guests Included  \\\n",
                     "count  15673.000000  15667.000000  15676.00000  15672.000000     15682.000000   \n",
                     "mean       2.623301      1.087732      1.14385      1.593925         1.320750   \n",
                     "std        1.401659      0.277762      0.61427      1.071550         0.718475   \n",
                     "min        1.000000      0.000000      0.00000      0.000000         1.000000   \n",
                     "25%        2.000000      1.000000      1.00000      1.000000         1.000000   \n",
                     "50%        2.000000      1.000000      1.00000      1.000000         1.000000   \n",
                     "75%        3.000000      1.000000      1.00000      2.000000         1.000000   \n",
                     "max       16.000000      3.000000      5.00000     10.000000         8.000000   \n",
                     "\n",
                     "         Min Nights  \n",
                     "count  15443.000000  \n",
                     "mean       5.646247  \n",
                     "std       14.458952  \n",
                     "min        1.000000  \n",
                     "25%        2.000000  \n",
                     "50%        3.000000  \n",
                     "75%        4.000000  \n",
                     "max      180.000000  "
                  ]
               },
               "execution_count": 119,
               "metadata": {},
               "output_type": "execute_result"
            }
         ],
         "source": [
            "sub_X.describe()"
         ]
      },
      {
         "cell_type": "code",
         "execution_count": 120,
         "id": "431de796",
         "metadata": {},
         "outputs": [
            {
               "data": {
                  "image/png": "[encoded data removed]",
                  "text/plain": [
                     "<Figure size 1440x1080 with 6 Axes>"
                  ]
               },
               "metadata": {
                  "needs_background": "light"
               },
               "output_type": "display_data"
            }
         ],
         "source": [
            "sub_X.hist(bins=50, figsize=(20, 15))\n",
            "plt.show()"
         ]
      },
      {
         "cell_type": "code",
         "execution_count": 121,
         "id": "0f27fe7f",
         "metadata": {},
         "outputs": [],
         "source": [
            "X_copy = sub_X.copy()\n",
            "corr_matrix = sub_X.corr()"
         ]
      },
      {
         "cell_type": "code",
         "execution_count": 122,
         "id": "d90c5d73",
         "metadata": {},
         "outputs": [
            {
               "data": {
                  "text/html": [
                     "<div>\n",
                     "<style scoped>\n",
                     "    .dataframe tbody tr th:only-of-type {\n",
                     "        vertical-align: middle;\n",
                     "    }\n",
                     "\n",
                     "    .dataframe tbody tr th {\n",
                     "        vertical-align: top;\n",
                     "    }\n",
                     "\n",
                     "    .dataframe thead th {\n",
                     "        text-align: right;\n",
                     "    }\n",
                     "</style>\n",
                     "<table border=\"1\" class=\"dataframe\">\n",
                     "  <thead>\n",
                     "    <tr style=\"text-align: right;\">\n",
                     "      <th></th>\n",
                     "      <th>Accomodates</th>\n",
                     "      <th>Bathrooms</th>\n",
                     "      <th>Bedrooms</th>\n",
                     "      <th>Beds</th>\n",
                     "      <th>Guests Included</th>\n",
                     "      <th>Min Nights</th>\n",
                     "    </tr>\n",
                     "  </thead>\n",
                     "  <tbody>\n",
                     "    <tr>\n",
                     "      <th>Accomodates</th>\n",
                     "      <td>1.000000</td>\n",
                     "      <td>0.240741</td>\n",
                     "      <td>0.615456</td>\n",
                     "      <td>0.784364</td>\n",
                     "      <td>0.511068</td>\n",
                     "      <td>0.002251</td>\n",
                     "    </tr>\n",
                     "    <tr>\n",
                     "      <th>Bathrooms</th>\n",
                     "      <td>0.240741</td>\n",
                     "      <td>1.000000</td>\n",
                     "      <td>0.309012</td>\n",
                     "      <td>0.257176</td>\n",
                     "      <td>0.163744</td>\n",
                     "      <td>-0.012977</td>\n",
                     "    </tr>\n",
                     "    <tr>\n",
                     "      <th>Bedrooms</th>\n",
                     "      <td>0.615456</td>\n",
                     "      <td>0.309012</td>\n",
                     "      <td>1.000000</td>\n",
                     "      <td>0.600645</td>\n",
                     "      <td>0.380123</td>\n",
                     "      <td>0.012787</td>\n",
                     "    </tr>\n",
                     "    <tr>\n",
                     "      <th>Beds</th>\n",
                     "      <td>0.784364</td>\n",
                     "      <td>0.257176</td>\n",
                     "      <td>0.600645</td>\n",
                     "      <td>1.000000</td>\n",
                     "      <td>0.452978</td>\n",
                     "      <td>0.014827</td>\n",
                     "    </tr>\n",
                     "    <tr>\n",
                     "      <th>Guests Included</th>\n",
                     "      <td>0.511068</td>\n",
                     "      <td>0.163744</td>\n",
                     "      <td>0.380123</td>\n",
                     "      <td>0.452978</td>\n",
                     "      <td>1.000000</td>\n",
                     "      <td>0.008337</td>\n",
                     "    </tr>\n",
                     "    <tr>\n",
                     "      <th>Min Nights</th>\n",
                     "      <td>0.002251</td>\n",
                     "      <td>-0.012977</td>\n",
                     "      <td>0.012787</td>\n",
                     "      <td>0.014827</td>\n",
                     "      <td>0.008337</td>\n",
                     "      <td>1.000000</td>\n",
                     "    </tr>\n",
                     "  </tbody>\n",
                     "</table>\n",
                     "</div>"
                  ],
                  "text/plain": [
                     "                 Accomodates  Bathrooms  Bedrooms      Beds  Guests Included  \\\n",
                     "Accomodates         1.000000   0.240741  0.615456  0.784364         0.511068   \n",
                     "Bathrooms           0.240741   1.000000  0.309012  0.257176         0.163744   \n",
                     "Bedrooms            0.615456   0.309012  1.000000  0.600645         0.380123   \n",
                     "Beds                0.784364   0.257176  0.600645  1.000000         0.452978   \n",
                     "Guests Included     0.511068   0.163744  0.380123  0.452978         1.000000   \n",
                     "Min Nights          0.002251  -0.012977  0.012787  0.014827         0.008337   \n",
                     "\n",
                     "                 Min Nights  \n",
                     "Accomodates        0.002251  \n",
                     "Bathrooms         -0.012977  \n",
                     "Bedrooms           0.012787  \n",
                     "Beds               0.014827  \n",
                     "Guests Included    0.008337  \n",
                     "Min Nights         1.000000  "
                  ]
               },
               "execution_count": 122,
               "metadata": {},
               "output_type": "execute_result"
            }
         ],
         "source": [
            "corr_matrix"
         ]
      },
      {
         "cell_type": "code",
         "execution_count": null,
         "id": "4a0e55cb",
         "metadata": {},
         "outputs": [],
         "source": []
      }
   ],
   "metadata": {
      "kernelspec": {
         "display_name": "Python 3.7.3 ('base')",
         "language": "python",
         "name": "python3"
      },
      "language_info": {
         "codemirror_mode": {
            "name": "ipython",
            "version": 3
         },
         "file_extension": ".py",
         "mimetype": "text/x-python",
         "name": "python",
         "nbconvert_exporter": "python",
         "pygments_lexer": "ipython3",
         "version": "3.7.3"
      },
      "vscode": {
         "interpreter": {
            "hash": "966abac22b8ec828a39f7f902d958c158b2a0f1246f1f3a3aa25e32b94c116e7"
         }
      }
   },
   "nbformat": 4,
   "nbformat_minor": 5
}
