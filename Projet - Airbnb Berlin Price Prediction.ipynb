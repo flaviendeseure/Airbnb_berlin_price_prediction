{
   "cells": [
      {
         "cell_type": "markdown",
         "id": "c8acec6e",
         "metadata": {},
         "source": [
            "# Airbnb Berlin Price Prediction \n",
            "---\n"
         ]
      },
      {
         "cell_type": "markdown",
         "id": "373a2ccf",
         "metadata": {},
         "source": [
            "### *Table of Contents*\n",
            "- [Exploratory Data Analysis](#eda)\n",
            "- [Preprocessing](#preprocessing)\n",
            "- [Modeling](#modeling)"
         ]
      },
      {
         "cell_type": "code",
         "execution_count": 406,
         "id": "ce9452c5",
         "metadata": {},
         "outputs": [],
         "source": [
            "import pandas as pd\n",
            "import numpy as np\n",
            "\n",
            "#\n",
            "import matplotlib.pyplot as plt\n",
            "\n",
            "#\n",
            "from sklearn.model_selection import train_test_split\n",
            "from sklearn.datasets import make_regression\n",
            "\n",
            "import os"
         ]
      },
      {
         "cell_type": "markdown",
         "id": "66e6c772",
         "metadata": {},
         "source": [
            "### Import data"
         ]
      },
      {
         "cell_type": "code",
         "execution_count": 407,
         "id": "6f73a303",
         "metadata": {},
         "outputs": [],
         "source": [
            "data_dir = \"data\""
         ]
      },
      {
         "cell_type": "code",
         "execution_count": 408,
         "id": "14d5fd3a",
         "metadata": {},
         "outputs": [
            {
               "name": "stdout",
               "output_type": "stream",
               "text": [
                  "(15692, 39)\n"
               ]
            }
         ],
         "source": [
            "trainset = pd.read_csv('data/train_airbnb_berlin.csv')\n",
            "print(trainset.shape)"
         ]
      },
      {
         "cell_type": "code",
         "execution_count": 409,
         "id": "308c45eb",
         "metadata": {},
         "outputs": [
            {
               "name": "stdout",
               "output_type": "stream",
               "text": [
                  "(7842, 38)\n"
               ]
            }
         ],
         "source": [
            "X_test = pd.read_csv('data/test_airbnb_berlin.csv')\n",
            "print(X_test.shape)"
         ]
      },
      {
         "cell_type": "markdown",
         "id": "d9ebb61d",
         "metadata": {},
         "source": [
            "### Extracting the room features"
         ]
      },
      {
         "cell_type": "code",
         "execution_count": 410,
         "id": "b22c86f8",
         "metadata": {},
         "outputs": [
            {
               "data": {
                  "text/plain": [
                     "Index(['Listing ID', 'Listing Name', 'Host ID', 'Host Name', 'Host Since',\n",
                     "       'Host Response Time', 'Host Response Rate', 'Is Superhost',\n",
                     "       'neighbourhood', 'Neighborhood Group', 'City', 'Postal Code',\n",
                     "       'Country Code', 'Country', 'Latitude', 'Longitude', 'Is Exact Location',\n",
                     "       'Property Type', 'Room Type', 'Accomodates', 'Bathrooms', 'Bedrooms',\n",
                     "       'Beds', 'Square Feet', 'Guests Included', 'Min Nights', 'Reviews',\n",
                     "       'First Review', 'Last Review', 'Overall Rating', 'Accuracy Rating',\n",
                     "       'Cleanliness Rating', 'Checkin Rating', 'Communication Rating',\n",
                     "       'Location Rating', 'Value Rating', 'Instant Bookable',\n",
                     "       'Business Travel Ready', 'Price'],\n",
                     "      dtype='object')"
                  ]
               },
               "execution_count": 410,
               "metadata": {},
               "output_type": "execute_result"
            }
         ],
         "source": [
            "trainset.columns"
         ]
      },
      {
         "cell_type": "code",
         "execution_count": 411,
         "id": "0a44990d",
         "metadata": {},
         "outputs": [
            {
               "name": "stdout",
               "output_type": "stream",
               "text": [
                  "(15692, 8)\n"
               ]
            }
         ],
         "source": [
            "#Extraction de mes 7 features a analyser + prix\n",
            "rooms = trainset[[\"Room Type\", \"Accomodates\", \"Bathrooms\", \"Bedrooms\", \"Beds\", \"Guests Included\", \"Min Nights\", \"Price\"]]\n",
            "print(rooms.shape)"
         ]
      },
      {
         "cell_type": "code",
         "execution_count": 412,
         "id": "1c0d59b0",
         "metadata": {},
         "outputs": [
            {
               "data": {
                  "text/html": [
                     "<div>\n",
                     "<style scoped>\n",
                     "    .dataframe tbody tr th:only-of-type {\n",
                     "        vertical-align: middle;\n",
                     "    }\n",
                     "\n",
                     "    .dataframe tbody tr th {\n",
                     "        vertical-align: top;\n",
                     "    }\n",
                     "\n",
                     "    .dataframe thead th {\n",
                     "        text-align: right;\n",
                     "    }\n",
                     "</style>\n",
                     "<table border=\"1\" class=\"dataframe\">\n",
                     "  <thead>\n",
                     "    <tr style=\"text-align: right;\">\n",
                     "      <th></th>\n",
                     "      <th>Room Type</th>\n",
                     "      <th>Accomodates</th>\n",
                     "      <th>Bathrooms</th>\n",
                     "      <th>Bedrooms</th>\n",
                     "      <th>Beds</th>\n",
                     "      <th>Guests Included</th>\n",
                     "      <th>Min Nights</th>\n",
                     "      <th>Price</th>\n",
                     "    </tr>\n",
                     "  </thead>\n",
                     "  <tbody>\n",
                     "    <tr>\n",
                     "      <th>0</th>\n",
                     "      <td>Private room</td>\n",
                     "      <td>2</td>\n",
                     "      <td>1.0</td>\n",
                     "      <td>1.0</td>\n",
                     "      <td>1.0</td>\n",
                     "      <td>1</td>\n",
                     "      <td>2</td>\n",
                     "      <td>26.0</td>\n",
                     "    </tr>\n",
                     "    <tr>\n",
                     "      <th>1</th>\n",
                     "      <td>Entire home/apt</td>\n",
                     "      <td>2</td>\n",
                     "      <td>1.0</td>\n",
                     "      <td>2.0</td>\n",
                     "      <td>2.0</td>\n",
                     "      <td>2</td>\n",
                     "      <td>7</td>\n",
                     "      <td>41.0</td>\n",
                     "    </tr>\n",
                     "    <tr>\n",
                     "      <th>2</th>\n",
                     "      <td>Entire home/apt</td>\n",
                     "      <td>3</td>\n",
                     "      <td>1.0</td>\n",
                     "      <td>1.0</td>\n",
                     "      <td>2.0</td>\n",
                     "      <td>1</td>\n",
                     "      <td>1</td>\n",
                     "      <td>50.0</td>\n",
                     "    </tr>\n",
                     "    <tr>\n",
                     "      <th>3</th>\n",
                     "      <td>Private room</td>\n",
                     "      <td>2</td>\n",
                     "      <td>1.0</td>\n",
                     "      <td>1.0</td>\n",
                     "      <td>1.0</td>\n",
                     "      <td>1</td>\n",
                     "      <td>2</td>\n",
                     "      <td>50.0</td>\n",
                     "    </tr>\n",
                     "    <tr>\n",
                     "      <th>4</th>\n",
                     "      <td>Private room</td>\n",
                     "      <td>3</td>\n",
                     "      <td>1.0</td>\n",
                     "      <td>1.0</td>\n",
                     "      <td>2.0</td>\n",
                     "      <td>1</td>\n",
                     "      <td>6</td>\n",
                     "      <td>55.0</td>\n",
                     "    </tr>\n",
                     "  </tbody>\n",
                     "</table>\n",
                     "</div>"
                  ],
                  "text/plain": [
                     "         Room Type Accomodates Bathrooms Bedrooms Beds Guests Included  \\\n",
                     "0     Private room           2       1.0      1.0  1.0               1   \n",
                     "1  Entire home/apt           2       1.0      2.0  2.0               2   \n",
                     "2  Entire home/apt           3       1.0      1.0  2.0               1   \n",
                     "3     Private room           2       1.0      1.0  1.0               1   \n",
                     "4     Private room           3       1.0      1.0  2.0               1   \n",
                     "\n",
                     "  Min Nights  Price  \n",
                     "0          2   26.0  \n",
                     "1          7   41.0  \n",
                     "2          1   50.0  \n",
                     "3          2   50.0  \n",
                     "4          6   55.0  "
                  ]
               },
               "execution_count": 412,
               "metadata": {},
               "output_type": "execute_result"
            }
         ],
         "source": [
            "rooms.head()"
         ]
      },
      {
         "cell_type": "code",
         "execution_count": 413,
         "id": "1b942271",
         "metadata": {},
         "outputs": [
            {
               "name": "stdout",
               "output_type": "stream",
               "text": [
                  "<class 'pandas.core.frame.DataFrame'>\n",
                  "RangeIndex: 15692 entries, 0 to 15691\n",
                  "Data columns (total 8 columns):\n",
                  " #   Column           Non-Null Count  Dtype  \n",
                  "---  ------           --------------  -----  \n",
                  " 0   Room Type        15692 non-null  object \n",
                  " 1   Accomodates      15692 non-null  object \n",
                  " 2   Bathrooms        15678 non-null  object \n",
                  " 3   Bedrooms         15687 non-null  object \n",
                  " 4   Beds             15684 non-null  object \n",
                  " 5   Guests Included  15692 non-null  object \n",
                  " 6   Min Nights       15692 non-null  object \n",
                  " 7   Price            15683 non-null  float64\n",
                  "dtypes: float64(1), object(7)\n",
                  "memory usage: 980.9+ KB\n"
               ]
            }
         ],
         "source": [
            "rooms.info()"
         ]
      },
      {
         "cell_type": "markdown",
         "id": "f326be7f",
         "metadata": {},
         "source": [
            "### Handling missing values"
         ]
      },
      {
         "cell_type": "code",
         "execution_count": 414,
         "id": "26270e3e",
         "metadata": {},
         "outputs": [
            {
               "name": "stdout",
               "output_type": "stream",
               "text": [
                  "Bathrooms    14\n",
                  "Price         9\n",
                  "Beds          8\n",
                  "Bedrooms      5\n",
                  "dtype: int64\n",
                  "Total : 36\n"
               ]
            }
         ],
         "source": [
            "#Valeurs manquantes\n",
            "rooms_na = rooms.isna().sum()\n",
            "print(rooms_na[rooms_na.values > 0].sort_values(ascending=False))\n",
            "print(\"Total :\", rooms_na.sum())"
         ]
      },
      {
         "cell_type": "code",
         "execution_count": 415,
         "id": "ba7b5ca0",
         "metadata": {},
         "outputs": [
            {
               "name": "stdout",
               "output_type": "stream",
               "text": [
                  "Accomodates : 19\n",
                  "Bathrooms : 11\n",
                  "Bedrooms : 11\n",
                  "Beds : 12\n",
                  "Guests Included : 10\n",
                  "Min Nights : 249\n",
                  "Total : 312\n"
               ]
            }
         ],
         "source": [
            "#Valeurs étoiles\n",
            "cpt=0\n",
            "sum = 0\n",
            "carac_spec=[];\n",
            "\n",
            "for col in rooms:\n",
            "    for el in rooms[col].values:\n",
            "        if el == '*':\n",
            "            cpt+=1\n",
            "            carac_spec.append(el)\n",
            "    if cpt != 0:\n",
            "        print(col, \":\" ,cpt)\n",
            "    sum += cpt\n",
            "    cpt = 0\n",
            "print(\"Total :\", sum)"
         ]
      },
      {
         "cell_type": "markdown",
         "id": "fbb987d3",
         "metadata": {},
         "source": [
            "Regarder correlation avec et sans"
         ]
      },
      {
         "cell_type": "markdown",
         "id": "7a428dad",
         "metadata": {},
         "source": [
            "Pas d'étoile dans la colonne prix.\n",
            "Il pourrait s'agir d'un indicateur servant à préciser que l'info pour une feature donnée n'est pas présente sur le site"
         ]
      },
      {
         "cell_type": "code",
         "execution_count": 416,
         "id": "3c94b4bf",
         "metadata": {},
         "outputs": [],
         "source": [
            "## Stockage tableau avec étoiles\n",
            "etoiles = rooms.copy()\n",
            "#Remplacement étoiles\n",
            "rooms=rooms.replace('*', np.nan);\n",
            "#Drop missing values\n",
            "rooms=rooms.dropna();"
         ]
      },
      {
         "cell_type": "markdown",
         "id": "69b8b5f2",
         "metadata": {},
         "source": [
            "### Type Conversion"
         ]
      },
      {
         "cell_type": "code",
         "execution_count": 417,
         "id": "f8227bd1",
         "metadata": {},
         "outputs": [],
         "source": [
            "#Conversion en flottants\n",
            "rooms[[ \"Accomodates\", \"Bathrooms\", \"Bedrooms\", \"Beds\", \"Guests Included\", \"Min Nights\"]] = rooms[[\"Accomodates\", \"Bathrooms\", \"Bedrooms\", \"Beds\", \"Guests Included\", \"Min Nights\"]].astype(float)"
         ]
      },
      {
         "cell_type": "markdown",
         "id": "872fd58d",
         "metadata": {},
         "source": [
            "### Number of rooms"
         ]
      },
      {
         "cell_type": "markdown",
         "id": "c97374af",
         "metadata": {},
         "source": [
            "#### Bedrooms"
         ]
      },
      {
         "cell_type": "code",
         "execution_count": 418,
         "id": "300e966b",
         "metadata": {},
         "outputs": [
            {
               "name": "stdout",
               "output_type": "stream",
               "text": [
                  "Bedrooms\n",
                  "0.0     58.350846\n",
                  "1.0     50.039869\n",
                  "2.0     94.427880\n",
                  "3.0    141.341151\n",
                  "4.0    168.666667\n",
                  "5.0    204.777778\n",
                  "Name: Price, dtype: float64\n"
               ]
            }
         ],
         "source": [
            "avg_price_bed=rooms.groupby('Bedrooms')[\"Price\"].mean()\n",
            "print(avg_price_bed)"
         ]
      },
      {
         "cell_type": "code",
         "execution_count": 419,
         "id": "5d172d08",
         "metadata": {},
         "outputs": [
            {
               "name": "stdout",
               "output_type": "stream",
               "text": [
                  "1.0    11613\n",
                  "2.0     2066\n",
                  "0.0     1123\n",
                  "3.0      469\n",
                  "4.0       75\n",
                  "5.0       18\n",
                  "Name: Bedrooms, dtype: int64\n"
               ]
            },
            {
               "data": {
                  "text/plain": [
                     "Text(0.5, 0, 'Number of bedrooms and average price')"
                  ]
               },
               "execution_count": 419,
               "metadata": {},
               "output_type": "execute_result"
            },
            {
               "data": {
                  "image/png": "[encoded data removed]",
                  "text/plain": [
                     "<Figure size 576x396 with 2 Axes>"
                  ]
               },
               "metadata": {},
               "output_type": "display_data"
            }
         ],
         "source": [
            "fig, ax = plt.subplots()\n",
            "print(rooms[\"Bedrooms\"].value_counts())\n",
            "rooms[\"Bedrooms\"].plot(ax=ax, style='b-',kind='hist', bins = 6)\n",
            "avg_price_bed.plot(ax=ax, style='r-',secondary_y=True)\n",
            "plt.xlabel(\"Number of bedrooms and average price\")\n"
         ]
      },
      {
         "cell_type": "markdown",
         "id": "e4176115",
         "metadata": {},
         "source": [
            "#### Bathrooms"
         ]
      },
      {
         "cell_type": "code",
         "execution_count": 439,
         "id": "ef90a2ba",
         "metadata": {},
         "outputs": [
            {
               "name": "stdout",
               "output_type": "stream",
               "text": [
                  "Bathrooms\n",
                  "0.0     44.571429\n",
                  "0.5     42.757576\n",
                  "1.0     56.675923\n",
                  "1.5     69.805161\n",
                  "2.0     99.492554\n",
                  "2.5    142.209302\n",
                  "3.0    202.608696\n",
                  "Name: Price, dtype: float64\n"
               ]
            }
         ],
         "source": [
            "avg_price_bath=rooms.groupby('Bathrooms')[\"Price\"].mean()\n",
            "print(avg_price_bath)"
         ]
      },
      {
         "cell_type": "code",
         "execution_count": 440,
         "id": "5b5b202f",
         "metadata": {},
         "outputs": [
            {
               "name": "stdout",
               "output_type": "stream",
               "text": [
                  "1.0    13577\n",
                  "2.0      873\n",
                  "1.5      775\n",
                  "0.5       66\n",
                  "2.5       43\n",
                  "3.0       23\n",
                  "0.0        7\n",
                  "Name: Bathrooms, dtype: int64\n"
               ]
            },
            {
               "data": {
                  "text/plain": [
                     "Text(0.5, 0, 'Number of bathrooms and average price')"
                  ]
               },
               "execution_count": 440,
               "metadata": {},
               "output_type": "execute_result"
            },
            {
               "data": {
                  "image/png": "[encoded data removed]",
                  "text/plain": [
                     "<Figure size 576x396 with 2 Axes>"
                  ]
               },
               "metadata": {},
               "output_type": "display_data"
            }
         ],
         "source": [
            "fig, ax = plt.subplots()\n",
            "print(rooms[\"Bathrooms\"].value_counts())\n",
            "rooms[\"Bathrooms\"].plot(ax=ax, style='b-',kind='hist', bins = 7)\n",
            "avg_price_bath.plot(ax=ax, style='r-',secondary_y=True)\n",
            "plt.xlabel(\"Number of bathrooms and average price\")"
         ]
      },
      {
         "cell_type": "markdown",
         "id": "f3b1012a",
         "metadata": {},
         "source": [
            "#### Accomodates"
         ]
      },
      {
         "cell_type": "code",
         "execution_count": 457,
         "id": "5f30b929",
         "metadata": {},
         "outputs": [
            {
               "data": {
                  "text/plain": [
                     "Accomodates\n",
                     "1.0      35.722190\n",
                     "2.0      48.641406\n",
                     "3.0      65.873927\n",
                     "4.0      82.789954\n",
                     "5.0     102.888172\n",
                     "6.0     123.681188\n",
                     "7.0     141.153846\n",
                     "8.0     154.072165\n",
                     "9.0     176.567568\n",
                     "10.0    207.875000\n",
                     "12.0    198.666667\n",
                     "16.0    160.000000\n",
                     "Name: Price, dtype: float64"
                  ]
               },
               "execution_count": 457,
               "metadata": {},
               "output_type": "execute_result"
            }
         ],
         "source": [
            "avg_price_acc = rooms.groupby(\"Accomodates\")['Price'].mean()\n",
            "avg_price_acc"
         ]
      },
      {
         "cell_type": "code",
         "execution_count": 458,
         "id": "9673810d",
         "metadata": {},
         "outputs": [
            {
               "name": "stdout",
               "output_type": "stream",
               "text": [
                  "2.0     8366\n",
                  "4.0     2190\n",
                  "3.0     1864\n",
                  "1.0     1717\n",
                  "6.0      505\n",
                  "5.0      465\n",
                  "8.0       97\n",
                  "7.0       78\n",
                  "9.0       37\n",
                  "10.0      32\n",
                  "12.0      12\n",
                  "16.0       1\n",
                  "Name: Accomodates, dtype: int64\n"
               ]
            },
            {
               "data": {
                  "text/plain": [
                     "Text(0.5, 0, 'Number of accomodates and average price')"
                  ]
               },
               "execution_count": 458,
               "metadata": {},
               "output_type": "execute_result"
            },
            {
               "data": {
                  "image/png": "[encoded data removed]",
                  "text/plain": [
                     "<Figure size 576x396 with 2 Axes>"
                  ]
               },
               "metadata": {},
               "output_type": "display_data"
            }
         ],
         "source": [
            "fig, ax = plt.subplots()\n",
            "print(rooms[\"Accomodates\"].value_counts())\n",
            "rooms[\"Accomodates\"].plot(ax=ax, style='b-',kind='hist', bins = 7)\n",
            "avg_price_acc.plot(ax=ax, style='r-',secondary_y=True)\n",
            "plt.xlabel(\"Number of accomodates and average price\")"
         ]
      },
      {
         "cell_type": "markdown",
         "id": "23603b61",
         "metadata": {},
         "source": [
            "#### Guests and Beds"
         ]
      },
      {
         "cell_type": "code",
         "execution_count": 449,
         "id": "23228cd3",
         "metadata": {},
         "outputs": [
            {
               "data": {
                  "text/plain": [
                     "1.0    11827\n",
                     "2.0     2816\n",
                     "4.0      401\n",
                     "3.0      246\n",
                     "5.0       33\n",
                     "6.0       33\n",
                     "8.0        8\n",
                     "Name: Guests Included, dtype: int64"
                  ]
               },
               "execution_count": 449,
               "metadata": {},
               "output_type": "execute_result"
            }
         ],
         "source": [
            "rooms[\"Guests Included\"].value_counts()"
         ]
      },
      {
         "cell_type": "code",
         "execution_count": 450,
         "id": "d5810a75",
         "metadata": {},
         "outputs": [
            {
               "data": {
                  "text/plain": [
                     "1.0     9833\n",
                     "2.0     3648\n",
                     "3.0      948\n",
                     "4.0      520\n",
                     "5.0      175\n",
                     "6.0      147\n",
                     "8.0       31\n",
                     "7.0       29\n",
                     "0.0       22\n",
                     "9.0        7\n",
                     "10.0       4\n",
                     "Name: Beds, dtype: int64"
                  ]
               },
               "execution_count": 450,
               "metadata": {},
               "output_type": "execute_result"
            }
         ],
         "source": [
            "rooms[\"Beds\"].value_counts()"
         ]
      },
      {
         "cell_type": "markdown",
         "id": "502e7f33",
         "metadata": {},
         "source": [
            "#### Number of Nights"
         ]
      },
      {
         "cell_type": "code",
         "execution_count": 456,
         "id": "08f9689b",
         "metadata": {},
         "outputs": [],
         "source": [
            "rooms.groupby(\"Min Nights\")['Price'].mean();"
         ]
      },
      {
         "cell_type": "markdown",
         "id": "b0026653",
         "metadata": {},
         "source": [
            "### Room Type"
         ]
      },
      {
         "cell_type": "code",
         "execution_count": 460,
         "id": "e8c0b28f",
         "metadata": {},
         "outputs": [
            {
               "data": {
                  "text/plain": [
                     "2.0    7763\n",
                     "1.0    7454\n",
                     "3.0     147\n",
                     "Name: Room Type, dtype: int64"
                  ]
               },
               "execution_count": 460,
               "metadata": {},
               "output_type": "execute_result"
            }
         ],
         "source": [
            "rooms[\"Room Type\"].value_counts()"
         ]
      },
      {
         "cell_type": "markdown",
         "id": "613c20c8",
         "metadata": {},
         "source": [
            "#### One-hot Encoding"
         ]
      },
      {
         "cell_type": "code",
         "execution_count": 421,
         "id": "f9ccc107",
         "metadata": {},
         "outputs": [],
         "source": [
            "#Creation de Dummy values\n",
            "dummies = []\n",
            "dummies.append(pd.get_dummies(rooms[\"Room Type\"])) #liste\n",
            "room_dummies = pd.concat(dummies, axis=1) #tableau\n",
            "rooms = pd.concat((rooms, room_dummies), axis=1) "
         ]
      },
      {
         "cell_type": "markdown",
         "id": "d2730fc7",
         "metadata": {},
         "source": [
            "#### Ordinal"
         ]
      },
      {
         "cell_type": "markdown",
         "id": "7c00c3ca",
         "metadata": {},
         "source": [
            "Test en donnant ordre aux 3"
         ]
      },
      {
         "cell_type": "code",
         "execution_count": 422,
         "id": "a5098045",
         "metadata": {},
         "outputs": [],
         "source": [
            "encoding = {\"Room Type\":     {\"Entire home/apt\": 1.0, \"Private room\": 2.0, \"Shared room\": 3.0}}"
         ]
      },
      {
         "cell_type": "code",
         "execution_count": 423,
         "id": "bcd57d6c",
         "metadata": {},
         "outputs": [],
         "source": [
            "rooms= rooms.replace(encoding)"
         ]
      },
      {
         "cell_type": "code",
         "execution_count": 424,
         "id": "11b055e8",
         "metadata": {},
         "outputs": [
            {
               "name": "stdout",
               "output_type": "stream",
               "text": [
                  "       Room Type  Accomodates  Bathrooms  Bedrooms  Beds  Guests Included  \\\n",
                  "0            2.0          2.0        1.0       1.0   1.0              1.0   \n",
                  "1            1.0          2.0        1.0       2.0   2.0              2.0   \n",
                  "2            1.0          3.0        1.0       1.0   2.0              1.0   \n",
                  "3            2.0          2.0        1.0       1.0   1.0              1.0   \n",
                  "4            2.0          3.0        1.0       1.0   2.0              1.0   \n",
                  "...          ...          ...        ...       ...   ...              ...   \n",
                  "15687        2.0          2.0        1.5       1.0   1.0              1.0   \n",
                  "15688        1.0          8.0        2.0       3.0   5.0              1.0   \n",
                  "15689        2.0          2.0        1.5       1.0   1.0              1.0   \n",
                  "15690        1.0          4.0        1.0       1.0   2.0              2.0   \n",
                  "15691        2.0          3.0        1.0       1.0   2.0              1.0   \n",
                  "\n",
                  "       Min Nights  Price  Entire home/apt  Private room  Shared room  \n",
                  "0             2.0   26.0                0             1            0  \n",
                  "1             7.0   41.0                1             0            0  \n",
                  "2             1.0   50.0                1             0            0  \n",
                  "3             2.0   50.0                0             1            0  \n",
                  "4             6.0   55.0                0             1            0  \n",
                  "...           ...    ...              ...           ...          ...  \n",
                  "15687         6.0   45.0                0             1            0  \n",
                  "15688         1.0  130.0                1             0            0  \n",
                  "15689         1.0   19.0                0             1            0  \n",
                  "15690         1.0  100.0                1             0            0  \n",
                  "15691         2.0   29.0                0             1            0  \n",
                  "\n",
                  "[15364 rows x 11 columns]\n"
               ]
            }
         ],
         "source": [
            "#rooms = rooms.drop([\"Room Type\"], axis=1)\n",
            "print(rooms)"
         ]
      },
      {
         "cell_type": "code",
         "execution_count": 425,
         "id": "55eefeb6",
         "metadata": {},
         "outputs": [
            {
               "name": "stdout",
               "output_type": "stream",
               "text": [
                  "<class 'pandas.core.frame.DataFrame'>\n",
                  "Int64Index: 15364 entries, 0 to 15691\n",
                  "Data columns (total 11 columns):\n",
                  " #   Column           Non-Null Count  Dtype  \n",
                  "---  ------           --------------  -----  \n",
                  " 0   Room Type        15364 non-null  float64\n",
                  " 1   Accomodates      15364 non-null  float64\n",
                  " 2   Bathrooms        15364 non-null  float64\n",
                  " 3   Bedrooms         15364 non-null  float64\n",
                  " 4   Beds             15364 non-null  float64\n",
                  " 5   Guests Included  15364 non-null  float64\n",
                  " 6   Min Nights       15364 non-null  float64\n",
                  " 7   Price            15364 non-null  float64\n",
                  " 8   Entire home/apt  15364 non-null  uint8  \n",
                  " 9   Private room     15364 non-null  uint8  \n",
                  " 10  Shared room      15364 non-null  uint8  \n",
                  "dtypes: float64(8), uint8(3)\n",
                  "memory usage: 1.1 MB\n"
               ]
            }
         ],
         "source": [
            "rooms.info()"
         ]
      },
      {
         "cell_type": "markdown",
         "id": "99258eca",
         "metadata": {},
         "source": [
            "### Price column"
         ]
      },
      {
         "cell_type": "code",
         "execution_count": 426,
         "id": "b7724ecc",
         "metadata": {},
         "outputs": [
            {
               "data": {
                  "text/plain": [
                     "count    15683.000000\n",
                     "mean        60.342983\n",
                     "std         48.829687\n",
                     "min          8.000000\n",
                     "25%         32.000000\n",
                     "50%         49.000000\n",
                     "75%         70.000000\n",
                     "max        900.000000\n",
                     "Name: Price, dtype: float64"
                  ]
               },
               "execution_count": 426,
               "metadata": {},
               "output_type": "execute_result"
            }
         ],
         "source": [
            "# 3.1 Description \"price\"\n",
            "y_train = trainset[\"Price\"]\n",
            "y_train.describe(include=\"all\")"
         ]
      },
      {
         "cell_type": "code",
         "execution_count": 427,
         "id": "edc89b15",
         "metadata": {},
         "outputs": [
            {
               "name": "stderr",
               "output_type": "stream",
               "text": [
                  "C:\\Users\\julie\\AppData\\Local\\Temp\\ipykernel_39572\\4218721327.py:6: SettingWithCopyWarning: \n",
                  "A value is trying to be set on a copy of a slice from a DataFrame\n",
                  "\n",
                  "See the caveats in the documentation: https://pandas.pydata.org/pandas-docs/stable/user_guide/indexing.html#returning-a-view-versus-a-copy\n",
                  "  y_train[\"price_range\"] = price_range\n"
               ]
            },
            {
               "data": {
                  "image/png": "[encoded data removed]",
                  "text/plain": [
                     "<Figure size 576x396 with 1 Axes>"
                  ]
               },
               "metadata": {},
               "output_type": "display_data"
            }
         ],
         "source": [
            "# 3.4 Create column price range\n",
            "plt.style.use(\"seaborn\")\n",
            "price_range = pd.cut(y_train, \n",
            "                     bins=[0, 20, 40, 60, 80, 100, 120, 140, 160, y_train.max()], \n",
            "                     labels=[\"0-20\", \"20-40\", \"40-60\", \"60-80\", \"80-100\", \"100-120\", \"120-140\", \"140-160\", \"160+\"])\n",
            "y_train[\"price_range\"] = price_range\n",
            "y_train[\"price_range\"].value_counts().sort_index().plot(kind=\"bar\")\n",
            "plt.title(\"Number of Listings in each Price Range\")\n",
            "plt.show()"
         ]
      },
      {
         "cell_type": "markdown",
         "id": "abcd9221",
         "metadata": {},
         "source": [
            "### Type Conversion"
         ]
      },
      {
         "cell_type": "code",
         "execution_count": 428,
         "id": "9ff61aac",
         "metadata": {},
         "outputs": [],
         "source": [
            "#Conversion en flottants\n",
            "rooms[[\"Room Type\", \"Accomodates\", \"Bathrooms\", \"Bedrooms\", \"Beds\", \"Guests Included\", \"Min Nights\"]] = rooms[[\"Room Type\",\"Accomodates\", \"Bathrooms\", \"Bedrooms\", \"Beds\", \"Guests Included\", \"Min Nights\"]].astype(float)"
         ]
      },
      {
         "cell_type": "markdown",
         "id": "d80d292e",
         "metadata": {},
         "source": [
            "### Feature Engineering"
         ]
      },
      {
         "cell_type": "code",
         "execution_count": 429,
         "id": "1ef880f8",
         "metadata": {},
         "outputs": [
            {
               "data": {
                  "text/plain": [
                     "Index(['Room Type', 'Accomodates', 'Bathrooms', 'Bedrooms', 'Beds',\n",
                     "       'Guests Included', 'Min Nights', 'Price', 'Entire home/apt',\n",
                     "       'Private room', 'Shared room'],\n",
                     "      dtype='object')"
                  ]
               },
               "execution_count": 429,
               "metadata": {},
               "output_type": "execute_result"
            }
         ],
         "source": [
            "rooms.columns"
         ]
      },
      {
         "cell_type": "code",
         "execution_count": 430,
         "id": "0352bb04",
         "metadata": {},
         "outputs": [],
         "source": [
            "### Nombre total de pièces\n",
            "rooms[\"Total_rooms\"] = rooms[\"Bathrooms\"] + rooms[\"Bedrooms\"]"
         ]
      },
      {
         "cell_type": "code",
         "execution_count": 431,
         "id": "248832c4",
         "metadata": {},
         "outputs": [],
         "source": [
            "### Nombre de lit par piece\n",
            "rooms[\"Avg_beds\"] = rooms[\"Beds\"] / rooms[\"Bedrooms\"]"
         ]
      },
      {
         "cell_type": "code",
         "execution_count": 432,
         "id": "11df4f42",
         "metadata": {},
         "outputs": [
            {
               "data": {
                  "text/html": [
                     "<div>\n",
                     "<style scoped>\n",
                     "    .dataframe tbody tr th:only-of-type {\n",
                     "        vertical-align: middle;\n",
                     "    }\n",
                     "\n",
                     "    .dataframe tbody tr th {\n",
                     "        vertical-align: top;\n",
                     "    }\n",
                     "\n",
                     "    .dataframe thead th {\n",
                     "        text-align: right;\n",
                     "    }\n",
                     "</style>\n",
                     "<table border=\"1\" class=\"dataframe\">\n",
                     "  <thead>\n",
                     "    <tr style=\"text-align: right;\">\n",
                     "      <th></th>\n",
                     "      <th>Room Type</th>\n",
                     "      <th>Accomodates</th>\n",
                     "      <th>Bathrooms</th>\n",
                     "      <th>Bedrooms</th>\n",
                     "      <th>Beds</th>\n",
                     "      <th>Guests Included</th>\n",
                     "      <th>Min Nights</th>\n",
                     "      <th>Price</th>\n",
                     "      <th>Entire home/apt</th>\n",
                     "      <th>Private room</th>\n",
                     "      <th>Shared room</th>\n",
                     "      <th>Total_rooms</th>\n",
                     "      <th>Avg_beds</th>\n",
                     "    </tr>\n",
                     "  </thead>\n",
                     "  <tbody>\n",
                     "    <tr>\n",
                     "      <th>0</th>\n",
                     "      <td>2.0</td>\n",
                     "      <td>2.0</td>\n",
                     "      <td>1.0</td>\n",
                     "      <td>1.0</td>\n",
                     "      <td>1.0</td>\n",
                     "      <td>1.0</td>\n",
                     "      <td>2.0</td>\n",
                     "      <td>26.0</td>\n",
                     "      <td>0</td>\n",
                     "      <td>1</td>\n",
                     "      <td>0</td>\n",
                     "      <td>2.0</td>\n",
                     "      <td>1.0</td>\n",
                     "    </tr>\n",
                     "    <tr>\n",
                     "      <th>1</th>\n",
                     "      <td>1.0</td>\n",
                     "      <td>2.0</td>\n",
                     "      <td>1.0</td>\n",
                     "      <td>2.0</td>\n",
                     "      <td>2.0</td>\n",
                     "      <td>2.0</td>\n",
                     "      <td>7.0</td>\n",
                     "      <td>41.0</td>\n",
                     "      <td>1</td>\n",
                     "      <td>0</td>\n",
                     "      <td>0</td>\n",
                     "      <td>3.0</td>\n",
                     "      <td>1.0</td>\n",
                     "    </tr>\n",
                     "    <tr>\n",
                     "      <th>2</th>\n",
                     "      <td>1.0</td>\n",
                     "      <td>3.0</td>\n",
                     "      <td>1.0</td>\n",
                     "      <td>1.0</td>\n",
                     "      <td>2.0</td>\n",
                     "      <td>1.0</td>\n",
                     "      <td>1.0</td>\n",
                     "      <td>50.0</td>\n",
                     "      <td>1</td>\n",
                     "      <td>0</td>\n",
                     "      <td>0</td>\n",
                     "      <td>2.0</td>\n",
                     "      <td>2.0</td>\n",
                     "    </tr>\n",
                     "    <tr>\n",
                     "      <th>3</th>\n",
                     "      <td>2.0</td>\n",
                     "      <td>2.0</td>\n",
                     "      <td>1.0</td>\n",
                     "      <td>1.0</td>\n",
                     "      <td>1.0</td>\n",
                     "      <td>1.0</td>\n",
                     "      <td>2.0</td>\n",
                     "      <td>50.0</td>\n",
                     "      <td>0</td>\n",
                     "      <td>1</td>\n",
                     "      <td>0</td>\n",
                     "      <td>2.0</td>\n",
                     "      <td>1.0</td>\n",
                     "    </tr>\n",
                     "    <tr>\n",
                     "      <th>4</th>\n",
                     "      <td>2.0</td>\n",
                     "      <td>3.0</td>\n",
                     "      <td>1.0</td>\n",
                     "      <td>1.0</td>\n",
                     "      <td>2.0</td>\n",
                     "      <td>1.0</td>\n",
                     "      <td>6.0</td>\n",
                     "      <td>55.0</td>\n",
                     "      <td>0</td>\n",
                     "      <td>1</td>\n",
                     "      <td>0</td>\n",
                     "      <td>2.0</td>\n",
                     "      <td>2.0</td>\n",
                     "    </tr>\n",
                     "  </tbody>\n",
                     "</table>\n",
                     "</div>"
                  ],
                  "text/plain": [
                     "   Room Type  Accomodates  Bathrooms  Bedrooms  Beds  Guests Included  \\\n",
                     "0        2.0          2.0        1.0       1.0   1.0              1.0   \n",
                     "1        1.0          2.0        1.0       2.0   2.0              2.0   \n",
                     "2        1.0          3.0        1.0       1.0   2.0              1.0   \n",
                     "3        2.0          2.0        1.0       1.0   1.0              1.0   \n",
                     "4        2.0          3.0        1.0       1.0   2.0              1.0   \n",
                     "\n",
                     "   Min Nights  Price  Entire home/apt  Private room  Shared room  Total_rooms  \\\n",
                     "0         2.0   26.0                0             1            0          2.0   \n",
                     "1         7.0   41.0                1             0            0          3.0   \n",
                     "2         1.0   50.0                1             0            0          2.0   \n",
                     "3         2.0   50.0                0             1            0          2.0   \n",
                     "4         6.0   55.0                0             1            0          2.0   \n",
                     "\n",
                     "   Avg_beds  \n",
                     "0       1.0  \n",
                     "1       1.0  \n",
                     "2       2.0  \n",
                     "3       1.0  \n",
                     "4       2.0  "
                  ]
               },
               "execution_count": 432,
               "metadata": {},
               "output_type": "execute_result"
            }
         ],
         "source": [
            "rooms.head()"
         ]
      },
      {
         "cell_type": "markdown",
         "id": "80a1955f",
         "metadata": {},
         "source": [
            "### Correlation matrix"
         ]
      },
      {
         "cell_type": "code",
         "execution_count": 433,
         "id": "0f27fe7f",
         "metadata": {},
         "outputs": [],
         "source": [
            "rooms_copy = rooms.copy()\n",
            "corr_matrix = rooms.corr()"
         ]
      },
      {
         "cell_type": "code",
         "execution_count": 434,
         "id": "5216118c",
         "metadata": {},
         "outputs": [
            {
               "data": {
                  "text/html": [
                     "<div>\n",
                     "<style scoped>\n",
                     "    .dataframe tbody tr th:only-of-type {\n",
                     "        vertical-align: middle;\n",
                     "    }\n",
                     "\n",
                     "    .dataframe tbody tr th {\n",
                     "        vertical-align: top;\n",
                     "    }\n",
                     "\n",
                     "    .dataframe thead th {\n",
                     "        text-align: right;\n",
                     "    }\n",
                     "</style>\n",
                     "<table border=\"1\" class=\"dataframe\">\n",
                     "  <thead>\n",
                     "    <tr style=\"text-align: right;\">\n",
                     "      <th></th>\n",
                     "      <th>Room Type</th>\n",
                     "      <th>Accomodates</th>\n",
                     "      <th>Bathrooms</th>\n",
                     "      <th>Bedrooms</th>\n",
                     "      <th>Beds</th>\n",
                     "      <th>Guests Included</th>\n",
                     "      <th>Min Nights</th>\n",
                     "      <th>Price</th>\n",
                     "      <th>Entire home/apt</th>\n",
                     "      <th>Private room</th>\n",
                     "      <th>Shared room</th>\n",
                     "      <th>Total_rooms</th>\n",
                     "      <th>Avg_beds</th>\n",
                     "    </tr>\n",
                     "  </thead>\n",
                     "  <tbody>\n",
                     "    <tr>\n",
                     "      <th>Room Type</th>\n",
                     "      <td>1.000000</td>\n",
                     "      <td>-0.408542</td>\n",
                     "      <td>-0.013913</td>\n",
                     "      <td>-0.233479</td>\n",
                     "      <td>-0.314701</td>\n",
                     "      <td>-0.280598</td>\n",
                     "      <td>-0.161467</td>\n",
                     "      <td>-0.411089</td>\n",
                     "      <td>-0.982361</td>\n",
                     "      <td>0.927491</td>\n",
                     "      <td>0.279870</td>\n",
                     "      <td>-0.197333</td>\n",
                     "      <td>-0.134857</td>\n",
                     "    </tr>\n",
                     "    <tr>\n",
                     "      <th>Accomodates</th>\n",
                     "      <td>-0.408542</td>\n",
                     "      <td>1.000000</td>\n",
                     "      <td>0.241605</td>\n",
                     "      <td>0.617161</td>\n",
                     "      <td>0.783531</td>\n",
                     "      <td>0.512283</td>\n",
                     "      <td>0.001662</td>\n",
                     "      <td>0.498625</td>\n",
                     "      <td>0.421864</td>\n",
                     "      <td>-0.419959</td>\n",
                     "      <td>-0.008948</td>\n",
                     "      <td>0.597660</td>\n",
                     "      <td>0.433527</td>\n",
                     "    </tr>\n",
                     "    <tr>\n",
                     "      <th>Bathrooms</th>\n",
                     "      <td>-0.013913</td>\n",
                     "      <td>0.241605</td>\n",
                     "      <td>1.000000</td>\n",
                     "      <td>0.302276</td>\n",
                     "      <td>0.249862</td>\n",
                     "      <td>0.153402</td>\n",
                     "      <td>-0.011985</td>\n",
                     "      <td>0.247559</td>\n",
                     "      <td>0.017628</td>\n",
                     "      <td>-0.020821</td>\n",
                     "      <td>0.016436</td>\n",
                     "      <td>0.620055</td>\n",
                     "      <td>0.033865</td>\n",
                     "    </tr>\n",
                     "    <tr>\n",
                     "      <th>Bedrooms</th>\n",
                     "      <td>-0.233479</td>\n",
                     "      <td>0.617161</td>\n",
                     "      <td>0.302276</td>\n",
                     "      <td>1.000000</td>\n",
                     "      <td>0.600193</td>\n",
                     "      <td>0.376037</td>\n",
                     "      <td>0.012525</td>\n",
                     "      <td>0.405629</td>\n",
                     "      <td>0.237640</td>\n",
                     "      <td>-0.233103</td>\n",
                     "      <td>-0.022837</td>\n",
                     "      <td>0.935285</td>\n",
                     "      <td>0.012439</td>\n",
                     "    </tr>\n",
                     "    <tr>\n",
                     "      <th>Beds</th>\n",
                     "      <td>-0.314701</td>\n",
                     "      <td>0.783531</td>\n",
                     "      <td>0.249862</td>\n",
                     "      <td>0.600193</td>\n",
                     "      <td>1.000000</td>\n",
                     "      <td>0.447110</td>\n",
                     "      <td>0.014730</td>\n",
                     "      <td>0.415980</td>\n",
                     "      <td>0.331791</td>\n",
                     "      <td>-0.337147</td>\n",
                     "      <td>0.028164</td>\n",
                     "      <td>0.586760</td>\n",
                     "      <td>0.697906</td>\n",
                     "    </tr>\n",
                     "    <tr>\n",
                     "      <th>Guests Included</th>\n",
                     "      <td>-0.280598</td>\n",
                     "      <td>0.512283</td>\n",
                     "      <td>0.153402</td>\n",
                     "      <td>0.376037</td>\n",
                     "      <td>0.447110</td>\n",
                     "      <td>1.000000</td>\n",
                     "      <td>0.009667</td>\n",
                     "      <td>0.357435</td>\n",
                     "      <td>0.284740</td>\n",
                     "      <td>-0.278429</td>\n",
                     "      <td>-0.031853</td>\n",
                     "      <td>0.366454</td>\n",
                     "      <td>0.220887</td>\n",
                     "    </tr>\n",
                     "    <tr>\n",
                     "      <th>Min Nights</th>\n",
                     "      <td>-0.161467</td>\n",
                     "      <td>0.001662</td>\n",
                     "      <td>-0.011985</td>\n",
                     "      <td>0.012525</td>\n",
                     "      <td>0.014730</td>\n",
                     "      <td>0.009667</td>\n",
                     "      <td>1.000000</td>\n",
                     "      <td>0.017913</td>\n",
                     "      <td>0.163336</td>\n",
                     "      <td>-0.159189</td>\n",
                     "      <td>-0.020975</td>\n",
                     "      <td>0.005859</td>\n",
                     "      <td>0.008421</td>\n",
                     "    </tr>\n",
                     "    <tr>\n",
                     "      <th>Price</th>\n",
                     "      <td>-0.411089</td>\n",
                     "      <td>0.498625</td>\n",
                     "      <td>0.247559</td>\n",
                     "      <td>0.405629</td>\n",
                     "      <td>0.415980</td>\n",
                     "      <td>0.357435</td>\n",
                     "      <td>0.017913</td>\n",
                     "      <td>1.000000</td>\n",
                     "      <td>0.416526</td>\n",
                     "      <td>-0.406649</td>\n",
                     "      <td>-0.049907</td>\n",
                     "      <td>0.425767</td>\n",
                     "      <td>0.143329</td>\n",
                     "    </tr>\n",
                     "    <tr>\n",
                     "      <th>Entire home/apt</th>\n",
                     "      <td>-0.982361</td>\n",
                     "      <td>0.421864</td>\n",
                     "      <td>0.017628</td>\n",
                     "      <td>0.237640</td>\n",
                     "      <td>0.331791</td>\n",
                     "      <td>0.284740</td>\n",
                     "      <td>0.163336</td>\n",
                     "      <td>0.416526</td>\n",
                     "      <td>1.000000</td>\n",
                     "      <td>-0.981038</td>\n",
                     "      <td>-0.095411</td>\n",
                     "      <td>0.202137</td>\n",
                     "      <td>0.159476</td>\n",
                     "    </tr>\n",
                     "    <tr>\n",
                     "      <th>Private room</th>\n",
                     "      <td>0.927491</td>\n",
                     "      <td>-0.419959</td>\n",
                     "      <td>-0.020821</td>\n",
                     "      <td>-0.233103</td>\n",
                     "      <td>-0.337147</td>\n",
                     "      <td>-0.278429</td>\n",
                     "      <td>-0.159189</td>\n",
                     "      <td>-0.406649</td>\n",
                     "      <td>-0.981038</td>\n",
                     "      <td>1.000000</td>\n",
                     "      <td>-0.099328</td>\n",
                     "      <td>-0.199588</td>\n",
                     "      <td>-0.178599</td>\n",
                     "    </tr>\n",
                     "    <tr>\n",
                     "      <th>Shared room</th>\n",
                     "      <td>0.279870</td>\n",
                     "      <td>-0.008948</td>\n",
                     "      <td>0.016436</td>\n",
                     "      <td>-0.022837</td>\n",
                     "      <td>0.028164</td>\n",
                     "      <td>-0.031853</td>\n",
                     "      <td>-0.020975</td>\n",
                     "      <td>-0.049907</td>\n",
                     "      <td>-0.095411</td>\n",
                     "      <td>-0.099328</td>\n",
                     "      <td>1.000000</td>\n",
                     "      <td>-0.012694</td>\n",
                     "      <td>0.095499</td>\n",
                     "    </tr>\n",
                     "    <tr>\n",
                     "      <th>Total_rooms</th>\n",
                     "      <td>-0.197333</td>\n",
                     "      <td>0.597660</td>\n",
                     "      <td>0.620055</td>\n",
                     "      <td>0.935285</td>\n",
                     "      <td>0.586760</td>\n",
                     "      <td>0.366454</td>\n",
                     "      <td>0.005859</td>\n",
                     "      <td>0.425767</td>\n",
                     "      <td>0.202137</td>\n",
                     "      <td>-0.199588</td>\n",
                     "      <td>-0.012694</td>\n",
                     "      <td>1.000000</td>\n",
                     "      <td>0.023816</td>\n",
                     "    </tr>\n",
                     "    <tr>\n",
                     "      <th>Avg_beds</th>\n",
                     "      <td>-0.134857</td>\n",
                     "      <td>0.433527</td>\n",
                     "      <td>0.033865</td>\n",
                     "      <td>0.012439</td>\n",
                     "      <td>0.697906</td>\n",
                     "      <td>0.220887</td>\n",
                     "      <td>0.008421</td>\n",
                     "      <td>0.143329</td>\n",
                     "      <td>0.159476</td>\n",
                     "      <td>-0.178599</td>\n",
                     "      <td>0.095499</td>\n",
                     "      <td>0.023816</td>\n",
                     "      <td>1.000000</td>\n",
                     "    </tr>\n",
                     "  </tbody>\n",
                     "</table>\n",
                     "</div>"
                  ],
                  "text/plain": [
                     "                 Room Type  Accomodates  Bathrooms  Bedrooms      Beds  \\\n",
                     "Room Type         1.000000    -0.408542  -0.013913 -0.233479 -0.314701   \n",
                     "Accomodates      -0.408542     1.000000   0.241605  0.617161  0.783531   \n",
                     "Bathrooms        -0.013913     0.241605   1.000000  0.302276  0.249862   \n",
                     "Bedrooms         -0.233479     0.617161   0.302276  1.000000  0.600193   \n",
                     "Beds             -0.314701     0.783531   0.249862  0.600193  1.000000   \n",
                     "Guests Included  -0.280598     0.512283   0.153402  0.376037  0.447110   \n",
                     "Min Nights       -0.161467     0.001662  -0.011985  0.012525  0.014730   \n",
                     "Price            -0.411089     0.498625   0.247559  0.405629  0.415980   \n",
                     "Entire home/apt  -0.982361     0.421864   0.017628  0.237640  0.331791   \n",
                     "Private room      0.927491    -0.419959  -0.020821 -0.233103 -0.337147   \n",
                     "Shared room       0.279870    -0.008948   0.016436 -0.022837  0.028164   \n",
                     "Total_rooms      -0.197333     0.597660   0.620055  0.935285  0.586760   \n",
                     "Avg_beds         -0.134857     0.433527   0.033865  0.012439  0.697906   \n",
                     "\n",
                     "                 Guests Included  Min Nights     Price  Entire home/apt  \\\n",
                     "Room Type              -0.280598   -0.161467 -0.411089        -0.982361   \n",
                     "Accomodates             0.512283    0.001662  0.498625         0.421864   \n",
                     "Bathrooms               0.153402   -0.011985  0.247559         0.017628   \n",
                     "Bedrooms                0.376037    0.012525  0.405629         0.237640   \n",
                     "Beds                    0.447110    0.014730  0.415980         0.331791   \n",
                     "Guests Included         1.000000    0.009667  0.357435         0.284740   \n",
                     "Min Nights              0.009667    1.000000  0.017913         0.163336   \n",
                     "Price                   0.357435    0.017913  1.000000         0.416526   \n",
                     "Entire home/apt         0.284740    0.163336  0.416526         1.000000   \n",
                     "Private room           -0.278429   -0.159189 -0.406649        -0.981038   \n",
                     "Shared room            -0.031853   -0.020975 -0.049907        -0.095411   \n",
                     "Total_rooms             0.366454    0.005859  0.425767         0.202137   \n",
                     "Avg_beds                0.220887    0.008421  0.143329         0.159476   \n",
                     "\n",
                     "                 Private room  Shared room  Total_rooms  Avg_beds  \n",
                     "Room Type            0.927491     0.279870    -0.197333 -0.134857  \n",
                     "Accomodates         -0.419959    -0.008948     0.597660  0.433527  \n",
                     "Bathrooms           -0.020821     0.016436     0.620055  0.033865  \n",
                     "Bedrooms            -0.233103    -0.022837     0.935285  0.012439  \n",
                     "Beds                -0.337147     0.028164     0.586760  0.697906  \n",
                     "Guests Included     -0.278429    -0.031853     0.366454  0.220887  \n",
                     "Min Nights          -0.159189    -0.020975     0.005859  0.008421  \n",
                     "Price               -0.406649    -0.049907     0.425767  0.143329  \n",
                     "Entire home/apt     -0.981038    -0.095411     0.202137  0.159476  \n",
                     "Private room         1.000000    -0.099328    -0.199588 -0.178599  \n",
                     "Shared room         -0.099328     1.000000    -0.012694  0.095499  \n",
                     "Total_rooms         -0.199588    -0.012694     1.000000  0.023816  \n",
                     "Avg_beds            -0.178599     0.095499     0.023816  1.000000  "
                  ]
               },
               "execution_count": 434,
               "metadata": {},
               "output_type": "execute_result"
            }
         ],
         "source": [
            "corr_matrix"
         ]
      },
      {
         "cell_type": "code",
         "execution_count": 435,
         "id": "d90c5d73",
         "metadata": {},
         "outputs": [
            {
               "data": {
                  "text/plain": [
                     "Price              1.000000\n",
                     "Accomodates        0.498625\n",
                     "Total_rooms        0.425767\n",
                     "Entire home/apt    0.416526\n",
                     "Beds               0.415980\n",
                     "Bedrooms           0.405629\n",
                     "Guests Included    0.357435\n",
                     "Bathrooms          0.247559\n",
                     "Avg_beds           0.143329\n",
                     "Min Nights         0.017913\n",
                     "Shared room       -0.049907\n",
                     "Private room      -0.406649\n",
                     "Room Type         -0.411089\n",
                     "Name: Price, dtype: float64"
                  ]
               },
               "execution_count": 435,
               "metadata": {},
               "output_type": "execute_result"
            }
         ],
         "source": [
            "corr_matrix[\"Price\"].sort_values(ascending=False)"
         ]
      },
      {
         "cell_type": "markdown",
         "id": "74cc927a",
         "metadata": {},
         "source": [
            "### Feature Selection"
         ]
      },
      {
         "cell_type": "code",
         "execution_count": 436,
         "id": "4a0e55cb",
         "metadata": {},
         "outputs": [],
         "source": [
            "#Selected features\n",
            "selected = [\"Accomodates\", \"Entire home/apt\", \"Total Rooms\"]\n",
            "X_train = rooms[selected]"
         ]
      },
      {
         "cell_type": "markdown",
         "id": "ce6e85b7",
         "metadata": {},
         "source": [
            "### Learning Algorithm"
         ]
      },
      {
         "cell_type": "markdown",
         "id": "4dc0d26d",
         "metadata": {},
         "source": []
      }
   ],
   "metadata": {
      "kernelspec": {
         "display_name": "Python 3.9.12 ('base')",
         "language": "python",
         "name": "python3"
      },
      "language_info": {
         "codemirror_mode": {
            "name": "ipython",
            "version": 3
         },
         "file_extension": ".py",
         "mimetype": "text/x-python",
         "name": "python",
         "nbconvert_exporter": "python",
         "pygments_lexer": "ipython3",
         "version": "3.9.12"
      },
      "vscode": {
         "interpreter": {
            "hash": "dc19f1aca79640f29e4f4d7df31b19f58d3c80ef392b15c9e85b5fe0f1809e47"
         }
      }
   },
   "nbformat": 4,
   "nbformat_minor": 5
}
