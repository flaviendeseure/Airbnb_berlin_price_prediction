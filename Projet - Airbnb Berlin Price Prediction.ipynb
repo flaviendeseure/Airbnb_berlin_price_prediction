{
 "cells": [
  {
   "cell_type": "markdown",
   "id": "da886e22",
   "metadata": {},
   "source": [
    "<a name=\"top\"></a>\n",
    "<img src=\"https://netacad.centralesupelec.fr/img/cs.jpg\" width=\"200\" style=\"display:inline;\">\n",
    "<img src=\"static/Blanc.png\" width=\"500\" style=\"display:inline;\">\n",
    "<img src=\"static/Airbnb_Logo.png\" width=\"200\" style=\"display:inline;\">\n",
    "\n",
    "<h1>\n",
    "<center>Airbnb price prediction</center>\n",
    "</h1>\n",
    "\n",
    "---\n",
    "\n",
    "\n",
    "<center>\n",
    "<nav>\n",
    "<a href=\"https://github.com/flaviendeseure/Airbnb_berlin_price_prediction\">Github</a> |\n",
    "<a href=\"https://centralesupelec.edunao.com/course/view.php?id=5285\">CentraleSupélec</a>\n",
    "</nav>\n",
    "</center>"
   ]
  },
  {
   "cell_type": "markdown",
   "id": "f11cc553",
   "metadata": {},
   "source": [
    "## About the project\n",
    "---\n",
    "This project aims to predict the price of a night's accommodation offered on the short-term rental website Airbnb in the city of Berlin."
   ]
  },
  {
   "cell_type": "markdown",
   "id": "771eeca7",
   "metadata": {},
   "source": [
    "## *Table of Contents*\n",
    "- [Utils](#utils)\n",
    "    - [Imports](#imports)\n",
    "    - [Helper Functions](#helper_functions)\n",
    "- [Exploratory Data Analysis](#eda)\n",
    "    - [Global analysis](#general_analysis)\n",
    "    - [Feature analysis](#analysis_per_col)\n",
    "    - [Target analysis](#target_analysis)\n",
    "    - [Conclusion analysis](#conclusion)\n",
    "- [Preprocessing](#preprocessing)\n",
    "    - [Split](#split)\n",
    "    - [Missing values](#missing_values)\n",
    "    - [Scaling](#scaling)\n",
    "    - [Outliers](#outliers)\n",
    "    - [Categorical features](#cat_feat)\n",
    "    - [Feature engineering](#feature_eng)\n",
    "- [Modeling](#modeling)\n",
    "    - [Feature selection](#feature_selection)\n",
    "    - [Model selection](#model_selection)\n",
    "- [Scoring](#scoring)"
   ]
  },
  {
   "cell_type": "markdown",
   "id": "dd1fcb41",
   "metadata": {},
   "source": [
    "<a name=\"utils\">\n",
    "\n",
    "## Utils\n",
    "---"
   ]
  },
  {
   "cell_type": "markdown",
   "id": "c0ece34d",
   "metadata": {},
   "source": [
    "<a name=\"imports\">\n",
    "\n",
    "### Imports"
   ]
  },
  {
   "cell_type": "code",
   "execution_count": 1,
   "id": "722a43b0",
   "metadata": {},
   "outputs": [
    {
     "name": "stderr",
     "output_type": "stream",
     "text": [
      "C:\\Users\\Utlisateur\\anaconda3\\lib\\site-packages\\xgboost\\compat.py:36: FutureWarning: pandas.Int64Index is deprecated and will be removed from pandas in a future version. Use pandas.Index with the appropriate dtype instead.\n",
      "  from pandas import MultiIndex, Int64Index\n"
     ]
    }
   ],
   "source": [
    "# Utils\n",
    "## System\n",
    "import os\n",
    "# Data\n",
    "import pandas as pd\n",
    "import numpy as np\n",
    "\n",
    "# Exploratory analysis\n",
    "import matplotlib.pyplot as plt\n",
    "import seaborn as sns\n",
    "\n",
    "# Preprocessing\n",
    "## Split data\n",
    "from sklearn.model_selection import train_test_split\n",
    "## Missing values\n",
    "## Scaling\n",
    "## Outliers\n",
    "## Categorical features\n",
    "import category_encoders as ce\n",
    "## Feature engineering\n",
    "\n",
    "# Modeling\n",
    "## Sklearn models\n",
    "from sklearn.linear_model import LinearRegression, SGDRegressor, ElasticNet, BayesianRidge\n",
    "from sklearn.kernel_ridge import KernelRidge\n",
    "from sklearn.ensemble import GradientBoostingRegressor, RandomForestRegressor\n",
    "from sklearn.svm import SVR\n",
    "## XGboost models\n",
    "from xgboost.sklearn import XGBRegressor\n",
    "## Lightgbm models\n",
    "from lightgbm import LGBMRegressor\n",
    "from catboost import CatBoostRegressor\n",
    "\n",
    "# Metrics\n",
    "from sklearn.metrics import explained_variance_score, r2_score , mean_squared_error, mean_absolute_error"
   ]
  },
  {
   "cell_type": "code",
   "execution_count": 2,
   "id": "7556a271",
   "metadata": {},
   "outputs": [],
   "source": [
    "# Options\n",
    "pd.set_option('display.max_columns', 40)\n",
    "sns.set_theme(style=\"white\")"
   ]
  },
  {
   "cell_type": "markdown",
   "id": "28e14ab7",
   "metadata": {},
   "source": [
    "<a href=\"#top\">back to top</a>"
   ]
  },
  {
   "cell_type": "markdown",
   "id": "bd375fa1",
   "metadata": {},
   "source": [
    "<a name=\"helper_functions\">\n",
    "\n",
    "### Helper Functions"
   ]
  },
  {
   "cell_type": "markdown",
   "id": "594f9903",
   "metadata": {},
   "source": [
    "#### Exploratory analysis"
   ]
  },
  {
   "cell_type": "code",
   "execution_count": 3,
   "id": "4add16a8",
   "metadata": {},
   "outputs": [],
   "source": [
    "def missing_values_rate_display(col_name, dataset):\n",
    "    missing_values_sum = dataset[col_name].isna().sum()\n",
    "    missing_value_rate = missing_values_sum/dataset.shape[0]\n",
    "    print(f\"Missing value for {col_name} columns: {100*missing_value_rate:.3f}% ({missing_values_sum}/{dataset.shape[0]})\")\n",
    "    \n",
    "def display_corr_matrix(corr_mat):\n",
    "    # Generate a mask for the upper triangle\n",
    "    mask = np.triu(np.ones_like(corr_mat, dtype=bool))\n",
    "\n",
    "    # Set up the matplotlib figure\n",
    "    f, ax = plt.subplots(figsize=(11, 9))\n",
    "\n",
    "    # Generate a custom diverging colormap\n",
    "    cmap = sns.diverging_palette(230, 20, as_cmap=True)\n",
    "\n",
    "    # Draw the heatmap with the mask and correct aspect ratio\n",
    "    sns.heatmap(corr_mat, mask=mask, cmap=cmap, vmax=.3, center=0,\n",
    "                square=True, linewidths=.5, cbar_kws={\"shrink\": .5})\n",
    "    plt.show()"
   ]
  },
  {
   "cell_type": "markdown",
   "id": "60aaa3db",
   "metadata": {},
   "source": [
    "#### Preprocessing"
   ]
  },
  {
   "cell_type": "code",
   "execution_count": null,
   "id": "0d977a75",
   "metadata": {},
   "outputs": [],
   "source": []
  },
  {
   "cell_type": "markdown",
   "id": "19a3de98",
   "metadata": {},
   "source": [
    "#### Modeling"
   ]
  },
  {
   "cell_type": "code",
   "execution_count": 4,
   "id": "6d0e84b2",
   "metadata": {},
   "outputs": [],
   "source": [
    "def forward(features):\n",
    "    # Pull out features we still need to process\n",
    "    remaining_features = [d for d in X.columns if d not in features]\n",
    "    \n",
    "    tic = time.time()\n",
    "    \n",
    "    results = []\n",
    "    \n",
    "    for d in remaining_features:\n",
    "        results.append(processSubset(features+[d]))\n",
    "    \n",
    "    # Wrap everything up in a nice dataframe\n",
    "    models = pd.DataFrame(results)\n",
    "    \n",
    "    # Choose the model with the highest RSS\n",
    "    best_model = models.loc[models['RSS'].argmin()]\n",
    "    \n",
    "    toc = time.time()\n",
    "    print(\"Processed \", models.shape[0], \"models on\", len(features)+1, \"features in\", (toc-tic), \"seconds.\")\n",
    "    \n",
    "    # Return the best model, along with some other useful information about the model\n",
    "    return best_model\n",
    "\n",
    "def backward(features):\n",
    "    tic = time.time()\n",
    "    \n",
    "    results = []\n",
    "    \n",
    "    for combo in itertools.combinations(features, len(features)-1):\n",
    "        results.append(processSubset(combo))\n",
    "    \n",
    "    # Wrap everything up in a nice dataframe\n",
    "    models = pd.DataFrame(results)\n",
    "    \n",
    "    # Choose the model with the highest RSS\n",
    "    best_model = models.loc[models['RSS'].argmin()]\n",
    "    \n",
    "    toc = time.time()\n",
    "    print(\"Processed \", models.shape[0], \"models on\", len(features)-1, \"features in\", (toc-tic), \"seconds.\")\n",
    "    \n",
    "    # Return the best model, along with some other useful information about the model\n",
    "    return best_model"
   ]
  },
  {
   "cell_type": "markdown",
   "id": "12c11dae",
   "metadata": {},
   "source": [
    "<a href=\"#top\">back to top</a>"
   ]
  },
  {
   "cell_type": "markdown",
   "id": "f3b334d4",
   "metadata": {},
   "source": [
    "<a name=\"importdata\">\n",
    "\n",
    "## Exploratory Data Analysis\n",
    "---"
   ]
  },
  {
   "cell_type": "markdown",
   "id": "6bfd9d38",
   "metadata": {},
   "source": [
    "<a name=\"importdata\">\n",
    "    \n",
    "### Import data"
   ]
  },
  {
   "cell_type": "code",
   "execution_count": 5,
   "id": "9f7d7b76",
   "metadata": {},
   "outputs": [
    {
     "data": {
      "text/html": [
       "<div>\n",
       "<style scoped>\n",
       "    .dataframe tbody tr th:only-of-type {\n",
       "        vertical-align: middle;\n",
       "    }\n",
       "\n",
       "    .dataframe tbody tr th {\n",
       "        vertical-align: top;\n",
       "    }\n",
       "\n",
       "    .dataframe thead th {\n",
       "        text-align: right;\n",
       "    }\n",
       "</style>\n",
       "<table border=\"1\" class=\"dataframe\">\n",
       "  <thead>\n",
       "    <tr style=\"text-align: right;\">\n",
       "      <th></th>\n",
       "      <th>Listing ID</th>\n",
       "      <th>Listing Name</th>\n",
       "      <th>Host ID</th>\n",
       "      <th>Host Name</th>\n",
       "      <th>Host Since</th>\n",
       "      <th>Host Response Time</th>\n",
       "      <th>Host Response Rate</th>\n",
       "      <th>Is Superhost</th>\n",
       "      <th>neighbourhood</th>\n",
       "      <th>Neighborhood Group</th>\n",
       "      <th>City</th>\n",
       "      <th>Postal Code</th>\n",
       "      <th>Country Code</th>\n",
       "      <th>Country</th>\n",
       "      <th>Latitude</th>\n",
       "      <th>Longitude</th>\n",
       "      <th>Is Exact Location</th>\n",
       "      <th>Property Type</th>\n",
       "      <th>Room Type</th>\n",
       "      <th>Accomodates</th>\n",
       "      <th>Bathrooms</th>\n",
       "      <th>Bedrooms</th>\n",
       "      <th>Beds</th>\n",
       "      <th>Square Feet</th>\n",
       "      <th>Guests Included</th>\n",
       "      <th>Min Nights</th>\n",
       "      <th>Reviews</th>\n",
       "      <th>First Review</th>\n",
       "      <th>Last Review</th>\n",
       "      <th>Overall Rating</th>\n",
       "      <th>Accuracy Rating</th>\n",
       "      <th>Cleanliness Rating</th>\n",
       "      <th>Checkin Rating</th>\n",
       "      <th>Communication Rating</th>\n",
       "      <th>Location Rating</th>\n",
       "      <th>Value Rating</th>\n",
       "      <th>Instant Bookable</th>\n",
       "      <th>Business Travel Ready</th>\n",
       "      <th>Price</th>\n",
       "    </tr>\n",
       "  </thead>\n",
       "  <tbody>\n",
       "    <tr>\n",
       "      <th>0</th>\n",
       "      <td>19665213.0</td>\n",
       "      <td>*</td>\n",
       "      <td>156079597.0</td>\n",
       "      <td>Maximilian</td>\n",
       "      <td>2016-01-20</td>\n",
       "      <td>NaN</td>\n",
       "      <td>NaN</td>\n",
       "      <td>f</td>\n",
       "      <td>Prenzlauer Berg</td>\n",
       "      <td>Pankow</td>\n",
       "      <td>Berlin</td>\n",
       "      <td>10437.0</td>\n",
       "      <td>DE</td>\n",
       "      <td>Germany</td>\n",
       "      <td>52.54652</td>\n",
       "      <td>13.41792</td>\n",
       "      <td>t</td>\n",
       "      <td>Apartment</td>\n",
       "      <td>Private room</td>\n",
       "      <td>2</td>\n",
       "      <td>1.0</td>\n",
       "      <td>1.0</td>\n",
       "      <td>1.0</td>\n",
       "      <td>NaN</td>\n",
       "      <td>1</td>\n",
       "      <td>2</td>\n",
       "      <td>6</td>\n",
       "      <td>2017-07-07</td>\n",
       "      <td>2017-08-08</td>\n",
       "      <td>100.0</td>\n",
       "      <td>10.0</td>\n",
       "      <td>10.0</td>\n",
       "      <td>10.0</td>\n",
       "      <td>10.0</td>\n",
       "      <td>9.0</td>\n",
       "      <td>10.0</td>\n",
       "      <td>t</td>\n",
       "      <td>f</td>\n",
       "      <td>26.0</td>\n",
       "    </tr>\n",
       "    <tr>\n",
       "      <th>1</th>\n",
       "      <td>6436842.0</td>\n",
       "      <td>*</td>\n",
       "      <td>5302290.0</td>\n",
       "      <td>Dulie</td>\n",
       "      <td>2013-04-07</td>\n",
       "      <td>NaN</td>\n",
       "      <td>NaN</td>\n",
       "      <td>f</td>\n",
       "      <td>Pankow</td>\n",
       "      <td>Pankow</td>\n",
       "      <td>Berlin</td>\n",
       "      <td>13187.0</td>\n",
       "      <td>DE</td>\n",
       "      <td>Germany</td>\n",
       "      <td>52.56512</td>\n",
       "      <td>13.42214</td>\n",
       "      <td>t</td>\n",
       "      <td>Apartment</td>\n",
       "      <td>Entire home/apt</td>\n",
       "      <td>2</td>\n",
       "      <td>1.0</td>\n",
       "      <td>2.0</td>\n",
       "      <td>2.0</td>\n",
       "      <td>NaN</td>\n",
       "      <td>2</td>\n",
       "      <td>7</td>\n",
       "      <td>6</td>\n",
       "      <td>2015-05-26</td>\n",
       "      <td>2019-04-30</td>\n",
       "      <td>90.0</td>\n",
       "      <td>9.0</td>\n",
       "      <td>9.0</td>\n",
       "      <td>10.0</td>\n",
       "      <td>10.0</td>\n",
       "      <td>9.0</td>\n",
       "      <td>10.0</td>\n",
       "      <td>f</td>\n",
       "      <td>f</td>\n",
       "      <td>41.0</td>\n",
       "    </tr>\n",
       "    <tr>\n",
       "      <th>2</th>\n",
       "      <td>10559468.0</td>\n",
       "      <td>*</td>\n",
       "      <td>59151456.0</td>\n",
       "      <td>Geank</td>\n",
       "      <td>2016-02-07</td>\n",
       "      <td>NaN</td>\n",
       "      <td>NaN</td>\n",
       "      <td>f</td>\n",
       "      <td>Prenzlauer Berg</td>\n",
       "      <td>Pankow</td>\n",
       "      <td>Berlin</td>\n",
       "      <td>10439.0</td>\n",
       "      <td>DE</td>\n",
       "      <td>Germany</td>\n",
       "      <td>52.54741</td>\n",
       "      <td>13.42521</td>\n",
       "      <td>t</td>\n",
       "      <td>Apartment</td>\n",
       "      <td>Entire home/apt</td>\n",
       "      <td>3</td>\n",
       "      <td>1.0</td>\n",
       "      <td>1.0</td>\n",
       "      <td>2.0</td>\n",
       "      <td>NaN</td>\n",
       "      <td>1</td>\n",
       "      <td>1</td>\n",
       "      <td>2</td>\n",
       "      <td>2016-04-19</td>\n",
       "      <td>2016-07-04</td>\n",
       "      <td>100.0</td>\n",
       "      <td>10.0</td>\n",
       "      <td>10.0</td>\n",
       "      <td>10.0</td>\n",
       "      <td>10.0</td>\n",
       "      <td>10.0</td>\n",
       "      <td>10.0</td>\n",
       "      <td>f</td>\n",
       "      <td>f</td>\n",
       "      <td>50.0</td>\n",
       "    </tr>\n",
       "    <tr>\n",
       "      <th>3</th>\n",
       "      <td>27215482.0</td>\n",
       "      <td>*</td>\n",
       "      <td>193452785.0</td>\n",
       "      <td>Alix</td>\n",
       "      <td>2018-06-26</td>\n",
       "      <td>NaN</td>\n",
       "      <td>NaN</td>\n",
       "      <td>f</td>\n",
       "      <td>Friedrichshain</td>\n",
       "      <td>Friedrichshain-Kreuzberg</td>\n",
       "      <td>Berlin</td>\n",
       "      <td>10245</td>\n",
       "      <td>DE</td>\n",
       "      <td>Germany</td>\n",
       "      <td>52.50958</td>\n",
       "      <td>13.45144</td>\n",
       "      <td>t</td>\n",
       "      <td>Apartment</td>\n",
       "      <td>Private room</td>\n",
       "      <td>2</td>\n",
       "      <td>1.0</td>\n",
       "      <td>1.0</td>\n",
       "      <td>1.0</td>\n",
       "      <td>NaN</td>\n",
       "      <td>1</td>\n",
       "      <td>2</td>\n",
       "      <td>4</td>\n",
       "      <td>2018-07-31</td>\n",
       "      <td>2018-08-12</td>\n",
       "      <td>100.0</td>\n",
       "      <td>10.0</td>\n",
       "      <td>10.0</td>\n",
       "      <td>10.0</td>\n",
       "      <td>10.0</td>\n",
       "      <td>10.0</td>\n",
       "      <td>9.0</td>\n",
       "      <td>f</td>\n",
       "      <td>f</td>\n",
       "      <td>50.0</td>\n",
       "    </tr>\n",
       "    <tr>\n",
       "      <th>4</th>\n",
       "      <td>27287546.0</td>\n",
       "      <td>*</td>\n",
       "      <td>205870244.0</td>\n",
       "      <td>Lurina</td>\n",
       "      <td>2013-05-16</td>\n",
       "      <td>within a few hours</td>\n",
       "      <td>92%</td>\n",
       "      <td>t</td>\n",
       "      <td>Prenzlauer Berg</td>\n",
       "      <td>Pankow</td>\n",
       "      <td>Berlin</td>\n",
       "      <td>10405.0</td>\n",
       "      <td>DE</td>\n",
       "      <td>Germany</td>\n",
       "      <td>52.52995</td>\n",
       "      <td>13.41558</td>\n",
       "      <td>t</td>\n",
       "      <td>Apartment</td>\n",
       "      <td>Private room</td>\n",
       "      <td>3</td>\n",
       "      <td>1.0</td>\n",
       "      <td>1.0</td>\n",
       "      <td>2.0</td>\n",
       "      <td>NaN</td>\n",
       "      <td>1</td>\n",
       "      <td>6</td>\n",
       "      <td>0</td>\n",
       "      <td>NaN</td>\n",
       "      <td>NaN</td>\n",
       "      <td>NaN</td>\n",
       "      <td>NaN</td>\n",
       "      <td>NaN</td>\n",
       "      <td>NaN</td>\n",
       "      <td>NaN</td>\n",
       "      <td>NaN</td>\n",
       "      <td>NaN</td>\n",
       "      <td>t</td>\n",
       "      <td>f</td>\n",
       "      <td>55.0</td>\n",
       "    </tr>\n",
       "  </tbody>\n",
       "</table>\n",
       "</div>"
      ],
      "text/plain": [
       "   Listing ID Listing Name      Host ID   Host Name  Host Since  \\\n",
       "0  19665213.0            *  156079597.0  Maximilian  2016-01-20   \n",
       "1   6436842.0            *    5302290.0       Dulie  2013-04-07   \n",
       "2  10559468.0            *   59151456.0       Geank  2016-02-07   \n",
       "3  27215482.0            *  193452785.0        Alix  2018-06-26   \n",
       "4  27287546.0            *  205870244.0      Lurina  2013-05-16   \n",
       "\n",
       "   Host Response Time Host Response Rate Is Superhost    neighbourhood  \\\n",
       "0                 NaN                NaN            f  Prenzlauer Berg   \n",
       "1                 NaN                NaN            f           Pankow   \n",
       "2                 NaN                NaN            f  Prenzlauer Berg   \n",
       "3                 NaN                NaN            f   Friedrichshain   \n",
       "4  within a few hours                92%            t  Prenzlauer Berg   \n",
       "\n",
       "         Neighborhood Group    City Postal Code Country Code  Country  \\\n",
       "0                    Pankow  Berlin     10437.0           DE  Germany   \n",
       "1                    Pankow  Berlin     13187.0           DE  Germany   \n",
       "2                    Pankow  Berlin     10439.0           DE  Germany   \n",
       "3  Friedrichshain-Kreuzberg  Berlin       10245           DE  Germany   \n",
       "4                    Pankow  Berlin     10405.0           DE  Germany   \n",
       "\n",
       "   Latitude  Longitude Is Exact Location Property Type        Room Type  \\\n",
       "0  52.54652   13.41792                 t     Apartment     Private room   \n",
       "1  52.56512   13.42214                 t     Apartment  Entire home/apt   \n",
       "2  52.54741   13.42521                 t     Apartment  Entire home/apt   \n",
       "3  52.50958   13.45144                 t     Apartment     Private room   \n",
       "4  52.52995   13.41558                 t     Apartment     Private room   \n",
       "\n",
       "  Accomodates Bathrooms Bedrooms Beds  Square Feet Guests Included Min Nights  \\\n",
       "0           2       1.0      1.0  1.0          NaN               1          2   \n",
       "1           2       1.0      2.0  2.0          NaN               2          7   \n",
       "2           3       1.0      1.0  2.0          NaN               1          1   \n",
       "3           2       1.0      1.0  1.0          NaN               1          2   \n",
       "4           3       1.0      1.0  2.0          NaN               1          6   \n",
       "\n",
       "   Reviews First Review Last Review  Overall Rating  Accuracy Rating  \\\n",
       "0        6   2017-07-07  2017-08-08           100.0             10.0   \n",
       "1        6   2015-05-26  2019-04-30            90.0              9.0   \n",
       "2        2   2016-04-19  2016-07-04           100.0             10.0   \n",
       "3        4   2018-07-31  2018-08-12           100.0             10.0   \n",
       "4        0          NaN         NaN             NaN              NaN   \n",
       "\n",
       "   Cleanliness Rating  Checkin Rating  Communication Rating  Location Rating  \\\n",
       "0                10.0            10.0                  10.0              9.0   \n",
       "1                 9.0            10.0                  10.0              9.0   \n",
       "2                10.0            10.0                  10.0             10.0   \n",
       "3                10.0            10.0                  10.0             10.0   \n",
       "4                 NaN             NaN                   NaN              NaN   \n",
       "\n",
       "   Value Rating Instant Bookable Business Travel Ready  Price  \n",
       "0          10.0                t                     f   26.0  \n",
       "1          10.0                f                     f   41.0  \n",
       "2          10.0                f                     f   50.0  \n",
       "3           9.0                f                     f   50.0  \n",
       "4           NaN                t                     f   55.0  "
      ]
     },
     "execution_count": 5,
     "metadata": {},
     "output_type": "execute_result"
    }
   ],
   "source": [
    "DATA_DIR = \"data\"\n",
    "DATA_FILE = \"train_airbnb_berlin.csv\"\n",
    "PATH_DATA = os.path.join(DATA_DIR, DATA_FILE)\n",
    "dataset = pd.read_csv(PATH_DATA)\n",
    "dataset.head()"
   ]
  },
  {
   "cell_type": "code",
   "execution_count": 6,
   "id": "2947608b",
   "metadata": {},
   "outputs": [],
   "source": [
    "X = dataset.drop(\"Price\", axis=1)\n",
    "y = dataset[\"Price\"]"
   ]
  },
  {
   "cell_type": "markdown",
   "id": "3f2bcc97",
   "metadata": {},
   "source": [
    "<a href=\"#top\">back to top</a>"
   ]
  },
  {
   "cell_type": "markdown",
   "id": "16ae8ea9",
   "metadata": {},
   "source": [
    "<a name=\"general_analysis\">\n",
    "    \n",
    "### Global analysis"
   ]
  },
  {
   "cell_type": "code",
   "execution_count": 7,
   "id": "f4b0591a",
   "metadata": {
    "scrolled": true
   },
   "outputs": [
    {
     "data": {
      "text/plain": [
       "Index(['Listing ID', 'Listing Name', 'Host ID', 'Host Name', 'Host Since',\n",
       "       'Host Response Time', 'Host Response Rate', 'Is Superhost',\n",
       "       'neighbourhood', 'Neighborhood Group', 'City', 'Postal Code',\n",
       "       'Country Code', 'Country', 'Latitude', 'Longitude', 'Is Exact Location',\n",
       "       'Property Type', 'Room Type', 'Accomodates', 'Bathrooms', 'Bedrooms',\n",
       "       'Beds', 'Square Feet', 'Guests Included', 'Min Nights', 'Reviews',\n",
       "       'First Review', 'Last Review', 'Overall Rating', 'Accuracy Rating',\n",
       "       'Cleanliness Rating', 'Checkin Rating', 'Communication Rating',\n",
       "       'Location Rating', 'Value Rating', 'Instant Bookable',\n",
       "       'Business Travel Ready'],\n",
       "      dtype='object')"
      ]
     },
     "execution_count": 7,
     "metadata": {},
     "output_type": "execute_result"
    }
   ],
   "source": [
    "X.columns"
   ]
  },
  {
   "cell_type": "code",
   "execution_count": 8,
   "id": "d88ee801",
   "metadata": {},
   "outputs": [
    {
     "name": "stdout",
     "output_type": "stream",
     "text": [
      "<class 'pandas.core.frame.DataFrame'>\n",
      "RangeIndex: 15692 entries, 0 to 15691\n",
      "Data columns (total 39 columns):\n",
      " #   Column                 Non-Null Count  Dtype  \n",
      "---  ------                 --------------  -----  \n",
      " 0   Listing ID             15691 non-null  float64\n",
      " 1   Listing Name           15638 non-null  object \n",
      " 2   Host ID                15692 non-null  float64\n",
      " 3   Host Name              15670 non-null  object \n",
      " 4   Host Since             15671 non-null  object \n",
      " 5   Host Response Time     8617 non-null   object \n",
      " 6   Host Response Rate     8617 non-null   object \n",
      " 7   Is Superhost           15669 non-null  object \n",
      " 8   neighbourhood          15692 non-null  object \n",
      " 9   Neighborhood Group     15692 non-null  object \n",
      " 10  City                   15691 non-null  object \n",
      " 11  Postal Code            15463 non-null  object \n",
      " 12  Country Code           15692 non-null  object \n",
      " 13  Country                15692 non-null  object \n",
      " 14  Latitude               15692 non-null  float64\n",
      " 15  Longitude              15692 non-null  float64\n",
      " 16  Is Exact Location      15692 non-null  object \n",
      " 17  Property Type          15692 non-null  object \n",
      " 18  Room Type              15692 non-null  object \n",
      " 19  Accomodates            15692 non-null  object \n",
      " 20  Bathrooms              15678 non-null  object \n",
      " 21  Bedrooms               15687 non-null  object \n",
      " 22  Beds                   15684 non-null  object \n",
      " 23  Square Feet            303 non-null    float64\n",
      " 24  Guests Included        15692 non-null  object \n",
      " 25  Min Nights             15692 non-null  object \n",
      " 26  Reviews                15692 non-null  int64  \n",
      " 27  First Review           12987 non-null  object \n",
      " 28  Last Review            12986 non-null  object \n",
      " 29  Overall Rating         12730 non-null  float64\n",
      " 30  Accuracy Rating        12721 non-null  float64\n",
      " 31  Cleanliness Rating     12722 non-null  float64\n",
      " 32  Checkin Rating         12719 non-null  float64\n",
      " 33  Communication Rating   12722 non-null  float64\n",
      " 34  Location Rating        12721 non-null  float64\n",
      " 35  Value Rating           12720 non-null  float64\n",
      " 36  Instant Bookable       15692 non-null  object \n",
      " 37  Business Travel Ready  15692 non-null  object \n",
      " 38  Price                  15683 non-null  float64\n",
      "dtypes: float64(13), int64(1), object(25)\n",
      "memory usage: 4.7+ MB\n"
     ]
    }
   ],
   "source": [
    "dataset.info()"
   ]
  },
  {
   "cell_type": "code",
   "execution_count": 9,
   "id": "a9686dc1",
   "metadata": {
    "scrolled": false
   },
   "outputs": [
    {
     "data": {
      "text/html": [
       "<div>\n",
       "<style scoped>\n",
       "    .dataframe tbody tr th:only-of-type {\n",
       "        vertical-align: middle;\n",
       "    }\n",
       "\n",
       "    .dataframe tbody tr th {\n",
       "        vertical-align: top;\n",
       "    }\n",
       "\n",
       "    .dataframe thead th {\n",
       "        text-align: right;\n",
       "    }\n",
       "</style>\n",
       "<table border=\"1\" class=\"dataframe\">\n",
       "  <thead>\n",
       "    <tr style=\"text-align: right;\">\n",
       "      <th></th>\n",
       "      <th>Listing ID</th>\n",
       "      <th>Host ID</th>\n",
       "      <th>Latitude</th>\n",
       "      <th>Longitude</th>\n",
       "      <th>Square Feet</th>\n",
       "      <th>Reviews</th>\n",
       "      <th>Overall Rating</th>\n",
       "      <th>Accuracy Rating</th>\n",
       "      <th>Cleanliness Rating</th>\n",
       "      <th>Checkin Rating</th>\n",
       "      <th>Communication Rating</th>\n",
       "      <th>Location Rating</th>\n",
       "      <th>Value Rating</th>\n",
       "      <th>Price</th>\n",
       "    </tr>\n",
       "  </thead>\n",
       "  <tbody>\n",
       "    <tr>\n",
       "      <th>count</th>\n",
       "      <td>1.569100e+04</td>\n",
       "      <td>1.569200e+04</td>\n",
       "      <td>15692.000000</td>\n",
       "      <td>15692.000000</td>\n",
       "      <td>303.000000</td>\n",
       "      <td>15692.000000</td>\n",
       "      <td>12730.000000</td>\n",
       "      <td>12721.000000</td>\n",
       "      <td>12722.000000</td>\n",
       "      <td>12719.000000</td>\n",
       "      <td>12722.000000</td>\n",
       "      <td>12721.000000</td>\n",
       "      <td>12720.000000</td>\n",
       "      <td>15683.000000</td>\n",
       "    </tr>\n",
       "    <tr>\n",
       "      <th>mean</th>\n",
       "      <td>1.780062e+07</td>\n",
       "      <td>6.119042e+07</td>\n",
       "      <td>52.509893</td>\n",
       "      <td>13.407334</td>\n",
       "      <td>445.900990</td>\n",
       "      <td>19.452014</td>\n",
       "      <td>94.717282</td>\n",
       "      <td>9.717475</td>\n",
       "      <td>9.328407</td>\n",
       "      <td>9.769164</td>\n",
       "      <td>9.779201</td>\n",
       "      <td>9.556874</td>\n",
       "      <td>9.458097</td>\n",
       "      <td>60.342983</td>\n",
       "    </tr>\n",
       "    <tr>\n",
       "      <th>std</th>\n",
       "      <td>9.952544e+06</td>\n",
       "      <td>6.739421e+07</td>\n",
       "      <td>0.031286</td>\n",
       "      <td>0.058646</td>\n",
       "      <td>414.817342</td>\n",
       "      <td>39.483853</td>\n",
       "      <td>7.069787</td>\n",
       "      <td>0.671793</td>\n",
       "      <td>1.023807</td>\n",
       "      <td>0.620347</td>\n",
       "      <td>0.619545</td>\n",
       "      <td>0.731109</td>\n",
       "      <td>0.788891</td>\n",
       "      <td>48.829687</td>\n",
       "    </tr>\n",
       "    <tr>\n",
       "      <th>min</th>\n",
       "      <td>2.241500e+04</td>\n",
       "      <td>1.101500e+04</td>\n",
       "      <td>52.369270</td>\n",
       "      <td>13.121400</td>\n",
       "      <td>0.000000</td>\n",
       "      <td>0.000000</td>\n",
       "      <td>20.000000</td>\n",
       "      <td>2.000000</td>\n",
       "      <td>2.000000</td>\n",
       "      <td>2.000000</td>\n",
       "      <td>2.000000</td>\n",
       "      <td>2.000000</td>\n",
       "      <td>2.000000</td>\n",
       "      <td>8.000000</td>\n",
       "    </tr>\n",
       "    <tr>\n",
       "      <th>25%</th>\n",
       "      <td>9.052831e+06</td>\n",
       "      <td>9.274528e+06</td>\n",
       "      <td>52.488920</td>\n",
       "      <td>13.376025</td>\n",
       "      <td>0.000000</td>\n",
       "      <td>1.000000</td>\n",
       "      <td>93.000000</td>\n",
       "      <td>10.000000</td>\n",
       "      <td>9.000000</td>\n",
       "      <td>10.000000</td>\n",
       "      <td>10.000000</td>\n",
       "      <td>9.000000</td>\n",
       "      <td>9.000000</td>\n",
       "      <td>32.000000</td>\n",
       "    </tr>\n",
       "    <tr>\n",
       "      <th>50%</th>\n",
       "      <td>1.865037e+07</td>\n",
       "      <td>3.358182e+07</td>\n",
       "      <td>52.509100</td>\n",
       "      <td>13.417250</td>\n",
       "      <td>440.000000</td>\n",
       "      <td>5.000000</td>\n",
       "      <td>97.000000</td>\n",
       "      <td>10.000000</td>\n",
       "      <td>10.000000</td>\n",
       "      <td>10.000000</td>\n",
       "      <td>10.000000</td>\n",
       "      <td>10.000000</td>\n",
       "      <td>10.000000</td>\n",
       "      <td>49.000000</td>\n",
       "    </tr>\n",
       "    <tr>\n",
       "      <th>75%</th>\n",
       "      <td>2.611308e+07</td>\n",
       "      <td>9.325677e+07</td>\n",
       "      <td>52.532713</td>\n",
       "      <td>13.439750</td>\n",
       "      <td>700.000000</td>\n",
       "      <td>17.000000</td>\n",
       "      <td>100.000000</td>\n",
       "      <td>10.000000</td>\n",
       "      <td>10.000000</td>\n",
       "      <td>10.000000</td>\n",
       "      <td>10.000000</td>\n",
       "      <td>10.000000</td>\n",
       "      <td>10.000000</td>\n",
       "      <td>70.000000</td>\n",
       "    </tr>\n",
       "    <tr>\n",
       "      <th>max</th>\n",
       "      <td>3.467450e+07</td>\n",
       "      <td>2.609698e+08</td>\n",
       "      <td>52.639670</td>\n",
       "      <td>13.709020</td>\n",
       "      <td>1912.000000</td>\n",
       "      <td>424.000000</td>\n",
       "      <td>100.000000</td>\n",
       "      <td>10.000000</td>\n",
       "      <td>10.000000</td>\n",
       "      <td>10.000000</td>\n",
       "      <td>10.000000</td>\n",
       "      <td>10.000000</td>\n",
       "      <td>10.000000</td>\n",
       "      <td>900.000000</td>\n",
       "    </tr>\n",
       "  </tbody>\n",
       "</table>\n",
       "</div>"
      ],
      "text/plain": [
       "         Listing ID       Host ID      Latitude     Longitude  Square Feet  \\\n",
       "count  1.569100e+04  1.569200e+04  15692.000000  15692.000000   303.000000   \n",
       "mean   1.780062e+07  6.119042e+07     52.509893     13.407334   445.900990   \n",
       "std    9.952544e+06  6.739421e+07      0.031286      0.058646   414.817342   \n",
       "min    2.241500e+04  1.101500e+04     52.369270     13.121400     0.000000   \n",
       "25%    9.052831e+06  9.274528e+06     52.488920     13.376025     0.000000   \n",
       "50%    1.865037e+07  3.358182e+07     52.509100     13.417250   440.000000   \n",
       "75%    2.611308e+07  9.325677e+07     52.532713     13.439750   700.000000   \n",
       "max    3.467450e+07  2.609698e+08     52.639670     13.709020  1912.000000   \n",
       "\n",
       "            Reviews  Overall Rating  Accuracy Rating  Cleanliness Rating  \\\n",
       "count  15692.000000    12730.000000     12721.000000        12722.000000   \n",
       "mean      19.452014       94.717282         9.717475            9.328407   \n",
       "std       39.483853        7.069787         0.671793            1.023807   \n",
       "min        0.000000       20.000000         2.000000            2.000000   \n",
       "25%        1.000000       93.000000        10.000000            9.000000   \n",
       "50%        5.000000       97.000000        10.000000           10.000000   \n",
       "75%       17.000000      100.000000        10.000000           10.000000   \n",
       "max      424.000000      100.000000        10.000000           10.000000   \n",
       "\n",
       "       Checkin Rating  Communication Rating  Location Rating  Value Rating  \\\n",
       "count    12719.000000          12722.000000     12721.000000  12720.000000   \n",
       "mean         9.769164              9.779201         9.556874      9.458097   \n",
       "std          0.620347              0.619545         0.731109      0.788891   \n",
       "min          2.000000              2.000000         2.000000      2.000000   \n",
       "25%         10.000000             10.000000         9.000000      9.000000   \n",
       "50%         10.000000             10.000000        10.000000     10.000000   \n",
       "75%         10.000000             10.000000        10.000000     10.000000   \n",
       "max         10.000000             10.000000        10.000000     10.000000   \n",
       "\n",
       "              Price  \n",
       "count  15683.000000  \n",
       "mean      60.342983  \n",
       "std       48.829687  \n",
       "min        8.000000  \n",
       "25%       32.000000  \n",
       "50%       49.000000  \n",
       "75%       70.000000  \n",
       "max      900.000000  "
      ]
     },
     "execution_count": 9,
     "metadata": {},
     "output_type": "execute_result"
    }
   ],
   "source": [
    "dataset.describe()"
   ]
  },
  {
   "cell_type": "code",
   "execution_count": 10,
   "id": "bfbb5416",
   "metadata": {},
   "outputs": [
    {
     "data": {
      "image/png": "[encoded data removed]",
      "text/plain": [
       "<Figure size 1440x720 with 1 Axes>"
      ]
     },
     "metadata": {},
     "output_type": "display_data"
    }
   ],
   "source": [
    "plt.figure(figsize=(20,10))\n",
    "sns.heatmap(dataset.isna(),cbar=False)\n",
    "plt.show()"
   ]
  },
  {
   "cell_type": "code",
   "execution_count": 11,
   "id": "12ff8896",
   "metadata": {},
   "outputs": [
    {
     "data": {
      "image/png": "[encoded data removed]",
      "text/plain": [
       "<Figure size 2880x2304 with 20 Axes>"
      ]
     },
     "metadata": {},
     "output_type": "display_data"
    }
   ],
   "source": [
    "numerical_dataset = dataset.select_dtypes(exclude=['object'])\n",
    "\n",
    "fig, axes = plt.subplots(4,5, figsize=(8*5,8*4))\n",
    "for i,col in enumerate(numerical_dataset):\n",
    "    sns.histplot(dataset[col], ax=axes[i//5,i%5])\n",
    "fig.suptitle(\"Quantitative features\")\n",
    "plt.show()"
   ]
  },
  {
   "cell_type": "markdown",
   "id": "8df6bb18",
   "metadata": {},
   "source": [
    "<a href=\"#top\">back to top</a>"
   ]
  },
  {
   "cell_type": "markdown",
   "id": "aa9832e8",
   "metadata": {},
   "source": [
    "<a name=\"analysis_per_col\">\n",
    "    \n",
    "### Feature analysis"
   ]
  },
  {
   "cell_type": "markdown",
   "id": "a993164f",
   "metadata": {},
   "source": [
    "#### Listing ID"
   ]
  },
  {
   "cell_type": "markdown",
   "id": "d02ba207",
   "metadata": {},
   "source": [
    "<div class=\"alert alert-block alert-success\">\n",
    "<b>Conlusion:</b> This variable represents an id, then it can't be used\n",
    "</div>"
   ]
  },
  {
   "cell_type": "markdown",
   "id": "0ed94306",
   "metadata": {},
   "source": [
    "<a href=\"#top\">back to top</a>"
   ]
  },
  {
   "cell_type": "markdown",
   "id": "25214fd5",
   "metadata": {},
   "source": [
    "#### Listing Name"
   ]
  },
  {
   "cell_type": "markdown",
   "id": "d94b5a0a",
   "metadata": {},
   "source": [
    "<div class=\"alert alert-block alert-success\">\n",
    "<b>Conlusion:</b> This variable represents a name, as we don't want to create biases in our model, we won't use it\n",
    "</div>"
   ]
  },
  {
   "cell_type": "markdown",
   "id": "438d2018",
   "metadata": {},
   "source": [
    "<a href=\"#top\">back to top</a>"
   ]
  },
  {
   "cell_type": "markdown",
   "id": "7729ab06",
   "metadata": {},
   "source": [
    "#### Host ID"
   ]
  },
  {
   "cell_type": "markdown",
   "id": "da4cafc2",
   "metadata": {},
   "source": [
    "<div class=\"alert alert-block alert-success\">\n",
    "<b>Conlusion:</b> This variable represents an id, then it can't be used\n",
    "</div>"
   ]
  },
  {
   "cell_type": "markdown",
   "id": "7f2d9683",
   "metadata": {},
   "source": [
    "<a href=\"#top\">back to top</a>"
   ]
  },
  {
   "cell_type": "markdown",
   "id": "f0cc423d",
   "metadata": {},
   "source": [
    "#### Host Name"
   ]
  },
  {
   "cell_type": "markdown",
   "id": "606da698",
   "metadata": {},
   "source": [
    "<div class=\"alert alert-block alert-success\">\n",
    "<b>Conlusion:</b> This variable represents a name, as we don't want to create biases in our model, we won't use it\n",
    "</div>"
   ]
  },
  {
   "cell_type": "markdown",
   "id": "ebf9adda",
   "metadata": {},
   "source": [
    "<a href=\"#top\">back to top</a>"
   ]
  },
  {
   "cell_type": "markdown",
   "id": "7858c968",
   "metadata": {},
   "source": [
    "#### Host Since"
   ]
  },
  {
   "cell_type": "code",
   "execution_count": 12,
   "id": "b51d9da8",
   "metadata": {
    "scrolled": true
   },
   "outputs": [
    {
     "name": "stdout",
     "output_type": "stream",
     "text": [
      "Missing value for Host Since columns: 0.134% (21/15692)\n"
     ]
    }
   ],
   "source": [
    "missing_values_rate_display(\"Host Since\", dataset)"
   ]
  },
  {
   "cell_type": "code",
   "execution_count": 13,
   "id": "d2746036",
   "metadata": {},
   "outputs": [],
   "source": [
    "dataset[\"Host Since date\"] = pd.to_datetime(dataset[\"Host Since\"])\n",
    "dataset[\"Host Since date year\"] = dataset[\"Host Since date\"].dt.year\n",
    "dataset[\"Host Since date month\"] = dataset[\"Host Since date\"].dt.month"
   ]
  },
  {
   "cell_type": "code",
   "execution_count": 14,
   "id": "45630296",
   "metadata": {},
   "outputs": [
    {
     "data": {
      "text/html": [
       "<div>\n",
       "<style scoped>\n",
       "    .dataframe tbody tr th:only-of-type {\n",
       "        vertical-align: middle;\n",
       "    }\n",
       "\n",
       "    .dataframe tbody tr th {\n",
       "        vertical-align: top;\n",
       "    }\n",
       "\n",
       "    .dataframe thead th {\n",
       "        text-align: right;\n",
       "    }\n",
       "</style>\n",
       "<table border=\"1\" class=\"dataframe\">\n",
       "  <thead>\n",
       "    <tr style=\"text-align: right;\">\n",
       "      <th></th>\n",
       "      <th>Host Since date year</th>\n",
       "      <th>Price</th>\n",
       "    </tr>\n",
       "  </thead>\n",
       "  <tbody>\n",
       "    <tr>\n",
       "      <th>count</th>\n",
       "      <td>15662.000000</td>\n",
       "      <td>15662.000000</td>\n",
       "    </tr>\n",
       "    <tr>\n",
       "      <th>mean</th>\n",
       "      <td>2014.783425</td>\n",
       "      <td>60.366364</td>\n",
       "    </tr>\n",
       "    <tr>\n",
       "      <th>std</th>\n",
       "      <td>2.048661</td>\n",
       "      <td>48.852450</td>\n",
       "    </tr>\n",
       "    <tr>\n",
       "      <th>min</th>\n",
       "      <td>2009.000000</td>\n",
       "      <td>8.000000</td>\n",
       "    </tr>\n",
       "    <tr>\n",
       "      <th>25%</th>\n",
       "      <td>2013.000000</td>\n",
       "      <td>32.000000</td>\n",
       "    </tr>\n",
       "    <tr>\n",
       "      <th>50%</th>\n",
       "      <td>2015.000000</td>\n",
       "      <td>49.000000</td>\n",
       "    </tr>\n",
       "    <tr>\n",
       "      <th>75%</th>\n",
       "      <td>2016.000000</td>\n",
       "      <td>70.000000</td>\n",
       "    </tr>\n",
       "    <tr>\n",
       "      <th>max</th>\n",
       "      <td>2019.000000</td>\n",
       "      <td>900.000000</td>\n",
       "    </tr>\n",
       "  </tbody>\n",
       "</table>\n",
       "</div>"
      ],
      "text/plain": [
       "       Host Since date year         Price\n",
       "count          15662.000000  15662.000000\n",
       "mean            2014.783425     60.366364\n",
       "std                2.048661     48.852450\n",
       "min             2009.000000      8.000000\n",
       "25%             2013.000000     32.000000\n",
       "50%             2015.000000     49.000000\n",
       "75%             2016.000000     70.000000\n",
       "max             2019.000000    900.000000"
      ]
     },
     "execution_count": 14,
     "metadata": {},
     "output_type": "execute_result"
    }
   ],
   "source": [
    "new_train = dataset[[\"Host Since date year\",\"Price\"]].dropna()\n",
    "new_train[\"Host Since date year\"] = new_train[\"Host Since date year\"].astype(\"int16\")\n",
    "new_train.describe()"
   ]
  },
  {
   "cell_type": "code",
   "execution_count": 15,
   "id": "df2e3021",
   "metadata": {},
   "outputs": [
    {
     "data": {
      "text/html": [
       "<div>\n",
       "<style scoped>\n",
       "    .dataframe tbody tr th:only-of-type {\n",
       "        vertical-align: middle;\n",
       "    }\n",
       "\n",
       "    .dataframe tbody tr th {\n",
       "        vertical-align: top;\n",
       "    }\n",
       "\n",
       "    .dataframe thead th {\n",
       "        text-align: right;\n",
       "    }\n",
       "</style>\n",
       "<table border=\"1\" class=\"dataframe\">\n",
       "  <thead>\n",
       "    <tr style=\"text-align: right;\">\n",
       "      <th></th>\n",
       "      <th>Host Since date month</th>\n",
       "      <th>Price</th>\n",
       "    </tr>\n",
       "  </thead>\n",
       "  <tbody>\n",
       "    <tr>\n",
       "      <th>count</th>\n",
       "      <td>15662.000000</td>\n",
       "      <td>15662.000000</td>\n",
       "    </tr>\n",
       "    <tr>\n",
       "      <th>mean</th>\n",
       "      <td>6.444005</td>\n",
       "      <td>60.366364</td>\n",
       "    </tr>\n",
       "    <tr>\n",
       "      <th>std</th>\n",
       "      <td>3.275121</td>\n",
       "      <td>48.852450</td>\n",
       "    </tr>\n",
       "    <tr>\n",
       "      <th>min</th>\n",
       "      <td>1.000000</td>\n",
       "      <td>8.000000</td>\n",
       "    </tr>\n",
       "    <tr>\n",
       "      <th>25%</th>\n",
       "      <td>4.000000</td>\n",
       "      <td>32.000000</td>\n",
       "    </tr>\n",
       "    <tr>\n",
       "      <th>50%</th>\n",
       "      <td>7.000000</td>\n",
       "      <td>49.000000</td>\n",
       "    </tr>\n",
       "    <tr>\n",
       "      <th>75%</th>\n",
       "      <td>9.000000</td>\n",
       "      <td>70.000000</td>\n",
       "    </tr>\n",
       "    <tr>\n",
       "      <th>max</th>\n",
       "      <td>12.000000</td>\n",
       "      <td>900.000000</td>\n",
       "    </tr>\n",
       "  </tbody>\n",
       "</table>\n",
       "</div>"
      ],
      "text/plain": [
       "       Host Since date month         Price\n",
       "count           15662.000000  15662.000000\n",
       "mean                6.444005     60.366364\n",
       "std                 3.275121     48.852450\n",
       "min                 1.000000      8.000000\n",
       "25%                 4.000000     32.000000\n",
       "50%                 7.000000     49.000000\n",
       "75%                 9.000000     70.000000\n",
       "max                12.000000    900.000000"
      ]
     },
     "execution_count": 15,
     "metadata": {},
     "output_type": "execute_result"
    }
   ],
   "source": [
    "new_train = dataset[[\"Host Since date month\",\"Price\"]].dropna()\n",
    "new_train[\"Host Since date month\"] = new_train[\"Host Since date month\"].astype(\"int16\")\n",
    "new_train.describe()"
   ]
  },
  {
   "cell_type": "code",
   "execution_count": 18,
   "id": "5045d565",
   "metadata": {},
   "outputs": [
    {
     "data": {
      "text/html": [
       "<div>\n",
       "<style scoped>\n",
       "    .dataframe tbody tr th:only-of-type {\n",
       "        vertical-align: middle;\n",
       "    }\n",
       "\n",
       "    .dataframe tbody tr th {\n",
       "        vertical-align: top;\n",
       "    }\n",
       "\n",
       "    .dataframe thead th {\n",
       "        text-align: right;\n",
       "    }\n",
       "</style>\n",
       "<table border=\"1\" class=\"dataframe\">\n",
       "  <thead>\n",
       "    <tr style=\"text-align: right;\">\n",
       "      <th></th>\n",
       "      <th>Host Since date month</th>\n",
       "      <th>Price</th>\n",
       "    </tr>\n",
       "  </thead>\n",
       "  <tbody>\n",
       "    <tr>\n",
       "      <th>0</th>\n",
       "      <td>1</td>\n",
       "      <td>26.0</td>\n",
       "    </tr>\n",
       "    <tr>\n",
       "      <th>1</th>\n",
       "      <td>4</td>\n",
       "      <td>41.0</td>\n",
       "    </tr>\n",
       "    <tr>\n",
       "      <th>2</th>\n",
       "      <td>2</td>\n",
       "      <td>50.0</td>\n",
       "    </tr>\n",
       "    <tr>\n",
       "      <th>3</th>\n",
       "      <td>6</td>\n",
       "      <td>50.0</td>\n",
       "    </tr>\n",
       "    <tr>\n",
       "      <th>4</th>\n",
       "      <td>5</td>\n",
       "      <td>55.0</td>\n",
       "    </tr>\n",
       "    <tr>\n",
       "      <th>...</th>\n",
       "      <td>...</td>\n",
       "      <td>...</td>\n",
       "    </tr>\n",
       "    <tr>\n",
       "      <th>15687</th>\n",
       "      <td>6</td>\n",
       "      <td>45.0</td>\n",
       "    </tr>\n",
       "    <tr>\n",
       "      <th>15688</th>\n",
       "      <td>4</td>\n",
       "      <td>130.0</td>\n",
       "    </tr>\n",
       "    <tr>\n",
       "      <th>15689</th>\n",
       "      <td>8</td>\n",
       "      <td>19.0</td>\n",
       "    </tr>\n",
       "    <tr>\n",
       "      <th>15690</th>\n",
       "      <td>12</td>\n",
       "      <td>100.0</td>\n",
       "    </tr>\n",
       "    <tr>\n",
       "      <th>15691</th>\n",
       "      <td>8</td>\n",
       "      <td>29.0</td>\n",
       "    </tr>\n",
       "  </tbody>\n",
       "</table>\n",
       "<p>15662 rows × 2 columns</p>\n",
       "</div>"
      ],
      "text/plain": [
       "       Host Since date month  Price\n",
       "0                          1   26.0\n",
       "1                          4   41.0\n",
       "2                          2   50.0\n",
       "3                          6   50.0\n",
       "4                          5   55.0\n",
       "...                      ...    ...\n",
       "15687                      6   45.0\n",
       "15688                      4  130.0\n",
       "15689                      8   19.0\n",
       "15690                     12  100.0\n",
       "15691                      8   29.0\n",
       "\n",
       "[15662 rows x 2 columns]"
      ]
     },
     "execution_count": 18,
     "metadata": {},
     "output_type": "execute_result"
    }
   ],
   "source": [
    "new_train"
   ]
  },
  {
   "cell_type": "code",
   "execution_count": 19,
   "id": "9a5caa47",
   "metadata": {},
   "outputs": [
    {
     "data": {
      "image/png": "[encoded data removed]",
      "text/plain": [
       "<Figure size 432x288 with 1 Axes>"
      ]
     },
     "metadata": {},
     "output_type": "display_data"
    }
   ],
   "source": [
    "pd.DataFrame(new_train.groupby([\"Host Since date month\"])[\"Price\"].mean()).plot.bar()\n",
    "plt.show()"
   ]
  },
  {
   "cell_type": "markdown",
   "id": "fcb765c1",
   "metadata": {},
   "source": [
    "<div class=\"alert alert-block alert-info\">\n",
    "<b>Rq:</b> Il y a-t-il un sens à regarder depuis quand le propriétaire existe sur airbnb ?  \n",
    "Hyp: Un propriétaire récent pourrait surévaluer ou sous-évaluer (plus probable) la valeur de son bien</div>"
   ]
  },
  {
   "cell_type": "markdown",
   "id": "20657824",
   "metadata": {},
   "source": [
    "<div class=\"alert alert-block alert-success\">\n",
    "<b>Conlusion:</b> This variable would not be util for the next step\n",
    "</div>"
   ]
  },
  {
   "cell_type": "markdown",
   "id": "54c2f534",
   "metadata": {},
   "source": [
    "<a href=\"#top\">back to top</a>"
   ]
  },
  {
   "cell_type": "markdown",
   "id": "2f85f658",
   "metadata": {},
   "source": [
    "#### Host Response Time"
   ]
  },
  {
   "cell_type": "code",
   "execution_count": 20,
   "id": "56037c89",
   "metadata": {
    "scrolled": true
   },
   "outputs": [
    {
     "name": "stdout",
     "output_type": "stream",
     "text": [
      "Missing value for Host Response Time columns: 45.087% (7075/15692)\n"
     ]
    }
   ],
   "source": [
    "missing_values_rate_display(\"Host Response Time\", dataset)"
   ]
  },
  {
   "cell_type": "code",
   "execution_count": 21,
   "id": "ff739408",
   "metadata": {},
   "outputs": [
    {
     "data": {
      "text/plain": [
       "Host Response Time\n",
       "a few days or more    62.427793\n",
       "within a day          62.788403\n",
       "within a few hours    66.585933\n",
       "within an hour        68.459220\n",
       "Name: Price, dtype: float64"
      ]
     },
     "execution_count": 21,
     "metadata": {},
     "output_type": "execute_result"
    }
   ],
   "source": [
    "dataset[[\"Host Response Time\",\"Price\"]].dropna().groupby([\"Host Response Time\"])[\"Price\"].mean()"
   ]
  },
  {
   "cell_type": "code",
   "execution_count": 22,
   "id": "b47977e2",
   "metadata": {},
   "outputs": [
    {
     "data": {
      "text/html": [
       "<div>\n",
       "<style scoped>\n",
       "    .dataframe tbody tr th:only-of-type {\n",
       "        vertical-align: middle;\n",
       "    }\n",
       "\n",
       "    .dataframe tbody tr th {\n",
       "        vertical-align: top;\n",
       "    }\n",
       "\n",
       "    .dataframe thead tr th {\n",
       "        text-align: left;\n",
       "    }\n",
       "\n",
       "    .dataframe thead tr:last-of-type th {\n",
       "        text-align: right;\n",
       "    }\n",
       "</style>\n",
       "<table border=\"1\" class=\"dataframe\">\n",
       "  <thead>\n",
       "    <tr>\n",
       "      <th></th>\n",
       "      <th>min</th>\n",
       "      <th>max</th>\n",
       "      <th>mean</th>\n",
       "      <th>median</th>\n",
       "    </tr>\n",
       "    <tr>\n",
       "      <th></th>\n",
       "      <th>Price</th>\n",
       "      <th>Price</th>\n",
       "      <th>Price</th>\n",
       "      <th>Price</th>\n",
       "    </tr>\n",
       "    <tr>\n",
       "      <th>Host Response Time</th>\n",
       "      <th></th>\n",
       "      <th></th>\n",
       "      <th></th>\n",
       "      <th></th>\n",
       "    </tr>\n",
       "  </thead>\n",
       "  <tbody>\n",
       "    <tr>\n",
       "      <th>a few days or more</th>\n",
       "      <td>13.0</td>\n",
       "      <td>720.0</td>\n",
       "      <td>62.427793</td>\n",
       "      <td>50.0</td>\n",
       "    </tr>\n",
       "    <tr>\n",
       "      <th>within a day</th>\n",
       "      <td>8.0</td>\n",
       "      <td>900.0</td>\n",
       "      <td>62.788403</td>\n",
       "      <td>50.0</td>\n",
       "    </tr>\n",
       "    <tr>\n",
       "      <th>within a few hours</th>\n",
       "      <td>8.0</td>\n",
       "      <td>900.0</td>\n",
       "      <td>66.585933</td>\n",
       "      <td>50.0</td>\n",
       "    </tr>\n",
       "    <tr>\n",
       "      <th>within an hour</th>\n",
       "      <td>8.0</td>\n",
       "      <td>650.0</td>\n",
       "      <td>68.459220</td>\n",
       "      <td>52.0</td>\n",
       "    </tr>\n",
       "    <tr>\n",
       "      <th>All</th>\n",
       "      <td>8.0</td>\n",
       "      <td>900.0</td>\n",
       "      <td>66.523234</td>\n",
       "      <td>50.0</td>\n",
       "    </tr>\n",
       "  </tbody>\n",
       "</table>\n",
       "</div>"
      ],
      "text/plain": [
       "                     min    max       mean median\n",
       "                   Price  Price      Price  Price\n",
       "Host Response Time                               \n",
       "a few days or more  13.0  720.0  62.427793   50.0\n",
       "within a day         8.0  900.0  62.788403   50.0\n",
       "within a few hours   8.0  900.0  66.585933   50.0\n",
       "within an hour       8.0  650.0  68.459220   52.0\n",
       "All                  8.0  900.0  66.523234   50.0"
      ]
     },
     "execution_count": 22,
     "metadata": {},
     "output_type": "execute_result"
    }
   ],
   "source": [
    "new_train_time_host = dataset[[\"Host Response Time\",\"Price\"]].dropna()\n",
    "pivot_table = dataset.pivot_table(\n",
    "    index=[\"Host Response Time\"],\n",
    "    values=[\"Price\"],\n",
    "    aggfunc=[\"min\",\"max\",\"mean\",\"median\"],\n",
    "    margins=True\n",
    ")\n",
    "pivot_table"
   ]
  },
  {
   "cell_type": "code",
   "execution_count": 23,
   "id": "e4eb1d31",
   "metadata": {},
   "outputs": [
    {
     "ename": "NameError",
     "evalue": "name 'OrdinalEncoder' is not defined",
     "output_type": "error",
     "traceback": [
      "\u001b[1;31m---------------------------------------------------------------------------\u001b[0m",
      "\u001b[1;31mNameError\u001b[0m                                 Traceback (most recent call last)",
      "Input \u001b[1;32mIn [23]\u001b[0m, in \u001b[0;36m<cell line: 1>\u001b[1;34m()\u001b[0m\n\u001b[1;32m----> 1\u001b[0m encoder \u001b[38;5;241m=\u001b[39m \u001b[43mOrdinalEncoder\u001b[49m()\n\u001b[0;32m      2\u001b[0m dataset[[\u001b[38;5;124m\"\u001b[39m\u001b[38;5;124mHost Response Time Encoded\u001b[39m\u001b[38;5;124m\"\u001b[39m]] \u001b[38;5;241m=\u001b[39m encoder\u001b[38;5;241m.\u001b[39mfit_transform(dataset[[\u001b[38;5;124m\"\u001b[39m\u001b[38;5;124mHost Response Time\u001b[39m\u001b[38;5;124m\"\u001b[39m]])\n",
      "\u001b[1;31mNameError\u001b[0m: name 'OrdinalEncoder' is not defined"
     ]
    }
   ],
   "source": [
    "encoder = OrdinalEncoder()\n",
    "dataset[[\"Host Response Time Encoded\"]] = encoder.fit_transform(dataset[[\"Host Response Time\"]])"
   ]
  },
  {
   "cell_type": "code",
   "execution_count": 24,
   "id": "63355820",
   "metadata": {
    "scrolled": false
   },
   "outputs": [
    {
     "data": {
      "image/png": "[encoded data removed]",
      "text/plain": [
       "<Figure size 792x648 with 2 Axes>"
      ]
     },
     "metadata": {},
     "output_type": "display_data"
    }
   ],
   "source": [
    "corr = dataset.corr()\n",
    "display_corr_matrix(corr)"
   ]
  },
  {
   "cell_type": "markdown",
   "id": "0fd11059",
   "metadata": {},
   "source": [
    "<div class=\"alert alert-block alert-success\">\n",
    "<b>Conlusion:</b> This variable would not be util for the next step\n",
    "</div>"
   ]
  },
  {
   "cell_type": "markdown",
   "id": "a5e30337",
   "metadata": {},
   "source": [
    "<a href=\"#top\">back to top</a>"
   ]
  },
  {
   "cell_type": "markdown",
   "id": "523bba46",
   "metadata": {},
   "source": [
    "#### Host Response Rate"
   ]
  },
  {
   "cell_type": "code",
   "execution_count": 25,
   "id": "98c14c3d",
   "metadata": {},
   "outputs": [
    {
     "name": "stdout",
     "output_type": "stream",
     "text": [
      "Missing value for Host Response Rate columns: 45.087% (7075/15692)\n"
     ]
    }
   ],
   "source": [
    "missing_values_rate_display(\"Host Response Rate\", dataset)"
   ]
  },
  {
   "cell_type": "code",
   "execution_count": 26,
   "id": "4dc65f9b",
   "metadata": {
    "scrolled": true
   },
   "outputs": [
    {
     "ename": "NameError",
     "evalue": "name 'trainset' is not defined",
     "output_type": "error",
     "traceback": [
      "\u001b[1;31m---------------------------------------------------------------------------\u001b[0m",
      "\u001b[1;31mNameError\u001b[0m                                 Traceback (most recent call last)",
      "Input \u001b[1;32mIn [26]\u001b[0m, in \u001b[0;36m<cell line: 1>\u001b[1;34m()\u001b[0m\n\u001b[1;32m----> 1\u001b[0m new_train_rate \u001b[38;5;241m=\u001b[39m \u001b[43mtrainset\u001b[49m[[\u001b[38;5;124m\"\u001b[39m\u001b[38;5;124mHost Response Rate\u001b[39m\u001b[38;5;124m\"\u001b[39m,\u001b[38;5;124m\"\u001b[39m\u001b[38;5;124mPrice\u001b[39m\u001b[38;5;124m\"\u001b[39m]]\u001b[38;5;241m.\u001b[39mdropna()\n\u001b[0;32m      2\u001b[0m new_train_rate \u001b[38;5;241m=\u001b[39m new_train_rate\u001b[38;5;241m.\u001b[39mdrop(new_train_rate[new_train_rate[\u001b[38;5;124m\"\u001b[39m\u001b[38;5;124mHost Response Rate\u001b[39m\u001b[38;5;124m\"\u001b[39m] \u001b[38;5;241m==\u001b[39m \u001b[38;5;124m\"\u001b[39m\u001b[38;5;124m*\u001b[39m\u001b[38;5;124m\"\u001b[39m]\u001b[38;5;241m.\u001b[39mindex)\n\u001b[0;32m      3\u001b[0m new_train_rate[\u001b[38;5;124m\"\u001b[39m\u001b[38;5;124mHost Response Rate\u001b[39m\u001b[38;5;124m\"\u001b[39m] \u001b[38;5;241m=\u001b[39m new_train_rate[\u001b[38;5;124m\"\u001b[39m\u001b[38;5;124mHost Response Rate\u001b[39m\u001b[38;5;124m\"\u001b[39m]\u001b[38;5;241m.\u001b[39mapply(\u001b[38;5;28;01mlambda\u001b[39;00m x:x[:\u001b[38;5;241m-\u001b[39m\u001b[38;5;241m1\u001b[39m])\u001b[38;5;241m.\u001b[39mastype(\u001b[38;5;124m\"\u001b[39m\u001b[38;5;124mint\u001b[39m\u001b[38;5;124m\"\u001b[39m)\n",
      "\u001b[1;31mNameError\u001b[0m: name 'trainset' is not defined"
     ]
    }
   ],
   "source": [
    "new_train_rate = trainset[[\"Host Response Rate\",\"Price\"]].dropna()\n",
    "new_train_rate = new_train_rate.drop(new_train_rate[new_train_rate[\"Host Response Rate\"] == \"*\"].index)\n",
    "new_train_rate[\"Host Response Rate\"] = new_train_rate[\"Host Response Rate\"].apply(lambda x:x[:-1]).astype(\"int\")\n",
    "new_train_rate.groupby([\"Host Response Rate\"])[\"Price\"].mean().plot.bar()"
   ]
  },
  {
   "cell_type": "markdown",
   "id": "bb9f7e2a",
   "metadata": {},
   "source": [
    "<div class=\"alert alert-block alert-success\">\n",
    "<b>Conlusion:</b> This variable would not be util for the next step\n",
    "</div>"
   ]
  },
  {
   "cell_type": "markdown",
   "id": "37c0ca38",
   "metadata": {},
   "source": [
    "<a href=\"#top\">back to top</a>"
   ]
  },
  {
   "cell_type": "markdown",
   "id": "68eae651",
   "metadata": {},
   "source": [
    "#### Is Superhost"
   ]
  },
  {
   "cell_type": "code",
   "execution_count": 27,
   "id": "a38acd3f",
   "metadata": {
    "scrolled": false
   },
   "outputs": [
    {
     "name": "stdout",
     "output_type": "stream",
     "text": [
      "Missing value for Is Superhost columns: 0.147% (23/15692)\n"
     ]
    }
   ],
   "source": [
    "missing_values_rate_display(\"Is Superhost\", dataset)"
   ]
  },
  {
   "cell_type": "code",
   "execution_count": 28,
   "id": "0bc7d889",
   "metadata": {},
   "outputs": [
    {
     "ename": "NameError",
     "evalue": "name 'trainset' is not defined",
     "output_type": "error",
     "traceback": [
      "\u001b[1;31m---------------------------------------------------------------------------\u001b[0m",
      "\u001b[1;31mNameError\u001b[0m                                 Traceback (most recent call last)",
      "Input \u001b[1;32mIn [28]\u001b[0m, in \u001b[0;36m<cell line: 1>\u001b[1;34m()\u001b[0m\n\u001b[1;32m----> 1\u001b[0m \u001b[43mtrainset\u001b[49m\u001b[38;5;241m.\u001b[39mgroupby([\u001b[38;5;124m\"\u001b[39m\u001b[38;5;124mIs Superhost\u001b[39m\u001b[38;5;124m\"\u001b[39m])[\u001b[38;5;124m\"\u001b[39m\u001b[38;5;124mPrice\u001b[39m\u001b[38;5;124m\"\u001b[39m]\u001b[38;5;241m.\u001b[39mmean()\u001b[38;5;241m.\u001b[39mplot\u001b[38;5;241m.\u001b[39mbar()\n\u001b[0;32m      2\u001b[0m plt\u001b[38;5;241m.\u001b[39mshow()\n",
      "\u001b[1;31mNameError\u001b[0m: name 'trainset' is not defined"
     ]
    }
   ],
   "source": [
    "trainset.groupby([\"Is Superhost\"])[\"Price\"].mean().plot.bar()\n",
    "plt.show()"
   ]
  },
  {
   "cell_type": "code",
   "execution_count": 29,
   "id": "0bbd2722",
   "metadata": {},
   "outputs": [
    {
     "ename": "NameError",
     "evalue": "name 'OrdinalEncoder' is not defined",
     "output_type": "error",
     "traceback": [
      "\u001b[1;31m---------------------------------------------------------------------------\u001b[0m",
      "\u001b[1;31mNameError\u001b[0m                                 Traceback (most recent call last)",
      "Input \u001b[1;32mIn [29]\u001b[0m, in \u001b[0;36m<cell line: 1>\u001b[1;34m()\u001b[0m\n\u001b[1;32m----> 1\u001b[0m encoder \u001b[38;5;241m=\u001b[39m \u001b[43mOrdinalEncoder\u001b[49m()\n\u001b[0;32m      2\u001b[0m trainset[[\u001b[38;5;124m\"\u001b[39m\u001b[38;5;124mIs Superhost Encoded\u001b[39m\u001b[38;5;124m\"\u001b[39m]] \u001b[38;5;241m=\u001b[39m encoder\u001b[38;5;241m.\u001b[39mfit_transform(trainset[[\u001b[38;5;124m\"\u001b[39m\u001b[38;5;124mIs Superhost\u001b[39m\u001b[38;5;124m\"\u001b[39m]])\n",
      "\u001b[1;31mNameError\u001b[0m: name 'OrdinalEncoder' is not defined"
     ]
    }
   ],
   "source": [
    "encoder = OrdinalEncoder()\n",
    "trainset[[\"Is Superhost Encoded\"]] = encoder.fit_transform(trainset[[\"Is Superhost\"]])"
   ]
  },
  {
   "cell_type": "code",
   "execution_count": 30,
   "id": "0f34de31",
   "metadata": {},
   "outputs": [
    {
     "ename": "NameError",
     "evalue": "name 'trainset' is not defined",
     "output_type": "error",
     "traceback": [
      "\u001b[1;31m---------------------------------------------------------------------------\u001b[0m",
      "\u001b[1;31mNameError\u001b[0m                                 Traceback (most recent call last)",
      "Input \u001b[1;32mIn [30]\u001b[0m, in \u001b[0;36m<cell line: 1>\u001b[1;34m()\u001b[0m\n\u001b[1;32m----> 1\u001b[0m \u001b[43mtrainset\u001b[49m[[\u001b[38;5;124m\"\u001b[39m\u001b[38;5;124mIs Superhost\u001b[39m\u001b[38;5;124m\"\u001b[39m]]\n\u001b[0;32m      2\u001b[0m trainset\u001b[38;5;241m.\u001b[39mgroupby([\u001b[38;5;124m\"\u001b[39m\u001b[38;5;124mIs Superhost Encoded\u001b[39m\u001b[38;5;124m\"\u001b[39m])[\u001b[38;5;124m\"\u001b[39m\u001b[38;5;124mPrice\u001b[39m\u001b[38;5;124m\"\u001b[39m]\u001b[38;5;241m.\u001b[39mmean()\u001b[38;5;241m.\u001b[39mplot\u001b[38;5;241m.\u001b[39mbar()\n\u001b[0;32m      3\u001b[0m plt\u001b[38;5;241m.\u001b[39mshow()\n",
      "\u001b[1;31mNameError\u001b[0m: name 'trainset' is not defined"
     ]
    }
   ],
   "source": [
    "trainset[[\"Is Superhost\"]]\n",
    "trainset.groupby([\"Is Superhost Encoded\"])[\"Price\"].mean().plot.bar()\n",
    "plt.show()"
   ]
  },
  {
   "cell_type": "code",
   "execution_count": 31,
   "id": "99c02f0b",
   "metadata": {},
   "outputs": [
    {
     "ename": "NameError",
     "evalue": "name 'trainset' is not defined",
     "output_type": "error",
     "traceback": [
      "\u001b[1;31m---------------------------------------------------------------------------\u001b[0m",
      "\u001b[1;31mNameError\u001b[0m                                 Traceback (most recent call last)",
      "Input \u001b[1;32mIn [31]\u001b[0m, in \u001b[0;36m<cell line: 1>\u001b[1;34m()\u001b[0m\n\u001b[1;32m----> 1\u001b[0m corr \u001b[38;5;241m=\u001b[39m \u001b[43mtrainset\u001b[49m\u001b[38;5;241m.\u001b[39mcorr()\n\u001b[0;32m      2\u001b[0m \u001b[38;5;66;03m# Generate a mask for the upper triangle\u001b[39;00m\n\u001b[0;32m      3\u001b[0m mask \u001b[38;5;241m=\u001b[39m np\u001b[38;5;241m.\u001b[39mtriu(np\u001b[38;5;241m.\u001b[39mones_like(corr, dtype\u001b[38;5;241m=\u001b[39m\u001b[38;5;28mbool\u001b[39m))\n",
      "\u001b[1;31mNameError\u001b[0m: name 'trainset' is not defined"
     ]
    }
   ],
   "source": [
    "corr = trainset.corr()\n",
    "# Generate a mask for the upper triangle\n",
    "mask = np.triu(np.ones_like(corr, dtype=bool))\n",
    "\n",
    "# Set up the matplotlib figure\n",
    "f, ax = plt.subplots(figsize=(11, 9))\n",
    "\n",
    "# Generate a custom diverging colormap\n",
    "cmap = sns.diverging_palette(230, 20, as_cmap=True)\n",
    "\n",
    "# Draw the heatmap with the mask and correct aspect ratio\n",
    "sns.heatmap(corr, mask=mask, cmap=cmap, vmax=.3, center=0,\n",
    "            square=True, linewidths=.5, cbar_kws={\"shrink\": .5})"
   ]
  },
  {
   "cell_type": "code",
   "execution_count": 32,
   "id": "aedccdb9",
   "metadata": {},
   "outputs": [
    {
     "ename": "NameError",
     "evalue": "name 'trainset' is not defined",
     "output_type": "error",
     "traceback": [
      "\u001b[1;31m---------------------------------------------------------------------------\u001b[0m",
      "\u001b[1;31mNameError\u001b[0m                                 Traceback (most recent call last)",
      "Input \u001b[1;32mIn [32]\u001b[0m, in \u001b[0;36m<cell line: 1>\u001b[1;34m()\u001b[0m\n\u001b[1;32m----> 1\u001b[0m new_train_time_host \u001b[38;5;241m=\u001b[39m \u001b[43mtrainset\u001b[49m[[\u001b[38;5;124m\"\u001b[39m\u001b[38;5;124mHost Response Time\u001b[39m\u001b[38;5;124m\"\u001b[39m,\u001b[38;5;124m\"\u001b[39m\u001b[38;5;124mPrice\u001b[39m\u001b[38;5;124m\"\u001b[39m]]\u001b[38;5;241m.\u001b[39mdropna()\n\u001b[0;32m      2\u001b[0m pivot_table \u001b[38;5;241m=\u001b[39m trainset\u001b[38;5;241m.\u001b[39mpivot_table(\n\u001b[0;32m      3\u001b[0m     index\u001b[38;5;241m=\u001b[39m[\u001b[38;5;124m\"\u001b[39m\u001b[38;5;124mHost Response Time\u001b[39m\u001b[38;5;124m\"\u001b[39m],\n\u001b[0;32m      4\u001b[0m     values\u001b[38;5;241m=\u001b[39m[\u001b[38;5;124m\"\u001b[39m\u001b[38;5;124mPrice\u001b[39m\u001b[38;5;124m\"\u001b[39m],\n\u001b[0;32m      5\u001b[0m     aggfunc\u001b[38;5;241m=\u001b[39m[\u001b[38;5;124m\"\u001b[39m\u001b[38;5;124mmin\u001b[39m\u001b[38;5;124m\"\u001b[39m,\u001b[38;5;124m\"\u001b[39m\u001b[38;5;124mmax\u001b[39m\u001b[38;5;124m\"\u001b[39m,\u001b[38;5;124m\"\u001b[39m\u001b[38;5;124mmean\u001b[39m\u001b[38;5;124m\"\u001b[39m,\u001b[38;5;124m\"\u001b[39m\u001b[38;5;124mmedian\u001b[39m\u001b[38;5;124m\"\u001b[39m],\n\u001b[0;32m      6\u001b[0m     margins\u001b[38;5;241m=\u001b[39m\u001b[38;5;28;01mTrue\u001b[39;00m\n\u001b[0;32m      7\u001b[0m )\n\u001b[0;32m      8\u001b[0m pivot_table\n",
      "\u001b[1;31mNameError\u001b[0m: name 'trainset' is not defined"
     ]
    }
   ],
   "source": [
    "new_train_time_host = trainset[[\"Host Response Time\",\"Price\"]].dropna()\n",
    "pivot_table = trainset.pivot_table(\n",
    "    index=[\"Host Response Time\"],\n",
    "    values=[\"Price\"],\n",
    "    aggfunc=[\"min\",\"max\",\"mean\",\"median\"],\n",
    "    margins=True\n",
    ")\n",
    "pivot_table"
   ]
  },
  {
   "cell_type": "code",
   "execution_count": 33,
   "id": "39d1cafb",
   "metadata": {
    "scrolled": false
   },
   "outputs": [
    {
     "ename": "NameError",
     "evalue": "name 'trainset' is not defined",
     "output_type": "error",
     "traceback": [
      "\u001b[1;31m---------------------------------------------------------------------------\u001b[0m",
      "\u001b[1;31mNameError\u001b[0m                                 Traceback (most recent call last)",
      "Input \u001b[1;32mIn [33]\u001b[0m, in \u001b[0;36m<cell line: 1>\u001b[1;34m()\u001b[0m\n\u001b[1;32m----> 1\u001b[0m train_neigh \u001b[38;5;241m=\u001b[39m \u001b[43mtrainset\u001b[49m[[\u001b[38;5;124m\"\u001b[39m\u001b[38;5;124mIs Superhost\u001b[39m\u001b[38;5;124m\"\u001b[39m,\u001b[38;5;124m'\u001b[39m\u001b[38;5;124mPrice\u001b[39m\u001b[38;5;124m'\u001b[39m]]\n\u001b[0;32m      2\u001b[0m train_neigh\u001b[38;5;241m.\u001b[39mboxplot(by \u001b[38;5;241m=\u001b[39m \u001b[38;5;124m'\u001b[39m\u001b[38;5;124mIs Superhost\u001b[39m\u001b[38;5;124m'\u001b[39m, figsize\u001b[38;5;241m=\u001b[39m(\u001b[38;5;241m10\u001b[39m, \u001b[38;5;241m8\u001b[39m), vert\u001b[38;5;241m=\u001b[39m\u001b[38;5;28;01mFalse\u001b[39;00m)\n",
      "\u001b[1;31mNameError\u001b[0m: name 'trainset' is not defined"
     ]
    }
   ],
   "source": [
    "train_neigh = trainset[[\"Is Superhost\",'Price']]\n",
    "train_neigh.boxplot(by = 'Is Superhost', figsize=(10, 8), vert=False)"
   ]
  },
  {
   "cell_type": "markdown",
   "id": "1a28d8c7",
   "metadata": {},
   "source": [
    "<div class=\"alert alert-block alert-success\">\n",
    "<b>Conlusion:</b> This variable would not be util for the next step\n",
    "</div>"
   ]
  },
  {
   "cell_type": "markdown",
   "id": "cbe92107",
   "metadata": {},
   "source": [
    "<a href=\"#top\">back to top</a>"
   ]
  },
  {
   "cell_type": "markdown",
   "id": "063ff29a",
   "metadata": {},
   "source": [
    "#### neighbourhood\n",
    "=> quartier"
   ]
  },
  {
   "cell_type": "code",
   "execution_count": null,
   "id": "8db74bdb",
   "metadata": {
    "scrolled": true
   },
   "outputs": [],
   "source": [
    "missing_values_rate_display(\"neighbourhood\", dataset)"
   ]
  },
  {
   "cell_type": "code",
   "execution_count": null,
   "id": "928e3a43",
   "metadata": {},
   "outputs": [],
   "source": [
    "trainset.apply(lambda x: x.loc[\"neighbourhood\"]==x.loc[\"Neighborhood Group\"], axis=1).mean()"
   ]
  },
  {
   "cell_type": "code",
   "execution_count": null,
   "id": "ea71ad09",
   "metadata": {
    "scrolled": true
   },
   "outputs": [],
   "source": [
    "trainset[\"neighbourhood\"].unique().shape[0]"
   ]
  },
  {
   "cell_type": "code",
   "execution_count": null,
   "id": "28a3f7b9",
   "metadata": {},
   "outputs": [],
   "source": [
    "new_train_time_host = trainset[[\"neighbourhood\",\"Price\"]].dropna()\n",
    "pivot_table = trainset.pivot_table(\n",
    "    index=[\"neighbourhood\"],\n",
    "    values=[\"Price\"],\n",
    "    aggfunc=[\"min\",\"max\",\"mean\",\"median\"],\n",
    "    margins=True\n",
    ")\n",
    "pivot_table"
   ]
  },
  {
   "cell_type": "code",
   "execution_count": null,
   "id": "ee0d6d54",
   "metadata": {},
   "outputs": [],
   "source": [
    "trainset[\"neighbourhood\"].value_counts()"
   ]
  },
  {
   "cell_type": "code",
   "execution_count": null,
   "id": "fb991416",
   "metadata": {},
   "outputs": [],
   "source": [
    "plt.figure(figsize = (10,10))\n",
    "data = trainset.neighbourhood.value_counts()[:10]\n",
    "plt.figure(figsize=(10,10))\n",
    "x = data.index\n",
    "y = data.values\n",
    "\n",
    "plt.title(\"Most popular Neighbourhood\")\n",
    "plt.xlabel(\"Neighbourhood Area\")\n",
    "plt.ylabel(\"Number of guest who host in this area\")\n",
    "plt.xticks(rotation=45)\n",
    "plt.bar(x,y)"
   ]
  },
  {
   "cell_type": "code",
   "execution_count": null,
   "id": "c0fb1bcd",
   "metadata": {},
   "outputs": [],
   "source": [
    "import category_encoders as ce\n",
    "\n",
    "neighborhood_group_df_X = trainset[[\"neighbourhood\"]]\n",
    "neighborhood_group_df_y = trainset[ \"Price\"]\n",
    "encoder = ce.LeaveOneOutEncoder(cols=[\"neighbourhood\"])\n",
    "encoder.fit(neighborhood_group_df_X, neighborhood_group_df_y)\n",
    "df_n = encoder.transform(neighborhood_group_df_X)\n",
    "df_n[\"Price\"] = trainset[ \"Price\"]\n",
    "df_n.corr()"
   ]
  },
  {
   "cell_type": "code",
   "execution_count": null,
   "id": "28e89d6d",
   "metadata": {
    "scrolled": false
   },
   "outputs": [],
   "source": [
    "fig, ax = plt.subplots(figsize=(10,10))\n",
    "data = trainset[\"neighbourhood\"].value_counts()\n",
    "mean_price = trainset[[\"neighbourhood\", \"Price\"]].groupby([\"neighbourhood\"])[\"Price\"].mean().reindex(data.index)\n",
    "\n",
    "x = data.index\n",
    "y = data.values\n",
    "\n",
    "plt.title(\"Most popular neighbourhood\")\n",
    "plt.xlabel(\"Neighbourhood Area\")\n",
    "plt.ylabel(\"Number of guest who host in this area\")\n",
    "plt.xticks(rotation=45)\n",
    "plt.bar(x,y)\n",
    "\n",
    "ax2=ax.twinx()\n",
    "\n",
    "plt.plot(mean_price.index, mean_price.values, c=\"r\")\n",
    "\n",
    "plt.show()"
   ]
  },
  {
   "cell_type": "markdown",
   "id": "502e0eb7",
   "metadata": {},
   "source": [
    "<div class=\"alert alert-block alert-success\">\n",
    "<b>Conlusion:</b> This variable would not be util for the next step\n",
    "</div>"
   ]
  },
  {
   "cell_type": "markdown",
   "id": "b2cd7b66",
   "metadata": {},
   "source": [
    "<a href=\"#top\">back to top</a>"
   ]
  },
  {
   "cell_type": "markdown",
   "id": "08991829",
   "metadata": {},
   "source": [
    "#### Neighborhood Group"
   ]
  },
  {
   "cell_type": "code",
   "execution_count": null,
   "id": "c08e84fa",
   "metadata": {},
   "outputs": [],
   "source": [
    "missing_values_rate_display(\"Neighborhood Group\", dataset)"
   ]
  },
  {
   "cell_type": "code",
   "execution_count": null,
   "id": "73fe491d",
   "metadata": {},
   "outputs": [],
   "source": [
    "new_train_time_host = trainset[[\"Neighborhood Group\",\"Price\"]].dropna()\n",
    "pivot_table = trainset.pivot_table(\n",
    "    index=[\"Neighborhood Group\"],\n",
    "    values=[\"Price\"],\n",
    "    aggfunc=[\"min\",\"max\",\"mean\",\"median\"],\n",
    "    margins=True\n",
    ")\n",
    "pivot_table"
   ]
  },
  {
   "cell_type": "code",
   "execution_count": null,
   "id": "7ccbb7ef",
   "metadata": {},
   "outputs": [
    {
     "data": {
      "text/plain": [
       "<AxesSubplot:title={'center':'Price'}, xlabel='[Neighborhood Group]'>"
      ]
     },
     "execution_count": 47,
     "metadata": {},
     "output_type": "execute_result"
    },
    {
     "data": {
      "image/png": "[encoded data removed]",
      "text/plain": [
       "<Figure size 720x576 with 1 Axes>"
      ]
     },
     "metadata": {},
     "output_type": "display_data"
    }
   ],
   "source": [
    "train_neigh = trainset[['Neighborhood Group','Price']]\n",
    "train_neigh.boxplot(by = 'Neighborhood Group', figsize=(10, 8), vert=False)"
   ]
  },
  {
   "cell_type": "code",
   "execution_count": null,
   "id": "d79ac824",
   "metadata": {},
   "outputs": [
    {
     "data": {
      "image/png": "[encoded data removed]",
      "text/plain": [
       "<Figure size 720x720 with 2 Axes>"
      ]
     },
     "metadata": {},
     "output_type": "display_data"
    }
   ],
   "source": [
    "fig, ax = plt.subplots(figsize=(10,10))\n",
    "data = trainset[\"Neighborhood Group\"].value_counts()\n",
    "mean_price = trainset[[\"Neighborhood Group\", \"Price\"]].groupby([\"Neighborhood Group\"])[\"Price\"].mean().reindex(data.index)\n",
    "\n",
    "x = data.index\n",
    "y = data.values\n",
    "\n",
    "plt.title(\"Most popular Neighbourhood Group\")\n",
    "plt.xlabel(\"Neighbourhood Area\")\n",
    "plt.ylabel(\"Number of guest who host in this area\")\n",
    "plt.xticks(rotation=45)\n",
    "plt.bar(x,y)\n",
    "\n",
    "ax2=ax.twinx()\n",
    "\n",
    "plt.plot(mean_price.index, mean_price.values, c=\"r\")\n",
    "\n",
    "plt.show()"
   ]
  },
  {
   "cell_type": "code",
   "execution_count": null,
   "id": "460deded",
   "metadata": {},
   "outputs": [
    {
     "data": {
      "text/plain": [
       "Friedrichshain-Kreuzberg    3768\n",
       "Mitte                       3174\n",
       "Pankow                      2473\n",
       "NeukÃ¶lln                   2470\n",
       "Tempelhof - SchÃ¶neberg     1081\n",
       "Charlottenburg-Wilm.        1065\n",
       "Lichtenberg                  520\n",
       "Treptow - KÃ¶penick          435\n",
       "Steglitz - Zehlendorf        302\n",
       "Reinickendorf                218\n",
       "Marzahn - Hellersdorf        127\n",
       "Spandau                       59\n",
       "Name: Neighborhood Group, dtype: int64"
      ]
     },
     "execution_count": 145,
     "metadata": {},
     "output_type": "execute_result"
    }
   ],
   "source": [
    "trainset[\"Neighborhood Group\"].value_counts()"
   ]
  },
  {
   "cell_type": "code",
   "execution_count": null,
   "id": "fd6ffbc2",
   "metadata": {},
   "outputs": [
    {
     "name": "stdout",
     "output_type": "stream",
     "text": [
      "Missing value for Neighborhood Group columns: 0.000%\n"
     ]
    }
   ],
   "source": [
    "missing_values_rate_display(\"Neighborhood Group\", trainset)"
   ]
  },
  {
   "cell_type": "code",
   "execution_count": null,
   "id": "fb3123b3",
   "metadata": {},
   "outputs": [
    {
     "data": {
      "text/plain": [
       "12"
      ]
     },
     "execution_count": 132,
     "metadata": {},
     "output_type": "execute_result"
    }
   ],
   "source": [
    "trainset[\"Neighborhood Group\"].unique().shape[0]"
   ]
  },
  {
   "cell_type": "code",
   "execution_count": null,
   "id": "26972463",
   "metadata": {},
   "outputs": [
    {
     "data": {
      "text/html": [
       "<div>\n",
       "<style scoped>\n",
       "    .dataframe tbody tr th:only-of-type {\n",
       "        vertical-align: middle;\n",
       "    }\n",
       "\n",
       "    .dataframe tbody tr th {\n",
       "        vertical-align: top;\n",
       "    }\n",
       "\n",
       "    .dataframe thead th {\n",
       "        text-align: right;\n",
       "    }\n",
       "</style>\n",
       "<table border=\"1\" class=\"dataframe\">\n",
       "  <thead>\n",
       "    <tr style=\"text-align: right;\">\n",
       "      <th></th>\n",
       "      <th>Listing ID</th>\n",
       "      <th>Listing Name</th>\n",
       "      <th>Host ID</th>\n",
       "      <th>Host Name</th>\n",
       "      <th>Host Since</th>\n",
       "      <th>Host Response Time</th>\n",
       "      <th>Host Response Rate</th>\n",
       "      <th>Is Superhost</th>\n",
       "      <th>neighbourhood</th>\n",
       "      <th>City</th>\n",
       "      <th>Postal Code</th>\n",
       "      <th>Country Code</th>\n",
       "      <th>Country</th>\n",
       "      <th>Latitude</th>\n",
       "      <th>Longitude</th>\n",
       "      <th>Is Exact Location</th>\n",
       "      <th>Property Type</th>\n",
       "      <th>Room Type</th>\n",
       "      <th>Accomodates</th>\n",
       "      <th>Bathrooms</th>\n",
       "      <th>...</th>\n",
       "      <th>Accuracy Rating</th>\n",
       "      <th>Cleanliness Rating</th>\n",
       "      <th>Checkin Rating</th>\n",
       "      <th>Communication Rating</th>\n",
       "      <th>Location Rating</th>\n",
       "      <th>Value Rating</th>\n",
       "      <th>Instant Bookable</th>\n",
       "      <th>Business Travel Ready</th>\n",
       "      <th>Price</th>\n",
       "      <th>Neighborhood Group_Friedrichshain-Kreuzberg</th>\n",
       "      <th>Neighborhood Group_Lichtenberg</th>\n",
       "      <th>Neighborhood Group_Marzahn - Hellersdorf</th>\n",
       "      <th>Neighborhood Group_Mitte</th>\n",
       "      <th>Neighborhood Group_NeukÃ¶lln</th>\n",
       "      <th>Neighborhood Group_Pankow</th>\n",
       "      <th>Neighborhood Group_Reinickendorf</th>\n",
       "      <th>Neighborhood Group_Spandau</th>\n",
       "      <th>Neighborhood Group_Steglitz - Zehlendorf</th>\n",
       "      <th>Neighborhood Group_Tempelhof - SchÃ¶neberg</th>\n",
       "      <th>Neighborhood Group_Treptow - KÃ¶penick</th>\n",
       "    </tr>\n",
       "  </thead>\n",
       "  <tbody>\n",
       "    <tr>\n",
       "      <th>0</th>\n",
       "      <td>19665213.0</td>\n",
       "      <td>*</td>\n",
       "      <td>156079597.0</td>\n",
       "      <td>Maximilian</td>\n",
       "      <td>2016-01-20</td>\n",
       "      <td>NaN</td>\n",
       "      <td>NaN</td>\n",
       "      <td>f</td>\n",
       "      <td>Prenzlauer Berg</td>\n",
       "      <td>Berlin</td>\n",
       "      <td>10437.0</td>\n",
       "      <td>DE</td>\n",
       "      <td>Germany</td>\n",
       "      <td>52.54652</td>\n",
       "      <td>13.41792</td>\n",
       "      <td>t</td>\n",
       "      <td>Apartment</td>\n",
       "      <td>Private room</td>\n",
       "      <td>2</td>\n",
       "      <td>1.0</td>\n",
       "      <td>...</td>\n",
       "      <td>10.0</td>\n",
       "      <td>10.0</td>\n",
       "      <td>10.0</td>\n",
       "      <td>10.0</td>\n",
       "      <td>9.0</td>\n",
       "      <td>10.0</td>\n",
       "      <td>t</td>\n",
       "      <td>f</td>\n",
       "      <td>26.0</td>\n",
       "      <td>0</td>\n",
       "      <td>0</td>\n",
       "      <td>0</td>\n",
       "      <td>0</td>\n",
       "      <td>0</td>\n",
       "      <td>1</td>\n",
       "      <td>0</td>\n",
       "      <td>0</td>\n",
       "      <td>0</td>\n",
       "      <td>0</td>\n",
       "      <td>0</td>\n",
       "    </tr>\n",
       "    <tr>\n",
       "      <th>1</th>\n",
       "      <td>6436842.0</td>\n",
       "      <td>*</td>\n",
       "      <td>5302290.0</td>\n",
       "      <td>Dulie</td>\n",
       "      <td>2013-04-07</td>\n",
       "      <td>NaN</td>\n",
       "      <td>NaN</td>\n",
       "      <td>f</td>\n",
       "      <td>Pankow</td>\n",
       "      <td>Berlin</td>\n",
       "      <td>13187.0</td>\n",
       "      <td>DE</td>\n",
       "      <td>Germany</td>\n",
       "      <td>52.56512</td>\n",
       "      <td>13.42214</td>\n",
       "      <td>t</td>\n",
       "      <td>Apartment</td>\n",
       "      <td>Entire home/apt</td>\n",
       "      <td>2</td>\n",
       "      <td>1.0</td>\n",
       "      <td>...</td>\n",
       "      <td>9.0</td>\n",
       "      <td>9.0</td>\n",
       "      <td>10.0</td>\n",
       "      <td>10.0</td>\n",
       "      <td>9.0</td>\n",
       "      <td>10.0</td>\n",
       "      <td>f</td>\n",
       "      <td>f</td>\n",
       "      <td>41.0</td>\n",
       "      <td>0</td>\n",
       "      <td>0</td>\n",
       "      <td>0</td>\n",
       "      <td>0</td>\n",
       "      <td>0</td>\n",
       "      <td>1</td>\n",
       "      <td>0</td>\n",
       "      <td>0</td>\n",
       "      <td>0</td>\n",
       "      <td>0</td>\n",
       "      <td>0</td>\n",
       "    </tr>\n",
       "    <tr>\n",
       "      <th>2</th>\n",
       "      <td>10559468.0</td>\n",
       "      <td>*</td>\n",
       "      <td>59151456.0</td>\n",
       "      <td>Geank</td>\n",
       "      <td>2016-02-07</td>\n",
       "      <td>NaN</td>\n",
       "      <td>NaN</td>\n",
       "      <td>f</td>\n",
       "      <td>Prenzlauer Berg</td>\n",
       "      <td>Berlin</td>\n",
       "      <td>10439.0</td>\n",
       "      <td>DE</td>\n",
       "      <td>Germany</td>\n",
       "      <td>52.54741</td>\n",
       "      <td>13.42521</td>\n",
       "      <td>t</td>\n",
       "      <td>Apartment</td>\n",
       "      <td>Entire home/apt</td>\n",
       "      <td>3</td>\n",
       "      <td>1.0</td>\n",
       "      <td>...</td>\n",
       "      <td>10.0</td>\n",
       "      <td>10.0</td>\n",
       "      <td>10.0</td>\n",
       "      <td>10.0</td>\n",
       "      <td>10.0</td>\n",
       "      <td>10.0</td>\n",
       "      <td>f</td>\n",
       "      <td>f</td>\n",
       "      <td>50.0</td>\n",
       "      <td>0</td>\n",
       "      <td>0</td>\n",
       "      <td>0</td>\n",
       "      <td>0</td>\n",
       "      <td>0</td>\n",
       "      <td>1</td>\n",
       "      <td>0</td>\n",
       "      <td>0</td>\n",
       "      <td>0</td>\n",
       "      <td>0</td>\n",
       "      <td>0</td>\n",
       "    </tr>\n",
       "    <tr>\n",
       "      <th>3</th>\n",
       "      <td>27215482.0</td>\n",
       "      <td>*</td>\n",
       "      <td>193452785.0</td>\n",
       "      <td>Alix</td>\n",
       "      <td>2018-06-26</td>\n",
       "      <td>NaN</td>\n",
       "      <td>NaN</td>\n",
       "      <td>f</td>\n",
       "      <td>Friedrichshain</td>\n",
       "      <td>Berlin</td>\n",
       "      <td>10245</td>\n",
       "      <td>DE</td>\n",
       "      <td>Germany</td>\n",
       "      <td>52.50958</td>\n",
       "      <td>13.45144</td>\n",
       "      <td>t</td>\n",
       "      <td>Apartment</td>\n",
       "      <td>Private room</td>\n",
       "      <td>2</td>\n",
       "      <td>1.0</td>\n",
       "      <td>...</td>\n",
       "      <td>10.0</td>\n",
       "      <td>10.0</td>\n",
       "      <td>10.0</td>\n",
       "      <td>10.0</td>\n",
       "      <td>10.0</td>\n",
       "      <td>9.0</td>\n",
       "      <td>f</td>\n",
       "      <td>f</td>\n",
       "      <td>50.0</td>\n",
       "      <td>1</td>\n",
       "      <td>0</td>\n",
       "      <td>0</td>\n",
       "      <td>0</td>\n",
       "      <td>0</td>\n",
       "      <td>0</td>\n",
       "      <td>0</td>\n",
       "      <td>0</td>\n",
       "      <td>0</td>\n",
       "      <td>0</td>\n",
       "      <td>0</td>\n",
       "    </tr>\n",
       "    <tr>\n",
       "      <th>4</th>\n",
       "      <td>27287546.0</td>\n",
       "      <td>*</td>\n",
       "      <td>205870244.0</td>\n",
       "      <td>Lurina</td>\n",
       "      <td>2013-05-16</td>\n",
       "      <td>within a few hours</td>\n",
       "      <td>92%</td>\n",
       "      <td>t</td>\n",
       "      <td>Prenzlauer Berg</td>\n",
       "      <td>Berlin</td>\n",
       "      <td>10405.0</td>\n",
       "      <td>DE</td>\n",
       "      <td>Germany</td>\n",
       "      <td>52.52995</td>\n",
       "      <td>13.41558</td>\n",
       "      <td>t</td>\n",
       "      <td>Apartment</td>\n",
       "      <td>Private room</td>\n",
       "      <td>3</td>\n",
       "      <td>1.0</td>\n",
       "      <td>...</td>\n",
       "      <td>NaN</td>\n",
       "      <td>NaN</td>\n",
       "      <td>NaN</td>\n",
       "      <td>NaN</td>\n",
       "      <td>NaN</td>\n",
       "      <td>NaN</td>\n",
       "      <td>t</td>\n",
       "      <td>f</td>\n",
       "      <td>55.0</td>\n",
       "      <td>0</td>\n",
       "      <td>0</td>\n",
       "      <td>0</td>\n",
       "      <td>0</td>\n",
       "      <td>0</td>\n",
       "      <td>1</td>\n",
       "      <td>0</td>\n",
       "      <td>0</td>\n",
       "      <td>0</td>\n",
       "      <td>0</td>\n",
       "      <td>0</td>\n",
       "    </tr>\n",
       "  </tbody>\n",
       "</table>\n",
       "<p>5 rows × 49 columns</p>\n",
       "</div>"
      ],
      "text/plain": [
       "   Listing ID Listing Name      Host ID   Host Name  Host Since  \\\n",
       "0  19665213.0            *  156079597.0  Maximilian  2016-01-20   \n",
       "1   6436842.0            *    5302290.0       Dulie  2013-04-07   \n",
       "2  10559468.0            *   59151456.0       Geank  2016-02-07   \n",
       "3  27215482.0            *  193452785.0        Alix  2018-06-26   \n",
       "4  27287546.0            *  205870244.0      Lurina  2013-05-16   \n",
       "\n",
       "   Host Response Time Host Response Rate Is Superhost    neighbourhood  \\\n",
       "0                 NaN                NaN            f  Prenzlauer Berg   \n",
       "1                 NaN                NaN            f           Pankow   \n",
       "2                 NaN                NaN            f  Prenzlauer Berg   \n",
       "3                 NaN                NaN            f   Friedrichshain   \n",
       "4  within a few hours                92%            t  Prenzlauer Berg   \n",
       "\n",
       "     City Postal Code Country Code  Country  Latitude  Longitude  \\\n",
       "0  Berlin     10437.0           DE  Germany  52.54652   13.41792   \n",
       "1  Berlin     13187.0           DE  Germany  52.56512   13.42214   \n",
       "2  Berlin     10439.0           DE  Germany  52.54741   13.42521   \n",
       "3  Berlin       10245           DE  Germany  52.50958   13.45144   \n",
       "4  Berlin     10405.0           DE  Germany  52.52995   13.41558   \n",
       "\n",
       "  Is Exact Location Property Type        Room Type Accomodates Bathrooms  ...  \\\n",
       "0                 t     Apartment     Private room           2       1.0  ...   \n",
       "1                 t     Apartment  Entire home/apt           2       1.0  ...   \n",
       "2                 t     Apartment  Entire home/apt           3       1.0  ...   \n",
       "3                 t     Apartment     Private room           2       1.0  ...   \n",
       "4                 t     Apartment     Private room           3       1.0  ...   \n",
       "\n",
       "  Accuracy Rating Cleanliness Rating  Checkin Rating Communication Rating  \\\n",
       "0            10.0               10.0            10.0                 10.0   \n",
       "1             9.0                9.0            10.0                 10.0   \n",
       "2            10.0               10.0            10.0                 10.0   \n",
       "3            10.0               10.0            10.0                 10.0   \n",
       "4             NaN                NaN             NaN                  NaN   \n",
       "\n",
       "  Location Rating  Value Rating Instant Bookable Business Travel Ready  Price  \\\n",
       "0             9.0          10.0                t                     f   26.0   \n",
       "1             9.0          10.0                f                     f   41.0   \n",
       "2            10.0          10.0                f                     f   50.0   \n",
       "3            10.0           9.0                f                     f   50.0   \n",
       "4             NaN           NaN                t                     f   55.0   \n",
       "\n",
       "   Neighborhood Group_Friedrichshain-Kreuzberg  \\\n",
       "0                                            0   \n",
       "1                                            0   \n",
       "2                                            0   \n",
       "3                                            1   \n",
       "4                                            0   \n",
       "\n",
       "   Neighborhood Group_Lichtenberg  Neighborhood Group_Marzahn - Hellersdorf  \\\n",
       "0                               0                                         0   \n",
       "1                               0                                         0   \n",
       "2                               0                                         0   \n",
       "3                               0                                         0   \n",
       "4                               0                                         0   \n",
       "\n",
       "   Neighborhood Group_Mitte  Neighborhood Group_NeukÃ¶lln  \\\n",
       "0                         0                             0   \n",
       "1                         0                             0   \n",
       "2                         0                             0   \n",
       "3                         0                             0   \n",
       "4                         0                             0   \n",
       "\n",
       "   Neighborhood Group_Pankow Neighborhood Group_Reinickendorf  \\\n",
       "0                          1                                0   \n",
       "1                          1                                0   \n",
       "2                          1                                0   \n",
       "3                          0                                0   \n",
       "4                          1                                0   \n",
       "\n",
       "  Neighborhood Group_Spandau  Neighborhood Group_Steglitz - Zehlendorf  \\\n",
       "0                          0                                         0   \n",
       "1                          0                                         0   \n",
       "2                          0                                         0   \n",
       "3                          0                                         0   \n",
       "4                          0                                         0   \n",
       "\n",
       "   Neighborhood Group_Tempelhof - SchÃ¶neberg  \\\n",
       "0                                           0   \n",
       "1                                           0   \n",
       "2                                           0   \n",
       "3                                           0   \n",
       "4                                           0   \n",
       "\n",
       "   Neighborhood Group_Treptow - KÃ¶penick  \n",
       "0                                       0  \n",
       "1                                       0  \n",
       "2                                       0  \n",
       "3                                       0  \n",
       "4                                       0  \n",
       "\n",
       "[5 rows x 49 columns]"
      ]
     },
     "execution_count": 155,
     "metadata": {},
     "output_type": "execute_result"
    }
   ],
   "source": [
    "encoded_trainset = pd.get_dummies(trainset,prefix=['Neighborhood Group'], columns = ['Neighborhood Group'], drop_first=True)\n",
    "encoded_trainset.head()"
   ]
  },
  {
   "cell_type": "code",
   "execution_count": null,
   "id": "c945b654",
   "metadata": {},
   "outputs": [
    {
     "data": {
      "text/plain": [
       "Neighborhood Group\n",
       "Charlottenburg-Wilm.        68.653447\n",
       "Friedrichshain-Kreuzberg    61.033439\n",
       "Lichtenberg                 51.028846\n",
       "Marzahn - Hellersdorf       57.188976\n",
       "Mitte                       66.632840\n",
       "NeukÃ¶lln                   49.642915\n",
       "Pankow                      64.868985\n",
       "Reinickendorf               45.247706\n",
       "Spandau                     58.338983\n",
       "Steglitz - Zehlendorf       55.741722\n",
       "Tempelhof - SchÃ¶neberg     58.167748\n",
       "Treptow - KÃ¶penick         51.758621\n",
       "Name: Price, dtype: float64"
      ]
     },
     "execution_count": 18,
     "metadata": {},
     "output_type": "execute_result"
    }
   ],
   "source": [
    "# Mean Target Encoding\n",
    "data_neigh = trainset.groupby([\"Neighborhood Group\"])[\"Price\"].mean()\n",
    "data_neigh"
   ]
  },
  {
   "cell_type": "code",
   "execution_count": null,
   "id": "34a39e0a",
   "metadata": {},
   "outputs": [],
   "source": [
    "trainset[\"Neighborhood Group encoded\"] = trainset[\"Neighborhood Group\"].replace(data_neigh.index, data_neigh.values)"
   ]
  },
  {
   "cell_type": "code",
   "execution_count": null,
   "id": "526b9bae",
   "metadata": {},
   "outputs": [
    {
     "data": {
      "text/html": [
       "<div>\n",
       "<style scoped>\n",
       "    .dataframe tbody tr th:only-of-type {\n",
       "        vertical-align: middle;\n",
       "    }\n",
       "\n",
       "    .dataframe tbody tr th {\n",
       "        vertical-align: top;\n",
       "    }\n",
       "\n",
       "    .dataframe thead th {\n",
       "        text-align: right;\n",
       "    }\n",
       "</style>\n",
       "<table border=\"1\" class=\"dataframe\">\n",
       "  <thead>\n",
       "    <tr style=\"text-align: right;\">\n",
       "      <th></th>\n",
       "      <th>Neighborhood Group encoded</th>\n",
       "      <th>Price</th>\n",
       "    </tr>\n",
       "  </thead>\n",
       "  <tbody>\n",
       "    <tr>\n",
       "      <th>Neighborhood Group encoded</th>\n",
       "      <td>1.000000</td>\n",
       "      <td>0.134236</td>\n",
       "    </tr>\n",
       "    <tr>\n",
       "      <th>Price</th>\n",
       "      <td>0.134236</td>\n",
       "      <td>1.000000</td>\n",
       "    </tr>\n",
       "  </tbody>\n",
       "</table>\n",
       "</div>"
      ],
      "text/plain": [
       "                            Neighborhood Group encoded     Price\n",
       "Neighborhood Group encoded                    1.000000  0.134236\n",
       "Price                                         0.134236  1.000000"
      ]
     },
     "execution_count": 27,
     "metadata": {},
     "output_type": "execute_result"
    }
   ],
   "source": [
    "trainset[[\"Neighborhood Group encoded\", \"Price\"]].corr()"
   ]
  },
  {
   "cell_type": "code",
   "execution_count": null,
   "id": "5e0285f6",
   "metadata": {},
   "outputs": [
    {
     "data": {
      "text/html": [
       "<div>\n",
       "<style scoped>\n",
       "    .dataframe tbody tr th:only-of-type {\n",
       "        vertical-align: middle;\n",
       "    }\n",
       "\n",
       "    .dataframe tbody tr th {\n",
       "        vertical-align: top;\n",
       "    }\n",
       "\n",
       "    .dataframe thead th {\n",
       "        text-align: right;\n",
       "    }\n",
       "</style>\n",
       "<table border=\"1\" class=\"dataframe\">\n",
       "  <thead>\n",
       "    <tr style=\"text-align: right;\">\n",
       "      <th></th>\n",
       "      <th>Neighborhood Group</th>\n",
       "    </tr>\n",
       "  </thead>\n",
       "  <tbody>\n",
       "    <tr>\n",
       "      <th>0</th>\n",
       "      <td>Pankow</td>\n",
       "    </tr>\n",
       "    <tr>\n",
       "      <th>1</th>\n",
       "      <td>Pankow</td>\n",
       "    </tr>\n",
       "    <tr>\n",
       "      <th>2</th>\n",
       "      <td>Pankow</td>\n",
       "    </tr>\n",
       "    <tr>\n",
       "      <th>3</th>\n",
       "      <td>Friedrichshain-Kreuzberg</td>\n",
       "    </tr>\n",
       "    <tr>\n",
       "      <th>4</th>\n",
       "      <td>Pankow</td>\n",
       "    </tr>\n",
       "    <tr>\n",
       "      <th>...</th>\n",
       "      <td>...</td>\n",
       "    </tr>\n",
       "    <tr>\n",
       "      <th>15687</th>\n",
       "      <td>Friedrichshain-Kreuzberg</td>\n",
       "    </tr>\n",
       "    <tr>\n",
       "      <th>15688</th>\n",
       "      <td>NeukÃ¶lln</td>\n",
       "    </tr>\n",
       "    <tr>\n",
       "      <th>15689</th>\n",
       "      <td>Mitte</td>\n",
       "    </tr>\n",
       "    <tr>\n",
       "      <th>15690</th>\n",
       "      <td>Tempelhof - SchÃ¶neberg</td>\n",
       "    </tr>\n",
       "    <tr>\n",
       "      <th>15691</th>\n",
       "      <td>Lichtenberg</td>\n",
       "    </tr>\n",
       "  </tbody>\n",
       "</table>\n",
       "<p>15692 rows × 1 columns</p>\n",
       "</div>"
      ],
      "text/plain": [
       "             Neighborhood Group\n",
       "0                        Pankow\n",
       "1                        Pankow\n",
       "2                        Pankow\n",
       "3      Friedrichshain-Kreuzberg\n",
       "4                        Pankow\n",
       "...                         ...\n",
       "15687  Friedrichshain-Kreuzberg\n",
       "15688                 NeukÃ¶lln\n",
       "15689                     Mitte\n",
       "15690   Tempelhof - SchÃ¶neberg\n",
       "15691               Lichtenberg\n",
       "\n",
       "[15692 rows x 1 columns]"
      ]
     },
     "execution_count": 34,
     "metadata": {},
     "output_type": "execute_result"
    }
   ],
   "source": [
    "neighborhood_group_df_X"
   ]
  },
  {
   "cell_type": "code",
   "execution_count": null,
   "id": "7222f233",
   "metadata": {},
   "outputs": [
    {
     "data": {
      "text/html": [
       "<div>\n",
       "<style scoped>\n",
       "    .dataframe tbody tr th:only-of-type {\n",
       "        vertical-align: middle;\n",
       "    }\n",
       "\n",
       "    .dataframe tbody tr th {\n",
       "        vertical-align: top;\n",
       "    }\n",
       "\n",
       "    .dataframe thead th {\n",
       "        text-align: right;\n",
       "    }\n",
       "</style>\n",
       "<table border=\"1\" class=\"dataframe\">\n",
       "  <thead>\n",
       "    <tr style=\"text-align: right;\">\n",
       "      <th></th>\n",
       "      <th>Neighborhood Group</th>\n",
       "      <th>Price</th>\n",
       "    </tr>\n",
       "  </thead>\n",
       "  <tbody>\n",
       "    <tr>\n",
       "      <th>Neighborhood Group</th>\n",
       "      <td>1.000000</td>\n",
       "      <td>0.134236</td>\n",
       "    </tr>\n",
       "    <tr>\n",
       "      <th>Price</th>\n",
       "      <td>0.134236</td>\n",
       "      <td>1.000000</td>\n",
       "    </tr>\n",
       "  </tbody>\n",
       "</table>\n",
       "</div>"
      ],
      "text/plain": [
       "                    Neighborhood Group     Price\n",
       "Neighborhood Group            1.000000  0.134236\n",
       "Price                         0.134236  1.000000"
      ]
     },
     "execution_count": 43,
     "metadata": {},
     "output_type": "execute_result"
    }
   ],
   "source": [
    "neighborhood_group_df_X = trainset[[\"Neighborhood Group\"]]\n",
    "neighborhood_group_df_y = trainset[ \"Price\"]\n",
    "encoder = ce.LeaveOneOutEncoder(cols=[\"Neighborhood Group\"])\n",
    "encoder.fit(neighborhood_group_df_X, neighborhood_group_df_y)\n",
    "df_n = encoder.transform(neighborhood_group_df_X)\n",
    "df_n[\"Price\"] = trainset[ \"Price\"]\n",
    "df_n.corr()"
   ]
  },
  {
   "cell_type": "code",
   "execution_count": null,
   "id": "bfc1600d",
   "metadata": {},
   "outputs": [],
   "source": [
    "hey are probably using \"leave one out encoding\" to refer to Owen Zhang's strategy.\n",
    "\n",
    "From here\n",
    "\n",
    "The encoded column is not a conventional dummy variable, but instead is the mean response over all rows for this categorical level, excluding the row itself. This gives you the advantage of having a one-column representation of the categorical while avoiding direct response leakage\n",
    "\n",
    "This picture expresses the idea well."
   ]
  },
  {
   "cell_type": "code",
   "execution_count": null,
   "id": "23349da4",
   "metadata": {
    "scrolled": false
   },
   "outputs": [
    {
     "data": {
      "text/plain": [
       "<AxesSubplot:>"
      ]
     },
     "execution_count": 25,
     "metadata": {},
     "output_type": "execute_result"
    },
    {
     "data": {
      "image/png": "[encoded data removed]",
      "text/plain": [
       "<Figure size 792x648 with 2 Axes>"
      ]
     },
     "metadata": {},
     "output_type": "display_data"
    }
   ],
   "source": [
    "corr = trainset.corr()\n",
    "# Generate a mask for the upper triangle\n",
    "mask = np.triu(np.ones_like(corr, dtype=bool))\n",
    "\n",
    "# Set up the matplotlib figure\n",
    "f, ax = plt.subplots(figsize=(11, 9))\n",
    "\n",
    "# Generate a custom diverging colormap\n",
    "cmap = sns.diverging_palette(230, 20, as_cmap=True)\n",
    "\n",
    "# Draw the heatmap with the mask and correct aspect ratio\n",
    "sns.heatmap(corr, mask=mask, cmap=cmap, vmax=.3, center=0,\n",
    "            square=True, linewidths=.5, cbar_kws={\"shrink\": .5})"
   ]
  },
  {
   "cell_type": "markdown",
   "id": "494e185c",
   "metadata": {},
   "source": [
    "<div class=\"alert alert-block alert-success\">\n",
    "<b>Conlusion:</b> This variable would not be util for the next step\n",
    "</div>"
   ]
  },
  {
   "cell_type": "markdown",
   "id": "fd2dd2c4",
   "metadata": {},
   "source": [
    "<a href=\"#top\">back to top</a>"
   ]
  },
  {
   "cell_type": "markdown",
   "id": "c22d8fd9",
   "metadata": {},
   "source": [
    "#### City"
   ]
  },
  {
   "cell_type": "code",
   "execution_count": null,
   "id": "a4ae738a",
   "metadata": {},
   "outputs": [
    {
     "name": "stdout",
     "output_type": "stream",
     "text": [
      "Missing value for City columns: 0.006% (1/15692)\n"
     ]
    }
   ],
   "source": [
    "missing_values_rate_display(\"City\", dataset)"
   ]
  },
  {
   "cell_type": "code",
   "execution_count": null,
   "id": "391496e1",
   "metadata": {},
   "outputs": [
    {
     "name": "stdout",
     "output_type": "stream",
     "text": [
      "Possible values of the 'City' feature:\n",
      " ['Berlin' '*' nan]\n"
     ]
    }
   ],
   "source": [
    "print(\"Possible values of the 'City' feature:\\n\",dataset[\"City\"].unique())"
   ]
  },
  {
   "cell_type": "markdown",
   "id": "9a9e163f",
   "metadata": {},
   "source": [
    "<div class=\"alert alert-block alert-success\">\n",
    "<b>Conlusion:</b> This variable can't be used because it contains only one possible value\n",
    "</div>"
   ]
  },
  {
   "cell_type": "markdown",
   "id": "d6f434a0",
   "metadata": {},
   "source": [
    "<a href=\"#top\">back to top</a>"
   ]
  },
  {
   "cell_type": "markdown",
   "id": "ca2124f8",
   "metadata": {},
   "source": [
    "#### Postal Code"
   ]
  },
  {
   "cell_type": "code",
   "execution_count": null,
   "id": "d5ee0226",
   "metadata": {},
   "outputs": [],
   "source": []
  },
  {
   "cell_type": "markdown",
   "id": "0cbc956f",
   "metadata": {},
   "source": [
    "<div class=\"alert alert-block alert-success\">\n",
    "<b>Conlusion:</b> This variable would not be util for the next step\n",
    "</div>"
   ]
  },
  {
   "cell_type": "markdown",
   "id": "c4e0e623",
   "metadata": {},
   "source": [
    "<a href=\"#top\">back to top</a>"
   ]
  },
  {
   "cell_type": "markdown",
   "id": "d6fb7346",
   "metadata": {},
   "source": [
    "#### Country Code"
   ]
  },
  {
   "cell_type": "code",
   "execution_count": null,
   "id": "ccced6c4",
   "metadata": {},
   "outputs": [
    {
     "name": "stdout",
     "output_type": "stream",
     "text": [
      "Missing value for Country Code columns: 0.000% (0/15692)\n"
     ]
    }
   ],
   "source": [
    "missing_values_rate_display(\"Country Code\", dataset)"
   ]
  },
  {
   "cell_type": "code",
   "execution_count": null,
   "id": "0579fa2e",
   "metadata": {},
   "outputs": [
    {
     "name": "stdout",
     "output_type": "stream",
     "text": [
      "Possible values of the 'Country Code' feature:\n",
      " ['DE']\n"
     ]
    }
   ],
   "source": [
    "print(\"Possible values of the 'Country Code' feature:\\n\",dataset[\"Country Code\"].unique())"
   ]
  },
  {
   "cell_type": "markdown",
   "id": "1965e01d",
   "metadata": {},
   "source": [
    "<div class=\"alert alert-block alert-success\">\n",
    "<b>Conlusion:</b> This variable can't be used because it contains only one possible value\n",
    "</div>"
   ]
  },
  {
   "cell_type": "markdown",
   "id": "f6e58819",
   "metadata": {},
   "source": [
    "<a href=\"#top\">back to top</a>"
   ]
  },
  {
   "cell_type": "markdown",
   "id": "3257c483",
   "metadata": {},
   "source": [
    "#### Country"
   ]
  },
  {
   "cell_type": "code",
   "execution_count": null,
   "id": "3677d8d4",
   "metadata": {},
   "outputs": [
    {
     "name": "stdout",
     "output_type": "stream",
     "text": [
      "Missing value for Country columns: 0.000% (0/15692)\n"
     ]
    }
   ],
   "source": [
    "missing_values_rate_display(\"Country\", dataset)"
   ]
  },
  {
   "cell_type": "code",
   "execution_count": null,
   "id": "754c2fa6",
   "metadata": {},
   "outputs": [
    {
     "name": "stdout",
     "output_type": "stream",
     "text": [
      "Possible values of the 'Country' feature:\n",
      " ['Germany']\n"
     ]
    }
   ],
   "source": [
    "print(\"Possible values of the 'Country' feature:\\n\",dataset.Country.unique())"
   ]
  },
  {
   "cell_type": "markdown",
   "id": "a2081494",
   "metadata": {},
   "source": [
    "<div class=\"alert alert-block alert-success\">\n",
    "<b>Conlusion:</b> This variable can't be used because it contains only one possible value\n",
    "</div>"
   ]
  },
  {
   "cell_type": "markdown",
   "id": "7bf354f4",
   "metadata": {},
   "source": [
    "<a href=\"#top\">back to top</a>"
   ]
  },
  {
   "cell_type": "markdown",
   "id": "28389a18",
   "metadata": {},
   "source": [
    "#### Latitude"
   ]
  },
  {
   "cell_type": "code",
   "execution_count": null,
   "id": "f9cfa78d",
   "metadata": {},
   "outputs": [],
   "source": []
  },
  {
   "cell_type": "markdown",
   "id": "5234b5b3",
   "metadata": {},
   "source": [
    "<div class=\"alert alert-block alert-success\">\n",
    "<b>Conlusion:</b> This variable would not be util for the next step\n",
    "</div>"
   ]
  },
  {
   "cell_type": "markdown",
   "id": "178a5f45",
   "metadata": {},
   "source": [
    "<a href=\"#top\">back to top</a>"
   ]
  },
  {
   "cell_type": "markdown",
   "id": "2b051d38",
   "metadata": {},
   "source": [
    "#### Longitude"
   ]
  },
  {
   "cell_type": "code",
   "execution_count": null,
   "id": "0716abeb",
   "metadata": {},
   "outputs": [],
   "source": []
  },
  {
   "cell_type": "markdown",
   "id": "e8865430",
   "metadata": {},
   "source": [
    "<div class=\"alert alert-block alert-success\">\n",
    "<b>Conlusion:</b> This variable would not be util for the next step\n",
    "</div>"
   ]
  },
  {
   "cell_type": "markdown",
   "id": "35e723d2",
   "metadata": {},
   "source": [
    "<a href=\"#top\">back to top</a>"
   ]
  },
  {
   "cell_type": "markdown",
   "id": "bbac5d08",
   "metadata": {},
   "source": [
    "#### Is Exact Location"
   ]
  },
  {
   "cell_type": "code",
   "execution_count": null,
   "id": "3416cc28",
   "metadata": {},
   "outputs": [],
   "source": []
  },
  {
   "cell_type": "markdown",
   "id": "11a15f72",
   "metadata": {},
   "source": [
    "<div class=\"alert alert-block alert-success\">\n",
    "<b>Conlusion:</b> This variable would not be util for the next step\n",
    "</div>"
   ]
  },
  {
   "cell_type": "markdown",
   "id": "bd2d68d5",
   "metadata": {},
   "source": [
    "<a href=\"#top\">back to top</a>"
   ]
  },
  {
   "cell_type": "markdown",
   "id": "261c2208",
   "metadata": {},
   "source": [
    "#### Property Type"
   ]
  },
  {
   "cell_type": "code",
   "execution_count": null,
   "id": "06ec7697",
   "metadata": {},
   "outputs": [],
   "source": []
  },
  {
   "cell_type": "markdown",
   "id": "d8ba5e26",
   "metadata": {},
   "source": [
    "<div class=\"alert alert-block alert-success\">\n",
    "<b>Conlusion:</b> This variable would not be util for the next step\n",
    "</div>"
   ]
  },
  {
   "cell_type": "markdown",
   "id": "822a9297",
   "metadata": {},
   "source": [
    "<a href=\"#top\">back to top</a>"
   ]
  },
  {
   "cell_type": "markdown",
   "id": "f693c119",
   "metadata": {},
   "source": [
    "#### Room Type"
   ]
  },
  {
   "cell_type": "code",
   "execution_count": null,
   "id": "673a628e",
   "metadata": {},
   "outputs": [],
   "source": []
  },
  {
   "cell_type": "markdown",
   "id": "38236382",
   "metadata": {},
   "source": [
    "<div class=\"alert alert-block alert-success\">\n",
    "<b>Conlusion:</b> This variable would not be util for the next step\n",
    "</div>"
   ]
  },
  {
   "cell_type": "markdown",
   "id": "447a0ce5",
   "metadata": {},
   "source": [
    "<a href=\"#top\">back to top</a>"
   ]
  },
  {
   "cell_type": "markdown",
   "id": "9b2f52f0",
   "metadata": {},
   "source": [
    "#### Accomodates"
   ]
  },
  {
   "cell_type": "code",
   "execution_count": null,
   "id": "bed5d002",
   "metadata": {},
   "outputs": [],
   "source": []
  },
  {
   "cell_type": "markdown",
   "id": "1a2a6d9e",
   "metadata": {},
   "source": [
    "<div class=\"alert alert-block alert-success\">\n",
    "<b>Conlusion:</b> This variable would not be util for the next step\n",
    "</div>"
   ]
  },
  {
   "cell_type": "markdown",
   "id": "a5e260d4",
   "metadata": {},
   "source": [
    "<a href=\"#top\">back to top</a>"
   ]
  },
  {
   "cell_type": "markdown",
   "id": "595c6150",
   "metadata": {},
   "source": [
    "#### Bathrooms"
   ]
  },
  {
   "cell_type": "code",
   "execution_count": null,
   "id": "4a22e15e",
   "metadata": {},
   "outputs": [],
   "source": []
  },
  {
   "cell_type": "markdown",
   "id": "70124ac3",
   "metadata": {},
   "source": [
    "<div class=\"alert alert-block alert-success\">\n",
    "<b>Conlusion:</b> This variable would not be util for the next step\n",
    "</div>"
   ]
  },
  {
   "cell_type": "markdown",
   "id": "4d39e10e",
   "metadata": {},
   "source": [
    "<a href=\"#top\">back to top</a>"
   ]
  },
  {
   "cell_type": "markdown",
   "id": "a84ccc3e",
   "metadata": {},
   "source": [
    "#### Bedrooms"
   ]
  },
  {
   "cell_type": "code",
   "execution_count": null,
   "id": "cf72e0c5",
   "metadata": {},
   "outputs": [],
   "source": []
  },
  {
   "cell_type": "markdown",
   "id": "48208f40",
   "metadata": {},
   "source": [
    "<div class=\"alert alert-block alert-success\">\n",
    "<b>Conlusion:</b> This variable would not be util for the next step\n",
    "</div>"
   ]
  },
  {
   "cell_type": "markdown",
   "id": "0ffa5d45",
   "metadata": {},
   "source": [
    "<a href=\"#top\">back to top</a>"
   ]
  },
  {
   "cell_type": "markdown",
   "id": "547980d4",
   "metadata": {},
   "source": [
    "#### Beds"
   ]
  },
  {
   "cell_type": "code",
   "execution_count": null,
   "id": "48f19661",
   "metadata": {},
   "outputs": [],
   "source": []
  },
  {
   "cell_type": "markdown",
   "id": "d85f552c",
   "metadata": {},
   "source": [
    "<div class=\"alert alert-block alert-success\">\n",
    "<b>Conlusion:</b> This variable would not be util for the next step\n",
    "</div>"
   ]
  },
  {
   "cell_type": "markdown",
   "id": "8384af5e",
   "metadata": {},
   "source": [
    "<a href=\"#top\">back to top</a>"
   ]
  },
  {
   "cell_type": "markdown",
   "id": "2f3f6a2b",
   "metadata": {},
   "source": [
    "#### Square Feet"
   ]
  },
  {
   "cell_type": "code",
   "execution_count": null,
   "id": "ccd4a4ea",
   "metadata": {},
   "outputs": [
    {
     "name": "stdout",
     "output_type": "stream",
     "text": [
      "Missing value for Square Feet columns: 98.069%\n"
     ]
    }
   ],
   "source": [
    "missing_values_rate_display(\"Square Feet\", dataset)"
   ]
  },
  {
   "cell_type": "markdown",
   "id": "dd1d0f26",
   "metadata": {},
   "source": [
    "<div class=\"alert alert-block alert-info\">\n",
    "<b>Rq:</b> We could use other features to estimate its value, but it would create dependence between variables</div>"
   ]
  },
  {
   "cell_type": "markdown",
   "id": "9c6069fd",
   "metadata": {},
   "source": [
    "<div class=\"alert alert-block alert-success\">\n",
    "<b>Conlusion:</b> This variable can't be use, it contains too much missing values\n",
    "</div>"
   ]
  },
  {
   "cell_type": "markdown",
   "id": "355e0f73",
   "metadata": {},
   "source": [
    "<a href=\"#top\">back to top</a>"
   ]
  },
  {
   "cell_type": "markdown",
   "id": "e80eac6c",
   "metadata": {},
   "source": [
    "#### Guests Included"
   ]
  },
  {
   "cell_type": "code",
   "execution_count": null,
   "id": "9edadfd6",
   "metadata": {},
   "outputs": [],
   "source": []
  },
  {
   "cell_type": "markdown",
   "id": "913c2479",
   "metadata": {},
   "source": [
    "<div class=\"alert alert-block alert-success\">\n",
    "<b>Conlusion:</b> This variable would not be util for the next step\n",
    "</div>"
   ]
  },
  {
   "cell_type": "markdown",
   "id": "52a31fa6",
   "metadata": {},
   "source": [
    "<a href=\"#top\">back to top</a>"
   ]
  },
  {
   "cell_type": "markdown",
   "id": "3674ae5c",
   "metadata": {},
   "source": [
    "#### Min Nights"
   ]
  },
  {
   "cell_type": "code",
   "execution_count": null,
   "id": "66c3eae2",
   "metadata": {},
   "outputs": [],
   "source": []
  },
  {
   "cell_type": "markdown",
   "id": "06a4400f",
   "metadata": {},
   "source": [
    "<div class=\"alert alert-block alert-success\">\n",
    "<b>Conlusion:</b> This variable would not be util for the next step\n",
    "</div>"
   ]
  },
  {
   "cell_type": "markdown",
   "id": "00688757",
   "metadata": {},
   "source": [
    "<a href=\"#top\">back to top</a>"
   ]
  },
  {
   "cell_type": "markdown",
   "id": "ed878e86",
   "metadata": {},
   "source": [
    "#### Reviews"
   ]
  },
  {
   "cell_type": "code",
   "execution_count": null,
   "id": "69d5031b",
   "metadata": {},
   "outputs": [
    {
     "ename": "NameError",
     "evalue": "name 'dataset' is not defined",
     "output_type": "error",
     "traceback": [
      "\u001b[0;31m---------------------------------------------------------------------------\u001b[0m",
      "\u001b[0;31mNameError\u001b[0m                                 Traceback (most recent call last)",
      "\u001b[0;32m/var/folders/qn/6lf74ttj32jdlg3fhm_1bm240000gn/T/ipykernel_91467/1298048672.py\u001b[0m in \u001b[0;36m<module>\u001b[0;34m\u001b[0m\n\u001b[0;32m----> 1\u001b[0;31m \u001b[0mmissing_values_rate_display\u001b[0m\u001b[0;34m(\u001b[0m\u001b[0;34m\"Review\"\u001b[0m\u001b[0;34m,\u001b[0m \u001b[0mdataset\u001b[0m\u001b[0;34m)\u001b[0m\u001b[0;34m\u001b[0m\u001b[0;34m\u001b[0m\u001b[0m\n\u001b[0m",
      "\u001b[0;31mNameError\u001b[0m: name 'dataset' is not defined"
     ]
    }
   ],
   "source": [
    "missing_values_rate_display(\"Review\", dataset)"
   ]
  },
  {
   "cell_type": "markdown",
   "id": "3df24aba",
   "metadata": {},
   "source": [
    "<div class=\"alert alert-block alert-success\">\n",
    "<b>Conlusion:</b> This variable would not be util for the next step\n",
    "</div>"
   ]
  },
  {
   "cell_type": "markdown",
   "id": "83026093",
   "metadata": {},
   "source": [
    "<a href=\"#top\">back to top</a>"
   ]
  },
  {
   "cell_type": "markdown",
   "id": "dff99d5e",
   "metadata": {},
   "source": [
    "#### First Review"
   ]
  },
  {
   "cell_type": "code",
   "execution_count": null,
   "id": "f7f1b393",
   "metadata": {},
   "outputs": [],
   "source": []
  },
  {
   "cell_type": "markdown",
   "id": "7092f0cb",
   "metadata": {},
   "source": [
    "<div class=\"alert alert-block alert-success\">\n",
    "<b>Conlusion:</b> This variable would not be util for the next step\n",
    "</div>"
   ]
  },
  {
   "cell_type": "markdown",
   "id": "3d350068",
   "metadata": {},
   "source": [
    "<a href=\"#top\">back to top</a>"
   ]
  },
  {
   "cell_type": "markdown",
   "id": "587613c4",
   "metadata": {},
   "source": [
    "#### Last Review"
   ]
  },
  {
   "cell_type": "code",
   "execution_count": null,
   "id": "824b4d56",
   "metadata": {},
   "outputs": [],
   "source": []
  },
  {
   "cell_type": "markdown",
   "id": "43329bc6",
   "metadata": {},
   "source": [
    "<div class=\"alert alert-block alert-success\">\n",
    "<b>Conlusion:</b> This variable would not be util for the next step\n",
    "</div>"
   ]
  },
  {
   "cell_type": "markdown",
   "id": "56c83425",
   "metadata": {},
   "source": [
    "<a href=\"#top\">back to top</a>"
   ]
  },
  {
   "cell_type": "markdown",
   "id": "0570dd6d",
   "metadata": {},
   "source": [
    "#### Overall Rating"
   ]
  },
  {
   "cell_type": "code",
   "execution_count": null,
   "id": "eef1195d",
   "metadata": {},
   "outputs": [],
   "source": []
  },
  {
   "cell_type": "markdown",
   "id": "d0d14ab8",
   "metadata": {},
   "source": [
    "<div class=\"alert alert-block alert-success\">\n",
    "<b>Conlusion:</b> This variable would not be util for the next step\n",
    "</div>"
   ]
  },
  {
   "cell_type": "markdown",
   "id": "3a1ae7ca",
   "metadata": {},
   "source": [
    "<a href=\"#top\">back to top</a>"
   ]
  },
  {
   "cell_type": "markdown",
   "id": "32b4d7d2",
   "metadata": {},
   "source": [
    "#### Accuracy Rating"
   ]
  },
  {
   "cell_type": "code",
   "execution_count": null,
   "id": "5ac5eca8",
   "metadata": {},
   "outputs": [],
   "source": []
  },
  {
   "cell_type": "markdown",
   "id": "5a788508",
   "metadata": {},
   "source": [
    "<div class=\"alert alert-block alert-success\">\n",
    "<b>Conlusion:</b> This variable would not be util for the next step\n",
    "</div>"
   ]
  },
  {
   "cell_type": "markdown",
   "id": "12a529fe",
   "metadata": {},
   "source": [
    "<a href=\"#top\">back to top</a>"
   ]
  },
  {
   "cell_type": "markdown",
   "id": "4ab2aa92",
   "metadata": {},
   "source": [
    "#### Cleanliness Rating"
   ]
  },
  {
   "cell_type": "code",
   "execution_count": null,
   "id": "4be3815e",
   "metadata": {},
   "outputs": [],
   "source": []
  },
  {
   "cell_type": "markdown",
   "id": "154c9aee",
   "metadata": {},
   "source": [
    "<div class=\"alert alert-block alert-success\">\n",
    "<b>Conlusion:</b> This variable would not be util for the next step\n",
    "</div>"
   ]
  },
  {
   "cell_type": "markdown",
   "id": "4295bab6",
   "metadata": {},
   "source": [
    "<a href=\"#top\">back to top</a>"
   ]
  },
  {
   "cell_type": "markdown",
   "id": "7adb4347",
   "metadata": {},
   "source": [
    "#### Checkin Rating"
   ]
  },
  {
   "cell_type": "code",
   "execution_count": null,
   "id": "972a1d26",
   "metadata": {},
   "outputs": [],
   "source": []
  },
  {
   "cell_type": "markdown",
   "id": "9edb572a",
   "metadata": {},
   "source": [
    "<div class=\"alert alert-block alert-success\">\n",
    "<b>Conlusion:</b> This variable would not be util for the next step\n",
    "</div>"
   ]
  },
  {
   "cell_type": "markdown",
   "id": "daff6ec5",
   "metadata": {},
   "source": [
    "<a href=\"#top\">back to top</a>"
   ]
  },
  {
   "cell_type": "markdown",
   "id": "e52f8fc7",
   "metadata": {},
   "source": [
    "#### Communication Rating"
   ]
  },
  {
   "cell_type": "code",
   "execution_count": null,
   "id": "aaa77f24",
   "metadata": {},
   "outputs": [],
   "source": []
  },
  {
   "cell_type": "markdown",
   "id": "5f2e0ff6",
   "metadata": {},
   "source": [
    "<div class=\"alert alert-block alert-success\">\n",
    "<b>Conlusion:</b> This variable would not be util for the next step\n",
    "</div>"
   ]
  },
  {
   "cell_type": "markdown",
   "id": "6cf98fd1",
   "metadata": {},
   "source": [
    "<a href=\"#top\">back to top</a>"
   ]
  },
  {
   "cell_type": "markdown",
   "id": "bff51378",
   "metadata": {},
   "source": [
    "#### Location Rating"
   ]
  },
  {
   "cell_type": "code",
   "execution_count": null,
   "id": "7559979c",
   "metadata": {},
   "outputs": [],
   "source": []
  },
  {
   "cell_type": "markdown",
   "id": "c0251c14",
   "metadata": {},
   "source": [
    "<div class=\"alert alert-block alert-success\">\n",
    "<b>Conlusion:</b> This variable would not be util for the next step\n",
    "</div>"
   ]
  },
  {
   "cell_type": "markdown",
   "id": "ce5cb8d3",
   "metadata": {},
   "source": [
    "<a href=\"#top\">back to top</a>"
   ]
  },
  {
   "cell_type": "markdown",
   "id": "bf4e8cad",
   "metadata": {},
   "source": [
    "#### Value Rating"
   ]
  },
  {
   "cell_type": "code",
   "execution_count": null,
   "id": "54cb4152",
   "metadata": {},
   "outputs": [],
   "source": []
  },
  {
   "cell_type": "markdown",
   "id": "281ea965",
   "metadata": {},
   "source": [
    "<div class=\"alert alert-block alert-success\">\n",
    "<b>Conlusion:</b> This variable would not be util for the next step\n",
    "</div>"
   ]
  },
  {
   "cell_type": "markdown",
   "id": "97b31e0e",
   "metadata": {},
   "source": [
    "<a href=\"#top\">back to top</a>"
   ]
  },
  {
   "cell_type": "markdown",
   "id": "bd332983",
   "metadata": {},
   "source": [
    "#### Instant Bookable"
   ]
  },
  {
   "cell_type": "code",
   "execution_count": null,
   "id": "ae1f29c6",
   "metadata": {},
   "outputs": [],
   "source": []
  },
  {
   "cell_type": "markdown",
   "id": "ed07d6dd",
   "metadata": {},
   "source": [
    "<div class=\"alert alert-block alert-success\">\n",
    "<b>Conlusion:</b> This variable would not be util for the next step\n",
    "</div>"
   ]
  },
  {
   "cell_type": "markdown",
   "id": "13143bea",
   "metadata": {},
   "source": [
    "<a href=\"#top\">back to top</a>"
   ]
  },
  {
   "cell_type": "markdown",
   "id": "307f352d",
   "metadata": {},
   "source": [
    "#### Business Travel Ready"
   ]
  },
  {
   "cell_type": "code",
   "execution_count": null,
   "id": "b075a9fb",
   "metadata": {},
   "outputs": [],
   "source": []
  },
  {
   "cell_type": "markdown",
   "id": "cf11fbe8",
   "metadata": {},
   "source": [
    "<div class=\"alert alert-block alert-success\">\n",
    "<b>Conlusion:</b> This variable would not be util for the next step\n",
    "</div>"
   ]
  },
  {
   "cell_type": "markdown",
   "id": "7cc2fdfa",
   "metadata": {},
   "source": [
    "<a href=\"#top\">back to top</a>"
   ]
  },
  {
   "cell_type": "markdown",
   "id": "cc06aa91",
   "metadata": {},
   "source": [
    "<a name=\"target_analysis\">\n",
    "\n",
    "### Target analysis"
   ]
  },
  {
   "cell_type": "code",
   "execution_count": null,
   "id": "289f2459",
   "metadata": {},
   "outputs": [],
   "source": []
  },
  {
   "cell_type": "markdown",
   "id": "63935cbe",
   "metadata": {},
   "source": [
    "<a href=\"#top\">back to top</a>"
   ]
  },
  {
   "cell_type": "markdown",
   "id": "dffa99af",
   "metadata": {},
   "source": [
    "<a name=\"pca\">\n",
    "\n",
    "### PCA"
   ]
  },
  {
   "cell_type": "code",
   "execution_count": null,
   "id": "a9cc3770",
   "metadata": {},
   "outputs": [],
   "source": []
  },
  {
   "cell_type": "markdown",
   "id": "beb03055",
   "metadata": {},
   "source": [
    "<a href=\"#top\">back to top</a>"
   ]
  },
  {
   "cell_type": "markdown",
   "id": "a75ff4b2",
   "metadata": {},
   "source": [
    "<a name=\"conclusion\">\n",
    "\n",
    "### Conclusion"
   ]
  },
  {
   "cell_type": "markdown",
   "id": "5ce8c3fa",
   "metadata": {},
   "source": [
    "<div class=\"alert alert-block alert-success\">\n",
    "On enleve les variables:\n",
    "- ID/Name:  \n",
    "Listing ID,Listing Name,Host ID,Host Name  \n",
    "  \n",
    "- Une seule valeur possible:  \n",
    "City,Country Code,Country  \n",
    "   \n",
    "- Trop de valeurs manquantes:   \n",
    "square_feet  \n",
    "</div>"
   ]
  },
  {
   "cell_type": "markdown",
   "id": "b4537c3d",
   "metadata": {},
   "source": [
    "<a href=\"#top\">back to top</a>"
   ]
  },
  {
   "cell_type": "markdown",
   "id": "678ac947",
   "metadata": {},
   "source": [
    "<a name=\"preprocessing\">\n",
    "\n",
    "## Preprocessing\n",
    "---"
   ]
  },
  {
   "cell_type": "markdown",
   "id": "9b57ca85",
   "metadata": {},
   "source": [
    "<a name=\"split\">\n",
    "\n",
    "### Split"
   ]
  },
  {
   "cell_type": "code",
   "execution_count": null,
   "id": "ca9e5c37",
   "metadata": {},
   "outputs": [],
   "source": []
  },
  {
   "cell_type": "markdown",
   "id": "409b8df3",
   "metadata": {},
   "source": [
    "<a href=\"#top\">back to top</a>"
   ]
  },
  {
   "cell_type": "markdown",
   "id": "3c9e3ce1",
   "metadata": {},
   "source": [
    "<a name=\"missing_values\">\n",
    "\n",
    "### Missing values"
   ]
  },
  {
   "cell_type": "code",
   "execution_count": null,
   "id": "4c801598",
   "metadata": {},
   "outputs": [],
   "source": []
  },
  {
   "cell_type": "markdown",
   "id": "a9ad4f05",
   "metadata": {},
   "source": [
    "<a href=\"#top\">back to top</a>"
   ]
  },
  {
   "cell_type": "markdown",
   "id": "e3a7b443",
   "metadata": {},
   "source": [
    "<a name=\"scaling\">\n",
    "\n",
    "### Scaling"
   ]
  },
  {
   "cell_type": "code",
   "execution_count": null,
   "id": "3b79e7de",
   "metadata": {},
   "outputs": [],
   "source": []
  },
  {
   "cell_type": "markdown",
   "id": "27a41336",
   "metadata": {},
   "source": [
    "<a href=\"#top\">back to top</a>"
   ]
  },
  {
   "cell_type": "markdown",
   "id": "37e94ffd",
   "metadata": {},
   "source": [
    "<a name=\"outliers\">\n",
    "\n",
    "### Outliers"
   ]
  },
  {
   "cell_type": "code",
   "execution_count": null,
   "id": "2ab76cd3",
   "metadata": {},
   "outputs": [],
   "source": []
  },
  {
   "cell_type": "markdown",
   "id": "e45577e0",
   "metadata": {},
   "source": [
    "<a href=\"#top\">back to top</a>"
   ]
  },
  {
   "cell_type": "markdown",
   "id": "484a8073",
   "metadata": {},
   "source": [
    "<a name=\"cat_feat\">\n",
    "\n",
    "### Categorical features"
   ]
  },
  {
   "cell_type": "code",
   "execution_count": null,
   "id": "55a18b3a",
   "metadata": {},
   "outputs": [],
   "source": []
  },
  {
   "cell_type": "markdown",
   "id": "1c70b5c5",
   "metadata": {},
   "source": [
    "<a href=\"#top\">back to top</a>"
   ]
  },
  {
   "cell_type": "markdown",
   "id": "431b7a5c",
   "metadata": {},
   "source": [
    "<a name=\"feature_eng\">\n",
    "\n",
    "### Feature engineering"
   ]
  },
  {
   "cell_type": "code",
   "execution_count": null,
   "id": "204a6229",
   "metadata": {},
   "outputs": [],
   "source": []
  },
  {
   "cell_type": "markdown",
   "id": "d4cf1e51",
   "metadata": {},
   "source": [
    "<a href=\"#top\">back to top</a>"
   ]
  },
  {
   "cell_type": "markdown",
   "id": "9e1182c4",
   "metadata": {},
   "source": [
    "<a name=\"modeling\">\n",
    "\n",
    "## Modeling"
   ]
  },
  {
   "cell_type": "code",
   "execution_count": null,
   "id": "86a4105c",
   "metadata": {},
   "outputs": [],
   "source": [
    "from sklearn.linear_model import LinearRegression, SGDRegressor, ElasticNet, BayesianRidge\n",
    "from sklearn.kernel_ridge import KernelRidge\n",
    "from sklearn.ensemble import GradientBoostingRegressor, RandomForestRegressor\n",
    "from sklearn.svm import SVR"
   ]
  },
  {
   "cell_type": "markdown",
   "id": "3f7c2845",
   "metadata": {},
   "source": [
    "<a href=\"#top\">back to top</a>"
   ]
  },
  {
   "cell_type": "markdown",
   "id": "4f899bcb",
   "metadata": {},
   "source": [
    "<a name=\"feature_selection\">\n",
    "\n",
    "### Feature selection"
   ]
  },
  {
   "cell_type": "code",
   "execution_count": null,
   "id": "525a72a6",
   "metadata": {},
   "outputs": [],
   "source": []
  },
  {
   "cell_type": "markdown",
   "id": "4007ee52",
   "metadata": {},
   "source": [
    "<a href=\"#top\">back to top</a>"
   ]
  },
  {
   "cell_type": "markdown",
   "id": "d7fada51",
   "metadata": {},
   "source": [
    "<a name=\"model_selection\">\n",
    "\n",
    "### Model selection"
   ]
  },
  {
   "cell_type": "code",
   "execution_count": null,
   "id": "c1ae6379",
   "metadata": {},
   "outputs": [],
   "source": []
  },
  {
   "cell_type": "markdown",
   "id": "852bf1d2",
   "metadata": {},
   "source": [
    "<a href=\"#top\">back to top</a>"
   ]
  },
  {
   "cell_type": "markdown",
   "id": "4085023f",
   "metadata": {},
   "source": [
    "<a name=\"scoring\">\n",
    "\n",
    "## Scoring\n",
    "---"
   ]
  },
  {
   "cell_type": "code",
   "execution_count": null,
   "id": "ed739232",
   "metadata": {},
   "outputs": [],
   "source": []
  },
  {
   "cell_type": "markdown",
   "id": "6a7934f8",
   "metadata": {},
   "source": [
    "<a href=\"#top\">back to top</a>"
   ]
  }
 ],
 "metadata": {
  "kernelspec": {
   "display_name": "Python 3 (ipykernel)",
   "language": "python",
   "name": "python3"
  },
  "language_info": {
   "codemirror_mode": {
    "name": "ipython",
    "version": 3
   },
   "file_extension": ".py",
   "mimetype": "text/x-python",
   "name": "python",
   "nbconvert_exporter": "python",
   "pygments_lexer": "ipython3",
   "version": "3.9.12"
  },
  "vscode": {
   "interpreter": {
    "hash": "4b34fc7515f59f789622c1738f96139c1bf79521d1a0fbcde99bb7c08e83c706"
   }
  }
 },
 "nbformat": 4,
 "nbformat_minor": 5
}
