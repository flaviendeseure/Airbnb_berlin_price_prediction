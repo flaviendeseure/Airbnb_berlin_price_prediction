{
   "cells": [
      {
         "cell_type": "markdown",
         "id": "c8acec6e",
         "metadata": {},
         "source": [
            "# Airbnb Berlin Price Prediction \n",
            "---\n"
         ]
      },
      {
         "cell_type": "markdown",
         "id": "373a2ccf",
         "metadata": {},
         "source": [
            "### *Table of Contents*\n",
            "- [Exploratory Data Analysis](#eda)\n",
            "- [Preprocessing](#preprocessing)\n",
            "- [Modeling](#modeling)"
         ]
      },
      {
         "cell_type": "code",
         "execution_count": 54,
         "id": "ce9452c5",
         "metadata": {},
         "outputs": [],
         "source": [
            "import pandas as pd\n",
            "import numpy as np\n",
            "\n",
            "#\n",
            "import matplotlib.pyplot as plt\n",
            "\n",
            "#\n",
            "from sklearn.model_selection import train_test_split\n",
            "\n",
            "import os"
         ]
      },
      {
         "cell_type": "markdown",
         "id": "66e6c772",
         "metadata": {},
         "source": [
            "### Import data"
         ]
      },
      {
         "cell_type": "code",
         "execution_count": 55,
         "id": "6f73a303",
         "metadata": {},
         "outputs": [],
         "source": [
            "data_dir = \"data\""
         ]
      },
      {
         "cell_type": "code",
         "execution_count": 56,
         "id": "14d5fd3a",
         "metadata": {},
         "outputs": [],
         "source": [
            "trainset = pd.read_csv('data/train_airbnb_berlin.csv')\n",
            "X_train = trainset.drop(\"Price\", axis=1)\n",
            "y_train = trainset[\"Price\"]"
         ]
      },
      {
         "cell_type": "code",
         "execution_count": 57,
         "id": "b22c86f8",
         "metadata": {},
         "outputs": [
            {
               "data": {
                  "text/plain": [
                     "Index(['Listing ID', 'Listing Name', 'Host ID', 'Host Name', 'Host Since',\n",
                     "       'Host Response Time', 'Host Response Rate', 'Is Superhost',\n",
                     "       'neighbourhood', 'Neighborhood Group', 'City', 'Postal Code',\n",
                     "       'Country Code', 'Country', 'Latitude', 'Longitude', 'Is Exact Location',\n",
                     "       'Property Type', 'Room Type', 'Accomodates', 'Bathrooms', 'Bedrooms',\n",
                     "       'Beds', 'Square Feet', 'Guests Included', 'Min Nights', 'Reviews',\n",
                     "       'First Review', 'Last Review', 'Overall Rating', 'Accuracy Rating',\n",
                     "       'Cleanliness Rating', 'Checkin Rating', 'Communication Rating',\n",
                     "       'Location Rating', 'Value Rating', 'Instant Bookable',\n",
                     "       'Business Travel Ready'],\n",
                     "      dtype='object')"
                  ]
               },
               "execution_count": 57,
               "metadata": {},
               "output_type": "execute_result"
            }
         ],
         "source": [
            "X_train.columns"
         ]
      },
      {
         "cell_type": "code",
         "execution_count": 58,
         "id": "0a44990d",
         "metadata": {},
         "outputs": [],
         "source": [
            "sub_X = X_train[[\"Room Type\", \"Accomodates\", \"Bathrooms\", \"Bedrooms\", \"Beds\", \"Guests Included\", \"Min Nights\"]]"
         ]
      },
      {
         "cell_type": "code",
         "execution_count": 59,
         "id": "1c0d59b0",
         "metadata": {},
         "outputs": [
            {
               "data": {
                  "text/html": [
                     "<div>\n",
                     "<style scoped>\n",
                     "    .dataframe tbody tr th:only-of-type {\n",
                     "        vertical-align: middle;\n",
                     "    }\n",
                     "\n",
                     "    .dataframe tbody tr th {\n",
                     "        vertical-align: top;\n",
                     "    }\n",
                     "\n",
                     "    .dataframe thead th {\n",
                     "        text-align: right;\n",
                     "    }\n",
                     "</style>\n",
                     "<table border=\"1\" class=\"dataframe\">\n",
                     "  <thead>\n",
                     "    <tr style=\"text-align: right;\">\n",
                     "      <th></th>\n",
                     "      <th>Room Type</th>\n",
                     "      <th>Accomodates</th>\n",
                     "      <th>Bathrooms</th>\n",
                     "      <th>Bedrooms</th>\n",
                     "      <th>Beds</th>\n",
                     "      <th>Guests Included</th>\n",
                     "      <th>Min Nights</th>\n",
                     "    </tr>\n",
                     "  </thead>\n",
                     "  <tbody>\n",
                     "    <tr>\n",
                     "      <th>0</th>\n",
                     "      <td>Private room</td>\n",
                     "      <td>2</td>\n",
                     "      <td>1.0</td>\n",
                     "      <td>1.0</td>\n",
                     "      <td>1.0</td>\n",
                     "      <td>1</td>\n",
                     "      <td>2</td>\n",
                     "    </tr>\n",
                     "    <tr>\n",
                     "      <th>1</th>\n",
                     "      <td>Entire home/apt</td>\n",
                     "      <td>2</td>\n",
                     "      <td>1.0</td>\n",
                     "      <td>2.0</td>\n",
                     "      <td>2.0</td>\n",
                     "      <td>2</td>\n",
                     "      <td>7</td>\n",
                     "    </tr>\n",
                     "    <tr>\n",
                     "      <th>2</th>\n",
                     "      <td>Entire home/apt</td>\n",
                     "      <td>3</td>\n",
                     "      <td>1.0</td>\n",
                     "      <td>1.0</td>\n",
                     "      <td>2.0</td>\n",
                     "      <td>1</td>\n",
                     "      <td>1</td>\n",
                     "    </tr>\n",
                     "    <tr>\n",
                     "      <th>3</th>\n",
                     "      <td>Private room</td>\n",
                     "      <td>2</td>\n",
                     "      <td>1.0</td>\n",
                     "      <td>1.0</td>\n",
                     "      <td>1.0</td>\n",
                     "      <td>1</td>\n",
                     "      <td>2</td>\n",
                     "    </tr>\n",
                     "    <tr>\n",
                     "      <th>4</th>\n",
                     "      <td>Private room</td>\n",
                     "      <td>3</td>\n",
                     "      <td>1.0</td>\n",
                     "      <td>1.0</td>\n",
                     "      <td>2.0</td>\n",
                     "      <td>1</td>\n",
                     "      <td>6</td>\n",
                     "    </tr>\n",
                     "  </tbody>\n",
                     "</table>\n",
                     "</div>"
                  ],
                  "text/plain": [
                     "         Room Type Accomodates Bathrooms Bedrooms Beds Guests Included  \\\n",
                     "0     Private room           2       1.0      1.0  1.0               1   \n",
                     "1  Entire home/apt           2       1.0      2.0  2.0               2   \n",
                     "2  Entire home/apt           3       1.0      1.0  2.0               1   \n",
                     "3     Private room           2       1.0      1.0  1.0               1   \n",
                     "4     Private room           3       1.0      1.0  2.0               1   \n",
                     "\n",
                     "  Min Nights  \n",
                     "0          2  \n",
                     "1          7  \n",
                     "2          1  \n",
                     "3          2  \n",
                     "4          6  "
                  ]
               },
               "execution_count": 59,
               "metadata": {},
               "output_type": "execute_result"
            }
         ],
         "source": [
            "sub_X.head()"
         ]
      },
      {
         "cell_type": "code",
         "execution_count": 60,
         "id": "1b942271",
         "metadata": {},
         "outputs": [
            {
               "name": "stdout",
               "output_type": "stream",
               "text": [
                  "<class 'pandas.core.frame.DataFrame'>\n",
                  "RangeIndex: 15692 entries, 0 to 15691\n",
                  "Data columns (total 7 columns):\n",
                  "Room Type          15692 non-null object\n",
                  "Accomodates        15692 non-null object\n",
                  "Bathrooms          15678 non-null object\n",
                  "Bedrooms           15687 non-null object\n",
                  "Beds               15684 non-null object\n",
                  "Guests Included    15692 non-null object\n",
                  "Min Nights         15692 non-null object\n",
                  "dtypes: object(7)\n",
                  "memory usage: 429.1+ KB\n"
               ]
            }
         ],
         "source": [
            "sub_X.info()"
         ]
      },
      {
         "cell_type": "code",
         "execution_count": 61,
         "id": "badc81d1",
         "metadata": {},
         "outputs": [
            {
               "name": "stdout",
               "output_type": "stream",
               "text": [
                  "Nombre de NaN spéciaux dans la colonne Room Type : 0\n",
                  "Nombre de NaN spéciaux dans la colonne Accomodates : 0\n",
                  "Nombre de NaN spéciaux dans la colonne Bathrooms : 14\n",
                  "Nombre de NaN spéciaux dans la colonne Bedrooms : 5\n",
                  "Nombre de NaN spéciaux dans la colonne Beds : 8\n",
                  "Nombre de NaN spéciaux dans la colonne Guests Included : 0\n",
                  "Nombre de NaN spéciaux dans la colonne Min Nights : 0\n"
               ]
            }
         ],
         "source": [
            "cpt=0\n",
            "carac_spec=[];\n",
            "\n",
            "for col in sub_X:\n",
            "    for el in sub_X[col].values:\n",
            "        if type(el) != str:\n",
            "            cpt+=1\n",
            "            carac_spec.append(el)\n",
            "    print(\"Nombre de NaN spéciaux dans la colonne\", col, \":\" ,cpt)\n",
            "    cpt = 0\n"
         ]
      },
      {
         "cell_type": "code",
         "execution_count": 66,
         "id": "50ebceeb",
         "metadata": {},
         "outputs": [
            {
               "data": {
                  "text/html": [
                     "<div>\n",
                     "<style scoped>\n",
                     "    .dataframe tbody tr th:only-of-type {\n",
                     "        vertical-align: middle;\n",
                     "    }\n",
                     "\n",
                     "    .dataframe tbody tr th {\n",
                     "        vertical-align: top;\n",
                     "    }\n",
                     "\n",
                     "    .dataframe thead th {\n",
                     "        text-align: right;\n",
                     "    }\n",
                     "</style>\n",
                     "<table border=\"1\" class=\"dataframe\">\n",
                     "  <thead>\n",
                     "    <tr style=\"text-align: right;\">\n",
                     "      <th></th>\n",
                     "      <th>Room Type</th>\n",
                     "      <th>Accomodates</th>\n",
                     "      <th>Bathrooms</th>\n",
                     "      <th>Bedrooms</th>\n",
                     "      <th>Beds</th>\n",
                     "      <th>Guests Included</th>\n",
                     "      <th>Min Nights</th>\n",
                     "    </tr>\n",
                     "  </thead>\n",
                     "  <tbody>\n",
                     "    <tr>\n",
                     "      <th>count</th>\n",
                     "      <td>15692</td>\n",
                     "      <td>15692</td>\n",
                     "      <td>15678</td>\n",
                     "      <td>15687</td>\n",
                     "      <td>15684</td>\n",
                     "      <td>15692</td>\n",
                     "      <td>15692</td>\n",
                     "    </tr>\n",
                     "    <tr>\n",
                     "      <th>unique</th>\n",
                     "      <td>3</td>\n",
                     "      <td>13</td>\n",
                     "      <td>8</td>\n",
                     "      <td>7</td>\n",
                     "      <td>12</td>\n",
                     "      <td>8</td>\n",
                     "      <td>25</td>\n",
                     "    </tr>\n",
                     "    <tr>\n",
                     "      <th>top</th>\n",
                     "      <td>Private room</td>\n",
                     "      <td>2</td>\n",
                     "      <td>1.0</td>\n",
                     "      <td>1.0</td>\n",
                     "      <td>1.0</td>\n",
                     "      <td>1</td>\n",
                     "      <td>2</td>\n",
                     "    </tr>\n",
                     "    <tr>\n",
                     "      <th>freq</th>\n",
                     "      <td>7877</td>\n",
                     "      <td>8528</td>\n",
                     "      <td>13829</td>\n",
                     "      <td>11832</td>\n",
                     "      <td>10023</td>\n",
                     "      <td>12056</td>\n",
                     "      <td>4064</td>\n",
                     "    </tr>\n",
                     "  </tbody>\n",
                     "</table>\n",
                     "</div>"
                  ],
                  "text/plain": [
                     "           Room Type Accomodates Bathrooms Bedrooms   Beds Guests Included  \\\n",
                     "count          15692       15692     15678    15687  15684           15692   \n",
                     "unique             3          13         8        7     12               8   \n",
                     "top     Private room           2       1.0      1.0    1.0               1   \n",
                     "freq            7877        8528     13829    11832  10023           12056   \n",
                     "\n",
                     "       Min Nights  \n",
                     "count       15692  \n",
                     "unique         25  \n",
                     "top             2  \n",
                     "freq         4064  "
                  ]
               },
               "execution_count": 66,
               "metadata": {},
               "output_type": "execute_result"
            }
         ],
         "source": [
            "sub_X.describe()"
         ]
      },
      {
         "cell_type": "code",
         "execution_count": null,
         "id": "431de796",
         "metadata": {},
         "outputs": [],
         "source": []
      }
   ],
   "metadata": {
      "kernelspec": {
         "display_name": "Python 3.7.3 ('base')",
         "language": "python",
         "name": "python3"
      },
      "language_info": {
         "codemirror_mode": {
            "name": "ipython",
            "version": 3
         },
         "file_extension": ".py",
         "mimetype": "text/x-python",
         "name": "python",
         "nbconvert_exporter": "python",
         "pygments_lexer": "ipython3",
         "version": "3.7.3"
      },
      "vscode": {
         "interpreter": {
            "hash": "966abac22b8ec828a39f7f902d958c158b2a0f1246f1f3a3aa25e32b94c116e7"
         }
      }
   },
   "nbformat": 4,
   "nbformat_minor": 5
}
